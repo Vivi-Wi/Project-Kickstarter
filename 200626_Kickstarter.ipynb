{
 "cells": [
  {
   "cell_type": "markdown",
   "metadata": {},
   "source": [
    "## Project Kickstarter \n",
    "by Vivika Wilde wilde.vivika@gmail.com\n",
    "   Sebastian Fuhrer fuhrer_sebastian@web.de"
   ]
  },
  {
   "cell_type": "markdown",
   "metadata": {},
   "source": [
    "## Objective \n",
    "\n",
    "In recent years, the range of funding options for projects created by individuals and small companies has expanded considerably. In addition to savings, bank loans, friends & family funding and other traditional options, crowdfunding has become a popular and readily available alternative. \n",
    "\n",
    "Kickstarter, founded in 2009, is one particularly well-known and popular crowdfunding platform. It has an all-or-nothing funding model, whereby a project is only funded if it meets its goal amount; otherwise no money is given by backers to a project.\n",
    "A huge variety of factors contribute to the success or failure of a project — in general, and also on Kickstarter. Some of these are able to be quantified or categorized, which allows for the construction of a model to attempt to predict whether a project will succeed or not. The aim of this project is to construct such a model and also to analyse Kickstarter project data more generally, in order to help potential project creators assess whether or not Kickstarter is a good funding option for them, and what their chances of success are.\n"
   ]
  },
  {
   "cell_type": "markdown",
   "metadata": {},
   "source": [
    "## Set up"
   ]
  },
  {
   "cell_type": "code",
   "execution_count": 1,
   "metadata": {},
   "outputs": [],
   "source": [
    "import glob, os, re\n",
    "import pandas as pd \n",
    "import numpy as np\n",
    "import matplotlib.pyplot as plt\n",
    "from datetime import datetime\n",
    "import json\n",
    "%matplotlib inline"
   ]
  },
  {
   "cell_type": "code",
   "execution_count": 2,
   "metadata": {},
   "outputs": [],
   "source": [
    "data = pd.concat(map(pd.read_csv, glob.glob(os.path.join('', \"data/*.csv\"))))\n",
    "data = data.reset_index(drop=True)"
   ]
  },
  {
   "cell_type": "code",
   "execution_count": 3,
   "metadata": {},
   "outputs": [],
   "source": [
    "df = data.copy()"
   ]
  },
  {
   "cell_type": "markdown",
   "metadata": {},
   "source": [
    "## Variable names and description"
   ]
  },
  {
   "cell_type": "markdown",
   "metadata": {},
   "source": [
    "* **backers_count** - Number of supporters/investors\n",
    "* **blurb** - A short description of the product written for promotional purposes\n",
    "* **category** - Projects have been classified into 16 categories. These categories broadly define the genre a project belongs to. **Subcategory** - Categories are further sub-divided in subcategories to give more details on the project. For instance, the category “Technology” has further been split into subcategories like Gadgets, Web, Apps, Software etc. There are 144 total subcategories.\n",
    "* **converted_pledged_amount** - Total pledged amount in USD.\n",
    "* **country** - Country of origin of the project\n",
    "* **created_at** - Date when Project was created (timestamp)\n",
    "* **creator** - Information on the Creator including ID, name, etc.\n",
    "* **currency** - Currency used to support the project (3-letter code)**???**\n",
    "* **currency_symbol** - Symbol of the currency\n",
    "* **currency_trailing_code** - Defines whether the currency codes are always shown after the amount, independent of the locale.\n",
    "* **current_currency** - **???**\n",
    "* **deadline** - The date before which the goal amount has to be gathered.\n",
    "* **disable_communication** - **???**\n",
    "* **friends** - No values given (208922 NaN and 300 empty lists)\n",
    "* **fx_rate** - **???**\n",
    "* **goal** - Funding amount the project initially asked for **??? USD ???**\n",
    "* **id** - Project ID\n",
    "* **is_backing** - No values given (208922 NaN and 300 empty lists)\n",
    "* **is_starrable** - Whether the project can be marked as favourite or not **???**\n",
    "* **is_starred** - Whether the project was marked as favourite or not **???**\n",
    "* **launched_at** - Launch date of the project (timestamp)\n",
    "* **location** - Project location\n",
    "* **name** - Project name\n",
    "* **permissions** - No values given (208922 NaN and 300 empty lists)\n",
    "* **photo** - Project photo\n",
    "* **pledged** - Pledge amount in original currency\n",
    "* **profile** - **???**\n",
    "* **slug** - **??? Creator-selected keyword id of the project ???**\n",
    "* **source_url** - URL to the category the project belongs to\n",
    "* **spotlight** - Spotlight allows creators to make a home for their project on Kickstarter after they've been successfully funded. Each creator can take control of their page and build a customized, central hub for news, updates, links to finished work, and anything else they want the world to know about their project\n",
    "* **staff_pick** - Staff picks was a feature that highlighted promising projects on the site to give them a boost by helping them get exposure through the email newsletter and highlighted spots around the site. The old 'Kickstarter Staff Pick' badge.\n",
    "* **state** - Was the project successful at the end of the day? state is a categorical variable divided into the levels successful, failed, live, cancelled, undefined and suspended. \n",
    "* **state_changed_at** - Date the state was changed last (timestamp)\n",
    "* **static_usd_rate** - Conversion rate used by Kickstarter to calculate usd_pledged\n",
    "* **urls** - URL to the project's side \n",
    "* **usd_pledged** - Pledged amount in USD (conversion made by Kickstarter)\n",
    "* **usd_type** - **???**"
   ]
  },
  {
   "cell_type": "markdown",
   "metadata": {},
   "source": [
    "## Data types and missings"
   ]
  },
  {
   "cell_type": "code",
   "execution_count": 4,
   "metadata": {},
   "outputs": [
    {
     "data": {
      "text/html": [
       "<div>\n",
       "<style scoped>\n",
       "    .dataframe tbody tr th:only-of-type {\n",
       "        vertical-align: middle;\n",
       "    }\n",
       "\n",
       "    .dataframe tbody tr th {\n",
       "        vertical-align: top;\n",
       "    }\n",
       "\n",
       "    .dataframe thead th {\n",
       "        text-align: right;\n",
       "    }\n",
       "</style>\n",
       "<table border=\"1\" class=\"dataframe\">\n",
       "  <thead>\n",
       "    <tr style=\"text-align: right;\">\n",
       "      <th></th>\n",
       "      <th>backers_count</th>\n",
       "      <th>blurb</th>\n",
       "      <th>category</th>\n",
       "      <th>converted_pledged_amount</th>\n",
       "      <th>country</th>\n",
       "      <th>created_at</th>\n",
       "      <th>creator</th>\n",
       "      <th>currency</th>\n",
       "      <th>currency_symbol</th>\n",
       "      <th>currency_trailing_code</th>\n",
       "      <th>...</th>\n",
       "      <th>slug</th>\n",
       "      <th>source_url</th>\n",
       "      <th>spotlight</th>\n",
       "      <th>staff_pick</th>\n",
       "      <th>state</th>\n",
       "      <th>state_changed_at</th>\n",
       "      <th>static_usd_rate</th>\n",
       "      <th>urls</th>\n",
       "      <th>usd_pledged</th>\n",
       "      <th>usd_type</th>\n",
       "    </tr>\n",
       "  </thead>\n",
       "  <tbody>\n",
       "    <tr>\n",
       "      <th>0</th>\n",
       "      <td>315</td>\n",
       "      <td>Babalus Shoes</td>\n",
       "      <td>{\"id\":266,\"name\":\"Footwear\",\"slug\":\"fashion/fo...</td>\n",
       "      <td>28645</td>\n",
       "      <td>US</td>\n",
       "      <td>1541459205</td>\n",
       "      <td>{\"id\":2094277840,\"name\":\"Lucy Conroy\",\"slug\":\"...</td>\n",
       "      <td>USD</td>\n",
       "      <td>$</td>\n",
       "      <td>True</td>\n",
       "      <td>...</td>\n",
       "      <td>babalus-childrens-shoes</td>\n",
       "      <td>https://www.kickstarter.com/discover/categorie...</td>\n",
       "      <td>False</td>\n",
       "      <td>False</td>\n",
       "      <td>live</td>\n",
       "      <td>1548223375</td>\n",
       "      <td>1.0</td>\n",
       "      <td>{\"web\":{\"project\":\"https://www.kickstarter.com...</td>\n",
       "      <td>28645.0</td>\n",
       "      <td>international</td>\n",
       "    </tr>\n",
       "    <tr>\n",
       "      <th>1</th>\n",
       "      <td>47</td>\n",
       "      <td>A colorful Dia de los Muertos themed oracle de...</td>\n",
       "      <td>{\"id\":273,\"name\":\"Playing Cards\",\"slug\":\"games...</td>\n",
       "      <td>1950</td>\n",
       "      <td>US</td>\n",
       "      <td>1501684093</td>\n",
       "      <td>{\"id\":723886115,\"name\":\"Lisa Vollrath\",\"slug\":...</td>\n",
       "      <td>USD</td>\n",
       "      <td>$</td>\n",
       "      <td>True</td>\n",
       "      <td>...</td>\n",
       "      <td>the-ofrenda-oracle-deck</td>\n",
       "      <td>https://www.kickstarter.com/discover/categorie...</td>\n",
       "      <td>True</td>\n",
       "      <td>False</td>\n",
       "      <td>successful</td>\n",
       "      <td>1504976459</td>\n",
       "      <td>1.0</td>\n",
       "      <td>{\"web\":{\"project\":\"https://www.kickstarter.com...</td>\n",
       "      <td>1950.0</td>\n",
       "      <td>domestic</td>\n",
       "    </tr>\n",
       "  </tbody>\n",
       "</table>\n",
       "<p>2 rows × 37 columns</p>\n",
       "</div>"
      ],
      "text/plain": [
       "   backers_count                                              blurb  \\\n",
       "0            315                                      Babalus Shoes   \n",
       "1             47  A colorful Dia de los Muertos themed oracle de...   \n",
       "\n",
       "                                            category  \\\n",
       "0  {\"id\":266,\"name\":\"Footwear\",\"slug\":\"fashion/fo...   \n",
       "1  {\"id\":273,\"name\":\"Playing Cards\",\"slug\":\"games...   \n",
       "\n",
       "   converted_pledged_amount country  created_at  \\\n",
       "0                     28645      US  1541459205   \n",
       "1                      1950      US  1501684093   \n",
       "\n",
       "                                             creator currency currency_symbol  \\\n",
       "0  {\"id\":2094277840,\"name\":\"Lucy Conroy\",\"slug\":\"...      USD               $   \n",
       "1  {\"id\":723886115,\"name\":\"Lisa Vollrath\",\"slug\":...      USD               $   \n",
       "\n",
       "   currency_trailing_code  ...                     slug  \\\n",
       "0                    True  ...  babalus-childrens-shoes   \n",
       "1                    True  ...  the-ofrenda-oracle-deck   \n",
       "\n",
       "                                          source_url  spotlight staff_pick  \\\n",
       "0  https://www.kickstarter.com/discover/categorie...      False      False   \n",
       "1  https://www.kickstarter.com/discover/categorie...       True      False   \n",
       "\n",
       "        state  state_changed_at  static_usd_rate  \\\n",
       "0        live        1548223375              1.0   \n",
       "1  successful        1504976459              1.0   \n",
       "\n",
       "                                                urls  usd_pledged  \\\n",
       "0  {\"web\":{\"project\":\"https://www.kickstarter.com...      28645.0   \n",
       "1  {\"web\":{\"project\":\"https://www.kickstarter.com...       1950.0   \n",
       "\n",
       "        usd_type  \n",
       "0  international  \n",
       "1       domestic  \n",
       "\n",
       "[2 rows x 37 columns]"
      ]
     },
     "execution_count": 4,
     "metadata": {},
     "output_type": "execute_result"
    }
   ],
   "source": [
    "df.head(2)"
   ]
  },
  {
   "cell_type": "code",
   "execution_count": 5,
   "metadata": {},
   "outputs": [
    {
     "data": {
      "text/html": [
       "<div>\n",
       "<style scoped>\n",
       "    .dataframe tbody tr th:only-of-type {\n",
       "        vertical-align: middle;\n",
       "    }\n",
       "\n",
       "    .dataframe tbody tr th {\n",
       "        vertical-align: top;\n",
       "    }\n",
       "\n",
       "    .dataframe thead th {\n",
       "        text-align: right;\n",
       "    }\n",
       "</style>\n",
       "<table border=\"1\" class=\"dataframe\">\n",
       "  <thead>\n",
       "    <tr style=\"text-align: right;\">\n",
       "      <th></th>\n",
       "      <th>backers_count</th>\n",
       "      <th>blurb</th>\n",
       "      <th>category</th>\n",
       "      <th>converted_pledged_amount</th>\n",
       "      <th>country</th>\n",
       "      <th>created_at</th>\n",
       "      <th>creator</th>\n",
       "      <th>currency</th>\n",
       "      <th>currency_symbol</th>\n",
       "      <th>currency_trailing_code</th>\n",
       "      <th>...</th>\n",
       "      <th>slug</th>\n",
       "      <th>source_url</th>\n",
       "      <th>spotlight</th>\n",
       "      <th>staff_pick</th>\n",
       "      <th>state</th>\n",
       "      <th>state_changed_at</th>\n",
       "      <th>static_usd_rate</th>\n",
       "      <th>urls</th>\n",
       "      <th>usd_pledged</th>\n",
       "      <th>usd_type</th>\n",
       "    </tr>\n",
       "  </thead>\n",
       "  <tbody>\n",
       "    <tr>\n",
       "      <th>209220</th>\n",
       "      <td>76</td>\n",
       "      <td>Seattle Transmedia &amp; Independent Film Festival...</td>\n",
       "      <td>{\"id\":295,\"name\":\"Festivals\",\"slug\":\"film &amp; vi...</td>\n",
       "      <td>5692</td>\n",
       "      <td>US</td>\n",
       "      <td>1425256957</td>\n",
       "      <td>{\"id\":307076473,\"name\":\"Timothy Vernor\",\"is_re...</td>\n",
       "      <td>USD</td>\n",
       "      <td>$</td>\n",
       "      <td>True</td>\n",
       "      <td>...</td>\n",
       "      <td>transmedia-gallery-space-stiff-2015</td>\n",
       "      <td>https://www.kickstarter.com/discover/categorie...</td>\n",
       "      <td>True</td>\n",
       "      <td>False</td>\n",
       "      <td>successful</td>\n",
       "      <td>1429536379</td>\n",
       "      <td>1.0</td>\n",
       "      <td>{\"web\":{\"project\":\"https://www.kickstarter.com...</td>\n",
       "      <td>5692.0</td>\n",
       "      <td>domestic</td>\n",
       "    </tr>\n",
       "    <tr>\n",
       "      <th>209221</th>\n",
       "      <td>44</td>\n",
       "      <td>The @1000TimesYes 2009 Tweet Box is a handmade...</td>\n",
       "      <td>{\"id\":13,\"name\":\"Journalism\",\"slug\":\"journalis...</td>\n",
       "      <td>1293</td>\n",
       "      <td>US</td>\n",
       "      <td>1263225900</td>\n",
       "      <td>{\"id\":1718677513,\"name\":\"Article\",\"slug\":\"arti...</td>\n",
       "      <td>USD</td>\n",
       "      <td>$</td>\n",
       "      <td>True</td>\n",
       "      <td>...</td>\n",
       "      <td>the-1000timesyes-2009-tweet-box</td>\n",
       "      <td>https://www.kickstarter.com/discover/categorie...</td>\n",
       "      <td>True</td>\n",
       "      <td>True</td>\n",
       "      <td>successful</td>\n",
       "      <td>1266814815</td>\n",
       "      <td>1.0</td>\n",
       "      <td>{\"web\":{\"project\":\"https://www.kickstarter.com...</td>\n",
       "      <td>1293.0</td>\n",
       "      <td>domestic</td>\n",
       "    </tr>\n",
       "  </tbody>\n",
       "</table>\n",
       "<p>2 rows × 37 columns</p>\n",
       "</div>"
      ],
      "text/plain": [
       "        backers_count                                              blurb  \\\n",
       "209220             76  Seattle Transmedia & Independent Film Festival...   \n",
       "209221             44  The @1000TimesYes 2009 Tweet Box is a handmade...   \n",
       "\n",
       "                                                 category  \\\n",
       "209220  {\"id\":295,\"name\":\"Festivals\",\"slug\":\"film & vi...   \n",
       "209221  {\"id\":13,\"name\":\"Journalism\",\"slug\":\"journalis...   \n",
       "\n",
       "        converted_pledged_amount country  created_at  \\\n",
       "209220                      5692      US  1425256957   \n",
       "209221                      1293      US  1263225900   \n",
       "\n",
       "                                                  creator currency  \\\n",
       "209220  {\"id\":307076473,\"name\":\"Timothy Vernor\",\"is_re...      USD   \n",
       "209221  {\"id\":1718677513,\"name\":\"Article\",\"slug\":\"arti...      USD   \n",
       "\n",
       "       currency_symbol  currency_trailing_code  ...  \\\n",
       "209220               $                    True  ...   \n",
       "209221               $                    True  ...   \n",
       "\n",
       "                                       slug  \\\n",
       "209220  transmedia-gallery-space-stiff-2015   \n",
       "209221      the-1000timesyes-2009-tweet-box   \n",
       "\n",
       "                                               source_url  spotlight  \\\n",
       "209220  https://www.kickstarter.com/discover/categorie...       True   \n",
       "209221  https://www.kickstarter.com/discover/categorie...       True   \n",
       "\n",
       "       staff_pick       state  state_changed_at  static_usd_rate  \\\n",
       "209220      False  successful        1429536379              1.0   \n",
       "209221       True  successful        1266814815              1.0   \n",
       "\n",
       "                                                     urls  usd_pledged  \\\n",
       "209220  {\"web\":{\"project\":\"https://www.kickstarter.com...       5692.0   \n",
       "209221  {\"web\":{\"project\":\"https://www.kickstarter.com...       1293.0   \n",
       "\n",
       "        usd_type  \n",
       "209220  domestic  \n",
       "209221  domestic  \n",
       "\n",
       "[2 rows x 37 columns]"
      ]
     },
     "execution_count": 5,
     "metadata": {},
     "output_type": "execute_result"
    }
   ],
   "source": [
    "df.tail(2)"
   ]
  },
  {
   "cell_type": "code",
   "execution_count": 6,
   "metadata": {
    "scrolled": false
   },
   "outputs": [
    {
     "name": "stdout",
     "output_type": "stream",
     "text": [
      "<class 'pandas.core.frame.DataFrame'>\n",
      "RangeIndex: 209222 entries, 0 to 209221\n",
      "Data columns (total 37 columns):\n",
      "backers_count               209222 non-null int64\n",
      "blurb                       209214 non-null object\n",
      "category                    209222 non-null object\n",
      "converted_pledged_amount    209222 non-null int64\n",
      "country                     209222 non-null object\n",
      "created_at                  209222 non-null int64\n",
      "creator                     209222 non-null object\n",
      "currency                    209222 non-null object\n",
      "currency_symbol             209222 non-null object\n",
      "currency_trailing_code      209222 non-null bool\n",
      "current_currency            209222 non-null object\n",
      "deadline                    209222 non-null int64\n",
      "disable_communication       209222 non-null bool\n",
      "friends                     300 non-null object\n",
      "fx_rate                     209222 non-null float64\n",
      "goal                        209222 non-null float64\n",
      "id                          209222 non-null int64\n",
      "is_backing                  300 non-null object\n",
      "is_starrable                209222 non-null bool\n",
      "is_starred                  300 non-null object\n",
      "launched_at                 209222 non-null int64\n",
      "location                    208996 non-null object\n",
      "name                        209222 non-null object\n",
      "permissions                 300 non-null object\n",
      "photo                       209222 non-null object\n",
      "pledged                     209222 non-null float64\n",
      "profile                     209222 non-null object\n",
      "slug                        209222 non-null object\n",
      "source_url                  209222 non-null object\n",
      "spotlight                   209222 non-null bool\n",
      "staff_pick                  209222 non-null bool\n",
      "state                       209222 non-null object\n",
      "state_changed_at            209222 non-null int64\n",
      "static_usd_rate             209222 non-null float64\n",
      "urls                        209222 non-null object\n",
      "usd_pledged                 209222 non-null float64\n",
      "usd_type                    208742 non-null object\n",
      "dtypes: bool(5), float64(5), int64(7), object(20)\n",
      "memory usage: 52.1+ MB\n"
     ]
    }
   ],
   "source": [
    "df.info()"
   ]
  },
  {
   "cell_type": "markdown",
   "metadata": {},
   "source": [
    "### Missing Data"
   ]
  },
  {
   "cell_type": "code",
   "execution_count": 7,
   "metadata": {},
   "outputs": [
    {
     "data": {
      "text/html": [
       "<div>\n",
       "<style scoped>\n",
       "    .dataframe tbody tr th:only-of-type {\n",
       "        vertical-align: middle;\n",
       "    }\n",
       "\n",
       "    .dataframe tbody tr th {\n",
       "        vertical-align: top;\n",
       "    }\n",
       "\n",
       "    .dataframe thead th {\n",
       "        text-align: right;\n",
       "    }\n",
       "</style>\n",
       "<table border=\"1\" class=\"dataframe\">\n",
       "  <thead>\n",
       "    <tr style=\"text-align: right;\">\n",
       "      <th></th>\n",
       "      <th>Number</th>\n",
       "      <th>Percentage</th>\n",
       "    </tr>\n",
       "  </thead>\n",
       "  <tbody>\n",
       "    <tr>\n",
       "      <th>blurb</th>\n",
       "      <td>8</td>\n",
       "      <td>0.0</td>\n",
       "    </tr>\n",
       "    <tr>\n",
       "      <th>friends</th>\n",
       "      <td>208922</td>\n",
       "      <td>99.9</td>\n",
       "    </tr>\n",
       "    <tr>\n",
       "      <th>is_backing</th>\n",
       "      <td>208922</td>\n",
       "      <td>99.9</td>\n",
       "    </tr>\n",
       "    <tr>\n",
       "      <th>is_starred</th>\n",
       "      <td>208922</td>\n",
       "      <td>99.9</td>\n",
       "    </tr>\n",
       "    <tr>\n",
       "      <th>location</th>\n",
       "      <td>226</td>\n",
       "      <td>0.1</td>\n",
       "    </tr>\n",
       "    <tr>\n",
       "      <th>permissions</th>\n",
       "      <td>208922</td>\n",
       "      <td>99.9</td>\n",
       "    </tr>\n",
       "    <tr>\n",
       "      <th>usd_type</th>\n",
       "      <td>480</td>\n",
       "      <td>0.2</td>\n",
       "    </tr>\n",
       "  </tbody>\n",
       "</table>\n",
       "</div>"
      ],
      "text/plain": [
       "             Number  Percentage\n",
       "blurb             8         0.0\n",
       "friends      208922        99.9\n",
       "is_backing   208922        99.9\n",
       "is_starred   208922        99.9\n",
       "location        226         0.1\n",
       "permissions  208922        99.9\n",
       "usd_type        480         0.2"
      ]
     },
     "execution_count": 7,
     "metadata": {},
     "output_type": "execute_result"
    }
   ],
   "source": [
    "missing = pd.DataFrame(df.isnull().sum(), columns=['Number'])\n",
    "missing['Percentage'] = round(missing.Number / df.shape[0] * 100, 1)\n",
    "missing[missing.Number != 0]"
   ]
  },
  {
   "cell_type": "markdown",
   "metadata": {},
   "source": [
    "For the features 'friends', 'is_backing', 'is_starred' and 'permissions' only .1 percent of the data is given.\n",
    "Therefore these features are not useable  and will be removed from the set. \n"
   ]
  },
  {
   "cell_type": "code",
   "execution_count": 8,
   "metadata": {},
   "outputs": [],
   "source": [
    "df.drop(['friends', 'permissions', 'is_backing', 'is_starred'], axis=1);"
   ]
  },
  {
   "cell_type": "code",
   "execution_count": 9,
   "metadata": {},
   "outputs": [
    {
     "data": {
      "text/plain": [
       "array([ 315,   47,  271, ..., 3142, 6586, 1192])"
      ]
     },
     "execution_count": 9,
     "metadata": {},
     "output_type": "execute_result"
    }
   ],
   "source": [
    "df.backers_count.unique()"
   ]
  },
  {
   "cell_type": "markdown",
   "metadata": {},
   "source": [
    "### Backers"
   ]
  },
  {
   "cell_type": "code",
   "execution_count": 10,
   "metadata": {},
   "outputs": [],
   "source": [
    "df.rename(columns = {'backers_count':'backers'}, inplace = True)"
   ]
  },
  {
   "cell_type": "markdown",
   "metadata": {},
   "source": [
    "### Category"
   ]
  },
  {
   "cell_type": "code",
   "execution_count": 11,
   "metadata": {},
   "outputs": [
    {
     "data": {
      "text/plain": [
       "'{\"id\":266,\"name\":\"Footwear\",\"slug\":\"fashion/footwear\",\"position\":5,\"parent_id\":9,\"color\":16752598,\"urls\":{\"web\":{\"discover\":\"http://www.kickstarter.com/discover/categories/fashion/footwear\"}}}'"
      ]
     },
     "execution_count": 11,
     "metadata": {},
     "output_type": "execute_result"
    }
   ],
   "source": [
    "df.category.unique()[0]"
   ]
  },
  {
   "cell_type": "code",
   "execution_count": 12,
   "metadata": {},
   "outputs": [
    {
     "data": {
      "text/html": [
       "<div>\n",
       "<style scoped>\n",
       "    .dataframe tbody tr th:only-of-type {\n",
       "        vertical-align: middle;\n",
       "    }\n",
       "\n",
       "    .dataframe tbody tr th {\n",
       "        vertical-align: top;\n",
       "    }\n",
       "\n",
       "    .dataframe thead th {\n",
       "        text-align: right;\n",
       "    }\n",
       "</style>\n",
       "<table border=\"1\" class=\"dataframe\">\n",
       "  <thead>\n",
       "    <tr style=\"text-align: right;\">\n",
       "      <th></th>\n",
       "      <th>color</th>\n",
       "      <th>id</th>\n",
       "      <th>name</th>\n",
       "      <th>parent_id</th>\n",
       "      <th>position</th>\n",
       "      <th>slug</th>\n",
       "      <th>urls</th>\n",
       "      <th>urls_web</th>\n",
       "      <th>urls_web_discover</th>\n",
       "    </tr>\n",
       "  </thead>\n",
       "  <tbody>\n",
       "    <tr>\n",
       "      <th>0</th>\n",
       "      <td>16752598</td>\n",
       "      <td>266</td>\n",
       "      <td>Footwear</td>\n",
       "      <td>9.0</td>\n",
       "      <td>5</td>\n",
       "      <td>fashion/footwear</td>\n",
       "      <td>{'web': {'discover': 'http://www.kickstarter.c...</td>\n",
       "      <td>{'discover': 'http://www.kickstarter.com/disco...</td>\n",
       "      <td>http://www.kickstarter.com/discover/categories...</td>\n",
       "    </tr>\n",
       "    <tr>\n",
       "      <th>1</th>\n",
       "      <td>51627</td>\n",
       "      <td>273</td>\n",
       "      <td>Playing Cards</td>\n",
       "      <td>12.0</td>\n",
       "      <td>4</td>\n",
       "      <td>games/playing cards</td>\n",
       "      <td>{'web': {'discover': 'http://www.kickstarter.c...</td>\n",
       "      <td>{'discover': 'http://www.kickstarter.com/disco...</td>\n",
       "      <td>http://www.kickstarter.com/discover/categories...</td>\n",
       "    </tr>\n",
       "    <tr>\n",
       "      <th>2</th>\n",
       "      <td>10878931</td>\n",
       "      <td>43</td>\n",
       "      <td>Rock</td>\n",
       "      <td>14.0</td>\n",
       "      <td>17</td>\n",
       "      <td>music/rock</td>\n",
       "      <td>{'web': {'discover': 'http://www.kickstarter.c...</td>\n",
       "      <td>{'discover': 'http://www.kickstarter.com/disco...</td>\n",
       "      <td>http://www.kickstarter.com/discover/categories...</td>\n",
       "    </tr>\n",
       "  </tbody>\n",
       "</table>\n",
       "</div>"
      ],
      "text/plain": [
       "      color   id           name  parent_id  position                 slug  \\\n",
       "0  16752598  266       Footwear        9.0         5     fashion/footwear   \n",
       "1     51627  273  Playing Cards       12.0         4  games/playing cards   \n",
       "2  10878931   43           Rock       14.0        17           music/rock   \n",
       "\n",
       "                                                urls  \\\n",
       "0  {'web': {'discover': 'http://www.kickstarter.c...   \n",
       "1  {'web': {'discover': 'http://www.kickstarter.c...   \n",
       "2  {'web': {'discover': 'http://www.kickstarter.c...   \n",
       "\n",
       "                                            urls_web  \\\n",
       "0  {'discover': 'http://www.kickstarter.com/disco...   \n",
       "1  {'discover': 'http://www.kickstarter.com/disco...   \n",
       "2  {'discover': 'http://www.kickstarter.com/disco...   \n",
       "\n",
       "                                   urls_web_discover  \n",
       "0  http://www.kickstarter.com/discover/categories...  \n",
       "1  http://www.kickstarter.com/discover/categories...  \n",
       "2  http://www.kickstarter.com/discover/categories...  "
      ]
     },
     "execution_count": 12,
     "metadata": {},
     "output_type": "execute_result"
    }
   ],
   "source": [
    "df_cat = pd.DataFrame.from_dict([json.loads(x) for x in df.category])\n",
    "df_cat['urls_web'] = pd.DataFrame.from_dict([x for x in df_cat.urls])\n",
    "df_cat['urls_web_discover'] = pd.DataFrame.from_dict([x for x in df_cat.urls_web])\n",
    "df_cat.head(3)"
   ]
  },
  {
   "cell_type": "code",
   "execution_count": 14,
   "metadata": {},
   "outputs": [],
   "source": [
    "df[['category', 'subcategory']] = df_cat.slug.str.split(\"/\",expand=True,)"
   ]
  },
  {
   "cell_type": "markdown",
   "metadata": {},
   "source": [
    "### Country"
   ]
  },
  {
   "cell_type": "code",
   "execution_count": 15,
   "metadata": {},
   "outputs": [
    {
     "data": {
      "text/plain": [
       "array(['US', 'GB', 'FR', 'AU', 'NZ', 'ES', 'IT', 'NO', 'NL', 'CA', 'SG',\n",
       "       'MX', 'SE', 'IE', 'DE', 'BE', 'HK', 'AT', 'JP', 'DK', 'CH', 'LU'],\n",
       "      dtype=object)"
      ]
     },
     "execution_count": 15,
     "metadata": {},
     "output_type": "execute_result"
    }
   ],
   "source": [
    "df.country.unique()"
   ]
  },
  {
   "cell_type": "markdown",
   "metadata": {},
   "source": [
    "### Currency "
   ]
  },
  {
   "cell_type": "code",
   "execution_count": 16,
   "metadata": {
    "scrolled": true
   },
   "outputs": [
    {
     "data": {
      "text/plain": [
       "currency  currency_symbol  currency_trailing_code  current_currency\n",
       "AUD       $                True                    CAD                     11\n",
       "                                                   GBP                      1\n",
       "                                                   USD                   4854\n",
       "CAD       $                True                    AUD                      2\n",
       "                                                   CAD                     23\n",
       "                                                   GBP                      2\n",
       "                                                   USD                   9796\n",
       "CHF       Fr               False                   CAD                      1\n",
       "                                                   EUR                      1\n",
       "                                                   USD                    661\n",
       "DKK       kr               True                    CAD                      1\n",
       "                                                   USD                    919\n",
       "EUR       €                False                   AUD                      9\n",
       "                                                   CAD                     43\n",
       "                                                   EUR                      2\n",
       "                                                   GBP                      2\n",
       "                                                   USD                  13895\n",
       "GBP       £                False                   AUD                      4\n",
       "                                                   CAD                     50\n",
       "                                                   GBP                      5\n",
       "                                                   USD                  23049\n",
       "HKD       $                True                    CAD                      8\n",
       "                                                   USD                   1077\n",
       "JPY       ¥                False                   AUD                      1\n",
       "                                                   CAD                      5\n",
       "                                                   USD                    383\n",
       "MXN       $                True                    AUD                      2\n",
       "                                                   CAD                      3\n",
       "                                                   GBP                      1\n",
       "                                                   USD                   2361\n",
       "NOK       kr               True                    CAD                      3\n",
       "                                                   USD                    508\n",
       "NZD       $                True                    AUD                      1\n",
       "                                                   CAD                      2\n",
       "                                                   GBP                      1\n",
       "                                                   USD                    927\n",
       "SEK       kr               True                    CAD                      7\n",
       "                                                   USD                   1414\n",
       "SGD       $                True                    AUD                      1\n",
       "                                                   CAD                      3\n",
       "                                                   USD                    694\n",
       "USD       $                True                    AUD                     52\n",
       "                                                   CAD                    212\n",
       "                                                   EUR                      9\n",
       "                                                   GBP                     12\n",
       "                                                   USD                 148204\n",
       "dtype: int64"
      ]
     },
     "execution_count": 16,
     "metadata": {},
     "output_type": "execute_result"
    }
   ],
   "source": [
    "df.groupby(['currency', 'currency_symbol','currency_trailing_code', 'current_currency']).size()"
   ]
  },
  {
   "cell_type": "code",
   "execution_count": 17,
   "metadata": {},
   "outputs": [],
   "source": [
    "df.drop('currency_symbol',axis=1);\n",
    "df.drop('currency_trailing_code',axis=1);"
   ]
  },
  {
   "cell_type": "markdown",
   "metadata": {},
   "source": [
    "As the currency symbols are less specific and more ambiguous then the currencies themselves only the currency will \n",
    "be used as a feature."
   ]
  },
  {
   "cell_type": "markdown",
   "metadata": {},
   "source": [
    "### Dates"
   ]
  },
  {
   "cell_type": "code",
   "execution_count": 18,
   "metadata": {},
   "outputs": [
    {
     "ename": "NameError",
     "evalue": "name 'df_dates' is not defined",
     "output_type": "error",
     "traceback": [
      "\u001b[0;31m---------------------------------------------------------------------------\u001b[0m",
      "\u001b[0;31mNameError\u001b[0m                                 Traceback (most recent call last)",
      "\u001b[0;32m<ipython-input-18-25b5ca32f13e>\u001b[0m in \u001b[0;36m<module>\u001b[0;34m\u001b[0m\n\u001b[0;32m----> 1\u001b[0;31m \u001b[0mdf_dates\u001b[0m\u001b[0;34m[\u001b[0m\u001b[0;34m'state_changed'\u001b[0m\u001b[0;34m]\u001b[0m \u001b[0;34m=\u001b[0m \u001b[0mpd\u001b[0m\u001b[0;34m.\u001b[0m\u001b[0mDataFrame\u001b[0m\u001b[0;34m(\u001b[0m\u001b[0;34m[\u001b[0m\u001b[0mdatetime\u001b[0m\u001b[0;34m.\u001b[0m\u001b[0mfromtimestamp\u001b[0m \u001b[0;34m(\u001b[0m\u001b[0mx\u001b[0m\u001b[0;34m)\u001b[0m \u001b[0;32mfor\u001b[0m \u001b[0mx\u001b[0m \u001b[0;32min\u001b[0m \u001b[0mdf\u001b[0m\u001b[0;34m[\u001b[0m\u001b[0;34m'state_changed_at'\u001b[0m\u001b[0;34m]\u001b[0m\u001b[0;34m]\u001b[0m\u001b[0;34m)\u001b[0m\u001b[0;34m\u001b[0m\u001b[0;34m\u001b[0m\u001b[0m\n\u001b[0m\u001b[1;32m      2\u001b[0m \u001b[0mdf_dates\u001b[0m\u001b[0;34m[\u001b[0m\u001b[0;34m'launched'\u001b[0m\u001b[0;34m]\u001b[0m \u001b[0;34m=\u001b[0m \u001b[0mpd\u001b[0m\u001b[0;34m.\u001b[0m\u001b[0mDataFrame\u001b[0m\u001b[0;34m(\u001b[0m\u001b[0;34m[\u001b[0m\u001b[0mdatetime\u001b[0m\u001b[0;34m.\u001b[0m\u001b[0mfromtimestamp\u001b[0m \u001b[0;34m(\u001b[0m\u001b[0mx\u001b[0m\u001b[0;34m)\u001b[0m \u001b[0;32mfor\u001b[0m \u001b[0mx\u001b[0m \u001b[0;32min\u001b[0m \u001b[0mdf\u001b[0m\u001b[0;34m[\u001b[0m\u001b[0;34m'launched_at'\u001b[0m\u001b[0;34m]\u001b[0m\u001b[0;34m]\u001b[0m\u001b[0;34m)\u001b[0m\u001b[0;34m\u001b[0m\u001b[0;34m\u001b[0m\u001b[0m\n\u001b[1;32m      3\u001b[0m \u001b[0mdf_dates\u001b[0m\u001b[0;34m[\u001b[0m\u001b[0;34m'created'\u001b[0m\u001b[0;34m]\u001b[0m \u001b[0;34m=\u001b[0m \u001b[0mpd\u001b[0m\u001b[0;34m.\u001b[0m\u001b[0mDataFrame\u001b[0m\u001b[0;34m(\u001b[0m\u001b[0;34m[\u001b[0m\u001b[0mdatetime\u001b[0m\u001b[0;34m.\u001b[0m\u001b[0mfromtimestamp\u001b[0m \u001b[0;34m(\u001b[0m\u001b[0mx\u001b[0m\u001b[0;34m)\u001b[0m \u001b[0;32mfor\u001b[0m \u001b[0mx\u001b[0m \u001b[0;32min\u001b[0m \u001b[0mdf\u001b[0m\u001b[0;34m[\u001b[0m\u001b[0;34m'created_at'\u001b[0m\u001b[0;34m]\u001b[0m\u001b[0;34m]\u001b[0m\u001b[0;34m)\u001b[0m\u001b[0;34m\u001b[0m\u001b[0;34m\u001b[0m\u001b[0m\n\u001b[1;32m      4\u001b[0m \u001b[0mdf_dates\u001b[0m\u001b[0;34m[\u001b[0m\u001b[0;34m'deadline'\u001b[0m\u001b[0;34m]\u001b[0m \u001b[0;34m=\u001b[0m \u001b[0mpd\u001b[0m\u001b[0;34m.\u001b[0m\u001b[0mDataFrame\u001b[0m\u001b[0;34m(\u001b[0m\u001b[0;34m[\u001b[0m\u001b[0mdatetime\u001b[0m\u001b[0;34m.\u001b[0m\u001b[0mfromtimestamp\u001b[0m \u001b[0;34m(\u001b[0m\u001b[0mx\u001b[0m\u001b[0;34m)\u001b[0m \u001b[0;32mfor\u001b[0m \u001b[0mx\u001b[0m \u001b[0;32min\u001b[0m \u001b[0mdf\u001b[0m\u001b[0;34m[\u001b[0m\u001b[0;34m'deadline'\u001b[0m\u001b[0;34m]\u001b[0m\u001b[0;34m]\u001b[0m\u001b[0;34m)\u001b[0m\u001b[0;34m\u001b[0m\u001b[0;34m\u001b[0m\u001b[0m\n\u001b[1;32m      5\u001b[0m \u001b[0mdf_dates\u001b[0m\u001b[0;34m[\u001b[0m\u001b[0;34m'duration'\u001b[0m\u001b[0;34m]\u001b[0m \u001b[0;34m=\u001b[0m \u001b[0mdf_dates\u001b[0m\u001b[0;34m[\u001b[0m\u001b[0;34m'deadline'\u001b[0m\u001b[0;34m]\u001b[0m\u001b[0;34m-\u001b[0m\u001b[0mdf_dates\u001b[0m\u001b[0;34m[\u001b[0m\u001b[0;34m'created'\u001b[0m\u001b[0;34m]\u001b[0m\u001b[0;34m\u001b[0m\u001b[0;34m\u001b[0m\u001b[0m\n",
      "\u001b[0;31mNameError\u001b[0m: name 'df_dates' is not defined"
     ]
    }
   ],
   "source": [
    "df_dates['state_changed'] = pd.DataFrame([datetime.fromtimestamp (x) for x in df['state_changed_at']])\n",
    "df_dates['launched'] = pd.DataFrame([datetime.fromtimestamp (x) for x in df['launched_at']])\n",
    "df_dates['created'] = pd.DataFrame([datetime.fromtimestamp (x) for x in df['created_at']])\n",
    "df_dates['deadline'] = pd.DataFrame([datetime.fromtimestamp (x) for x in df['deadline']])\n",
    "df_dates['duration'] = df_dates['deadline']-df_dates['created']\n",
    "df_dates['state'] = df['state']\n",
    "\n",
    "df_dates.head()"
   ]
  },
  {
   "cell_type": "markdown",
   "metadata": {},
   "source": [
    "### Creator"
   ]
  },
  {
   "cell_type": "code",
   "execution_count": 20,
   "metadata": {},
   "outputs": [
    {
     "data": {
      "text/plain": [
       "'{\"id\":2094277840,\"name\":\"Lucy Conroy\",\"slug\":\"babalus\",\"is_registered\":null,\"chosen_currency\":null,\"avatar\":{\"thumb\":\"https://ksr-ugc.imgix.net/assets/023/784/556/6ed11b25c853ec1aef7f4360d0eb59ef_original.jpg?ixlib=rb-1.1.0&w=40&h=40&fit=crop&v=1548222691&auto=format&frame=1&q=92&s=b64463d8ae6195f7aeb62393e2ca2dde\",\"small\":\"https://ksr-ugc.imgix.net/assets/023/784/556/6ed11b25c853ec1aef7f4360d0eb59ef_original.jpg?ixlib=rb-1.1.0&w=160&h=160&fit=crop&v=1548222691&auto=format&frame=1&q=92&s=00bc518b23a932bd76fb6e21f4eb6834\",\"medium\":\"https://ksr-ugc.imgix.net/assets/023/784/556/6ed11b25c853ec1aef7f4360d0eb59ef_original.jpg?ixlib=rb-1.1.0&w=160&h=160&fit=crop&v=1548222691&auto=format&frame=1&q=92&s=00bc518b23a932bd76fb6e21f4eb6834\"},\"urls\":{\"web\":{\"user\":\"https://www.kickstarter.com/profile/babalus\"},\"api\":{\"user\":\"https://api.kickstarter.com/v1/users/2094277840?signature=1552621545.c7a32fed985a78dec253fe61c1acb7a99edbc0af\"}}}'"
      ]
     },
     "execution_count": 20,
     "metadata": {},
     "output_type": "execute_result"
    }
   ],
   "source": [
    "df.creator.unique()[0]"
   ]
  },
  {
   "cell_type": "code",
   "execution_count": 23,
   "metadata": {},
   "outputs": [
    {
     "data": {
      "text/plain": [
       "0    :2094277840,\n",
       "1     :723886115,\n",
       "2     :323849677,\n",
       "3     :196281496,\n",
       "4    :1178460181,\n",
       "Name: creator_RM, dtype: object"
      ]
     },
     "execution_count": 23,
     "metadata": {},
     "output_type": "execute_result"
    }
   ],
   "source": [
    "# CODE VON ROB UND MAURI\n",
    "df['creator_RM'] = [df['creator'][i].split('\"')[2] for i in range(len(df.creator))]\n",
    "df['creator_RM'].head()\n",
    "\n",
    "# sonst vielleicht über eine search im string nach z.B. \"ID\" und dann dahinter splitten um fehlede werte zu vermeiden "
   ]
  },
  {
   "cell_type": "code",
   "execution_count": null,
   "metadata": {},
   "outputs": [],
   "source": [
    "#df_creator = pd.DataFrame([x.replace(\",\",\":\") for x in df.creator], columns=['creator'])\n",
    "#df_creator=df['creator'].str.split(\",\",expand=True,)\n",
    "#df_creator.info()\n",
    "#for col in df_creator:\n",
    "#    df_creator_col = pd.DataFrame(df_creator[col].str.split(\":\",expand=True,))\n",
    "#    df_creator = df.creator.join(df_creator_col)"
   ]
  },
  {
   "cell_type": "code",
   "execution_count": null,
   "metadata": {
    "scrolled": false
   },
   "outputs": [],
   "source": [
    "#df_creator[0]"
   ]
  },
  {
   "cell_type": "code",
   "execution_count": null,
   "metadata": {},
   "outputs": [],
   "source": [
    "#creator_aux = pd.DataFrame([x.replace(\"{\",\"\") for x in df.creator], columns=['creator'])\n",
    "#creator_aux.creator = pd.DataFrame([x.replace(\"}\",\"\") for x in creator_aux.creator], columns=['creator'])\n",
    "#creator_aux.creator[0]\n",
    "#pd.DataFrame.from_dict(json.loads(re(df.creator[0])))"
   ]
  },
  {
   "cell_type": "code",
   "execution_count": null,
   "metadata": {},
   "outputs": [],
   "source": [
    "#df_creator = pd.DataFrame.from_dict([json.loads(x) for x in df.creator])\n",
    "#df_cat['urls_web'] = pd.DataFrame.from_dict([x for x in df_cat.urls])\n",
    "#df_cat['urls_web_discover'] = pd.DataFrame.from_dict([x for x in df_cat.urls_web])\n",
    "#df_creator.head(3)"
   ]
  },
  {
   "cell_type": "code",
   "execution_count": null,
   "metadata": {},
   "outputs": [],
   "source": [
    "#df_creator = df.creator.dropna().apply(pd.Series)"
   ]
  },
  {
   "cell_type": "markdown",
   "metadata": {},
   "source": [
    "import ast\n",
    "D1=str(df['creator'][1])\n",
    "D1=D1.replace('null', \"MISSING VALUE\")\n",
    "D1=D1.split('{')[1].replace(',\"avatar\":',\"\")\n",
    "D1 =\"{\"+ D1+\"}\"\n",
    "D1\n",
    "D2=ast.literal_eval(D1)\n"
   ]
  },
  {
   "cell_type": "code",
   "execution_count": null,
   "metadata": {},
   "outputs": [],
   "source": [
    "#df_creator = df['creator'].apply(lambda x: x.split(':')[1])\n",
    "#df.creator.dropna().apply(pd.Series);"
   ]
  },
  {
   "cell_type": "code",
   "execution_count": null,
   "metadata": {},
   "outputs": [],
   "source": [
    "#df_creator = pd.DataFrame([x.replace(\",\",\":\") for x in df.creator], columns=['creator'])\n",
    "#df_creator=df['creator'].str.split(\",\",expand=True,)\n",
    "#df_creator"
   ]
  },
  {
   "cell_type": "code",
   "execution_count": null,
   "metadata": {},
   "outputs": [],
   "source": [
    "#df_creator['creator'].replace(',',':',inplace=True)\n",
    "#df['new_creator'] = df['creator'].apply(lambda x: x.split(':')[1])\n",
    "#df_creator.append([df_creator['creator'].str.split(\":\",expand=True,)], ignore_index =True)\n",
    "#feature3 = [d.get('slug') for d in df.creator]\n",
    "#feature3"
   ]
  },
  {
   "cell_type": "markdown",
   "metadata": {},
   "source": [
    "### FX"
   ]
  },
  {
   "cell_type": "code",
   "execution_count": null,
   "metadata": {},
   "outputs": [],
   "source": [
    "(df['fx_rate'] - df['static_usd_rate']).describe().round(4)\n",
    "df.query('(fx_rate - static_usd_rate) > 0.05').shape[0]"
   ]
  },
  {
   "cell_type": "markdown",
   "metadata": {},
   "source": [
    "### Pledged Amount"
   ]
  },
  {
   "cell_type": "code",
   "execution_count": null,
   "metadata": {},
   "outputs": [],
   "source": [
    "(df['usd_pledged'] - df['static_usd_rate']* df['pledged']).describe().round()"
   ]
  },
  {
   "cell_type": "code",
   "execution_count": null,
   "metadata": {},
   "outputs": [],
   "source": [
    "(df['converted_pledged_amount'] - df['usd_pledged']).describe().round()"
   ]
  },
  {
   "cell_type": "code",
   "execution_count": null,
   "metadata": {},
   "outputs": [],
   "source": [
    "df.query('(converted_pledged_amount - usd_pledged)/usd_pledged > 0.05').shape[0]"
   ]
  },
  {
   "cell_type": "code",
   "execution_count": null,
   "metadata": {},
   "outputs": [],
   "source": [
    "df['usd_pledged'] = df[['converted_pledged_amount','usd_pledged']].mean(axis=1);"
   ]
  },
  {
   "cell_type": "code",
   "execution_count": null,
   "metadata": {},
   "outputs": [],
   "source": [
    "df.drop('converted_pledged_amount', axis=1);"
   ]
  },
  {
   "cell_type": "markdown",
   "metadata": {},
   "source": [
    "As usd_pledged is the product of the rate and the original pledged amount, the later two can be removed as features. By definition, the converted_pledged_amount and usd_pledged are assumed to be identical. Therefore, converted_pledged_amount will be removed from the dataset after usd_pledged is adjusted for the deviations. "
   ]
  },
  {
   "cell_type": "markdown",
   "metadata": {},
   "source": [
    "### ID"
   ]
  },
  {
   "cell_type": "code",
   "execution_count": null,
   "metadata": {},
   "outputs": [],
   "source": [
    "df.id.nunique()"
   ]
  },
  {
   "cell_type": "markdown",
   "metadata": {},
   "source": [
    "### Location"
   ]
  },
  {
   "cell_type": "code",
   "execution_count": null,
   "metadata": {},
   "outputs": [],
   "source": [
    "df.creator.unique()[0]"
   ]
  },
  {
   "cell_type": "code",
   "execution_count": null,
   "metadata": {},
   "outputs": [],
   "source": [
    "df.id.unique()[0]"
   ]
  },
  {
   "cell_type": "code",
   "execution_count": null,
   "metadata": {},
   "outputs": [],
   "source": [
    "df.location.unique()[0]"
   ]
  },
  {
   "cell_type": "code",
   "execution_count": null,
   "metadata": {},
   "outputs": [],
   "source": [
    "df_loc = pd.DataFrame.from_dict([json.loads(str(x)) for x in df.location])\n",
    "#df_cat['urls_web'] = pd.DataFrame.from_dict([x for x in df_cat.urls])\n",
    "#df_cat['urls_web_discover'] = pd.DataFrame.from_dict([x for x in df_cat.urls_web])\n",
    "df_loc.head(3)"
   ]
  },
  {
   "cell_type": "markdown",
   "metadata": {},
   "source": [
    "### Profile"
   ]
  },
  {
   "cell_type": "code",
   "execution_count": null,
   "metadata": {},
   "outputs": [],
   "source": [
    "df.profile[0]"
   ]
  },
  {
   "cell_type": "code",
   "execution_count": null,
   "metadata": {},
   "outputs": [],
   "source": [
    "df_pro = pd.DataFrame.from_dict([json.loads(x) for x in df.profile])"
   ]
  },
  {
   "cell_type": "markdown",
   "metadata": {},
   "source": [
    "## Label and Features"
   ]
  },
  {
   "cell_type": "code",
   "execution_count": null,
   "metadata": {},
   "outputs": [],
   "source": [
    "df.state.value_counts()"
   ]
  },
  {
   "cell_type": "code",
   "execution_count": null,
   "metadata": {},
   "outputs": [],
   "source": [
    "df.state.hist()"
   ]
  },
  {
   "cell_type": "code",
   "execution_count": null,
   "metadata": {},
   "outputs": [],
   "source": [
    "df.describe().round(2)"
   ]
  },
  {
   "cell_type": "markdown",
   "metadata": {},
   "source": [
    "## Model"
   ]
  },
  {
   "cell_type": "code",
   "execution_count": null,
   "metadata": {},
   "outputs": [],
   "source": []
  }
 ],
 "metadata": {
  "kernelspec": {
   "display_name": "Python [conda env:nf] *",
   "language": "python",
   "name": "conda-env-nf-py"
  },
  "language_info": {
   "codemirror_mode": {
    "name": "ipython",
    "version": 3
   },
   "file_extension": ".py",
   "mimetype": "text/x-python",
   "name": "python",
   "nbconvert_exporter": "python",
   "pygments_lexer": "ipython3",
   "version": "3.6.10"
  },
  "toc": {
   "base_numbering": 1,
   "nav_menu": {},
   "number_sections": true,
   "sideBar": true,
   "skip_h1_title": false,
   "title_cell": "Table of Contents",
   "title_sidebar": "Contents",
   "toc_cell": false,
   "toc_position": {},
   "toc_section_display": true,
   "toc_window_display": true
  },
  "varInspector": {
   "cols": {
    "lenName": 16,
    "lenType": 16,
    "lenVar": 40
   },
   "kernels_config": {
    "python": {
     "delete_cmd_postfix": "",
     "delete_cmd_prefix": "del ",
     "library": "var_list.py",
     "varRefreshCmd": "print(var_dic_list())"
    },
    "r": {
     "delete_cmd_postfix": ") ",
     "delete_cmd_prefix": "rm(",
     "library": "var_list.r",
     "varRefreshCmd": "cat(var_dic_list()) "
    }
   },
   "types_to_exclude": [
    "module",
    "function",
    "builtin_function_or_method",
    "instance",
    "_Feature"
   ],
   "window_display": false
  }
 },
 "nbformat": 4,
 "nbformat_minor": 4
}
