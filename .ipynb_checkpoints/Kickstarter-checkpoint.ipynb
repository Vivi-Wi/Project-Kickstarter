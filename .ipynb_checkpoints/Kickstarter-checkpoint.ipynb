{
 "cells": [
  {
   "cell_type": "markdown",
   "metadata": {},
   "source": [
    "## Project Kickstarter \n",
    "by Vivika Wilde wilde.vivika@gmail.com\n",
    "   Sebastian Fuhrer fuhrer_sebastian@web.de"
   ]
  },
  {
   "cell_type": "markdown",
   "metadata": {},
   "source": [
    "## Objective \n",
    "\n",
    "In recent years, the range of funding options for projects created by individuals and small companies has expanded considerably. In addition to savings, bank loans, friends & family funding and other traditional options, crowdfunding has become a popular and readily available alternative. \n",
    "\n",
    "Kickstarter, founded in 2009, is one particularly well-known and popular crowdfunding platform. It has an all-or-nothing funding model, whereby a project is only funded if it meets its goal amount; otherwise no money is given by backers to a project.\n",
    "A huge variety of factors contribute to the success or failure of a project — in general, and also on Kickstarter. Some of these are able to be quantified or categorized, which allows for the construction of a model to attempt to predict whether a project will succeed or not. The aim of this project is to construct such a model and also to analyse Kickstarter project data more generally, in order to help potential project creators assess whether or not Kickstarter is a good funding option for them, and what their chances of success are.\n"
   ]
  },
  {
   "cell_type": "markdown",
   "metadata": {},
   "source": [
    "## Set up"
   ]
  },
  {
   "cell_type": "code",
   "execution_count": 1,
   "metadata": {},
   "outputs": [],
   "source": [
    "import glob, os\n",
    "import pandas as pd \n",
    "import numpy as np\n",
    "import matplotlib.pyplot as plt\n",
    "from datetime import datetime\n",
    "%matplotlib inline"
   ]
  },
  {
   "cell_type": "code",
   "execution_count": 2,
   "metadata": {},
   "outputs": [],
   "source": [
    "data = pd.concat(map(pd.read_csv, glob.glob(os.path.join('', \"data/*.csv\"))))\n",
    "data = data.reset_index(drop=True)"
   ]
  },
  {
   "cell_type": "code",
   "execution_count": 3,
   "metadata": {},
   "outputs": [],
   "source": [
    "df = data.copy()"
   ]
  },
  {
   "cell_type": "markdown",
   "metadata": {},
   "source": [
    "## Variable names and description"
   ]
  },
  {
   "cell_type": "markdown",
   "metadata": {},
   "source": [
    "* Backers: Number of supporters/investors\n",
    "* Blurb: A short description of the product written for promotional purposes\n",
    "* Category: Projects have been classified into 16 categories. These categories broadly define the genre a project belongs to.\n",
    "* Subcategory: Categories are further sub-divided in subcategories to give more details on the project. For instance, the category “Technology” has further been split into subcategories like Gadgets, Web, Apps, Software etc. There are 144 total subcategories.\n",
    "* Converted_pledged_amount: Total pledged amount in USD.\n",
    "* Currency: Currency used to support the project\n",
    "* Country: The country the project tries to get its pledged amount from (target audience,two letter code)\n",
    "* USD_pledged: Pledged amount in USD (conversion made by Kickstarter)\n",
    "* USD_pledged_real: Pledged amount in USD (conversion made by fixer.io api)\n",
    "* USD_goal_real: Goal amount in USD\n",
    "* Launched: the date the project was launched on\n",
    "* Deadline: The date before which the goal amount has to be gathered."
   ]
  },
  {
   "cell_type": "markdown",
   "metadata": {},
   "source": [
    "## Data types and missings"
   ]
  },
  {
   "cell_type": "code",
   "execution_count": 4,
   "metadata": {},
   "outputs": [
    {
     "data": {
      "text/html": [
       "<div>\n",
       "<style scoped>\n",
       "    .dataframe tbody tr th:only-of-type {\n",
       "        vertical-align: middle;\n",
       "    }\n",
       "\n",
       "    .dataframe tbody tr th {\n",
       "        vertical-align: top;\n",
       "    }\n",
       "\n",
       "    .dataframe thead th {\n",
       "        text-align: right;\n",
       "    }\n",
       "</style>\n",
       "<table border=\"1\" class=\"dataframe\">\n",
       "  <thead>\n",
       "    <tr style=\"text-align: right;\">\n",
       "      <th></th>\n",
       "      <th>backers_count</th>\n",
       "      <th>blurb</th>\n",
       "      <th>category</th>\n",
       "      <th>converted_pledged_amount</th>\n",
       "      <th>country</th>\n",
       "      <th>created_at</th>\n",
       "      <th>creator</th>\n",
       "      <th>currency</th>\n",
       "      <th>currency_symbol</th>\n",
       "      <th>currency_trailing_code</th>\n",
       "      <th>...</th>\n",
       "      <th>slug</th>\n",
       "      <th>source_url</th>\n",
       "      <th>spotlight</th>\n",
       "      <th>staff_pick</th>\n",
       "      <th>state</th>\n",
       "      <th>state_changed_at</th>\n",
       "      <th>static_usd_rate</th>\n",
       "      <th>urls</th>\n",
       "      <th>usd_pledged</th>\n",
       "      <th>usd_type</th>\n",
       "    </tr>\n",
       "  </thead>\n",
       "  <tbody>\n",
       "    <tr>\n",
       "      <th>0</th>\n",
       "      <td>315</td>\n",
       "      <td>Babalus Shoes</td>\n",
       "      <td>{\"id\":266,\"name\":\"Footwear\",\"slug\":\"fashion/fo...</td>\n",
       "      <td>28645</td>\n",
       "      <td>US</td>\n",
       "      <td>1541459205</td>\n",
       "      <td>{\"id\":2094277840,\"name\":\"Lucy Conroy\",\"slug\":\"...</td>\n",
       "      <td>USD</td>\n",
       "      <td>$</td>\n",
       "      <td>True</td>\n",
       "      <td>...</td>\n",
       "      <td>babalus-childrens-shoes</td>\n",
       "      <td>https://www.kickstarter.com/discover/categorie...</td>\n",
       "      <td>False</td>\n",
       "      <td>False</td>\n",
       "      <td>live</td>\n",
       "      <td>1548223375</td>\n",
       "      <td>1.0</td>\n",
       "      <td>{\"web\":{\"project\":\"https://www.kickstarter.com...</td>\n",
       "      <td>28645.0</td>\n",
       "      <td>international</td>\n",
       "    </tr>\n",
       "    <tr>\n",
       "      <th>1</th>\n",
       "      <td>47</td>\n",
       "      <td>A colorful Dia de los Muertos themed oracle de...</td>\n",
       "      <td>{\"id\":273,\"name\":\"Playing Cards\",\"slug\":\"games...</td>\n",
       "      <td>1950</td>\n",
       "      <td>US</td>\n",
       "      <td>1501684093</td>\n",
       "      <td>{\"id\":723886115,\"name\":\"Lisa Vollrath\",\"slug\":...</td>\n",
       "      <td>USD</td>\n",
       "      <td>$</td>\n",
       "      <td>True</td>\n",
       "      <td>...</td>\n",
       "      <td>the-ofrenda-oracle-deck</td>\n",
       "      <td>https://www.kickstarter.com/discover/categorie...</td>\n",
       "      <td>True</td>\n",
       "      <td>False</td>\n",
       "      <td>successful</td>\n",
       "      <td>1504976459</td>\n",
       "      <td>1.0</td>\n",
       "      <td>{\"web\":{\"project\":\"https://www.kickstarter.com...</td>\n",
       "      <td>1950.0</td>\n",
       "      <td>domestic</td>\n",
       "    </tr>\n",
       "  </tbody>\n",
       "</table>\n",
       "<p>2 rows × 37 columns</p>\n",
       "</div>"
      ],
      "text/plain": [
       "   backers_count                                              blurb  \\\n",
       "0            315                                      Babalus Shoes   \n",
       "1             47  A colorful Dia de los Muertos themed oracle de...   \n",
       "\n",
       "                                            category  \\\n",
       "0  {\"id\":266,\"name\":\"Footwear\",\"slug\":\"fashion/fo...   \n",
       "1  {\"id\":273,\"name\":\"Playing Cards\",\"slug\":\"games...   \n",
       "\n",
       "   converted_pledged_amount country  created_at  \\\n",
       "0                     28645      US  1541459205   \n",
       "1                      1950      US  1501684093   \n",
       "\n",
       "                                             creator currency currency_symbol  \\\n",
       "0  {\"id\":2094277840,\"name\":\"Lucy Conroy\",\"slug\":\"...      USD               $   \n",
       "1  {\"id\":723886115,\"name\":\"Lisa Vollrath\",\"slug\":...      USD               $   \n",
       "\n",
       "   currency_trailing_code  ...                     slug  \\\n",
       "0                    True  ...  babalus-childrens-shoes   \n",
       "1                    True  ...  the-ofrenda-oracle-deck   \n",
       "\n",
       "                                          source_url  spotlight staff_pick  \\\n",
       "0  https://www.kickstarter.com/discover/categorie...      False      False   \n",
       "1  https://www.kickstarter.com/discover/categorie...       True      False   \n",
       "\n",
       "        state  state_changed_at  static_usd_rate  \\\n",
       "0        live        1548223375              1.0   \n",
       "1  successful        1504976459              1.0   \n",
       "\n",
       "                                                urls  usd_pledged  \\\n",
       "0  {\"web\":{\"project\":\"https://www.kickstarter.com...      28645.0   \n",
       "1  {\"web\":{\"project\":\"https://www.kickstarter.com...       1950.0   \n",
       "\n",
       "        usd_type  \n",
       "0  international  \n",
       "1       domestic  \n",
       "\n",
       "[2 rows x 37 columns]"
      ]
     },
     "execution_count": 4,
     "metadata": {},
     "output_type": "execute_result"
    }
   ],
   "source": [
    "df.head(2)"
   ]
  },
  {
   "cell_type": "code",
   "execution_count": 5,
   "metadata": {},
   "outputs": [
    {
     "data": {
      "text/html": [
       "<div>\n",
       "<style scoped>\n",
       "    .dataframe tbody tr th:only-of-type {\n",
       "        vertical-align: middle;\n",
       "    }\n",
       "\n",
       "    .dataframe tbody tr th {\n",
       "        vertical-align: top;\n",
       "    }\n",
       "\n",
       "    .dataframe thead th {\n",
       "        text-align: right;\n",
       "    }\n",
       "</style>\n",
       "<table border=\"1\" class=\"dataframe\">\n",
       "  <thead>\n",
       "    <tr style=\"text-align: right;\">\n",
       "      <th></th>\n",
       "      <th>backers_count</th>\n",
       "      <th>blurb</th>\n",
       "      <th>category</th>\n",
       "      <th>converted_pledged_amount</th>\n",
       "      <th>country</th>\n",
       "      <th>created_at</th>\n",
       "      <th>creator</th>\n",
       "      <th>currency</th>\n",
       "      <th>currency_symbol</th>\n",
       "      <th>currency_trailing_code</th>\n",
       "      <th>...</th>\n",
       "      <th>slug</th>\n",
       "      <th>source_url</th>\n",
       "      <th>spotlight</th>\n",
       "      <th>staff_pick</th>\n",
       "      <th>state</th>\n",
       "      <th>state_changed_at</th>\n",
       "      <th>static_usd_rate</th>\n",
       "      <th>urls</th>\n",
       "      <th>usd_pledged</th>\n",
       "      <th>usd_type</th>\n",
       "    </tr>\n",
       "  </thead>\n",
       "  <tbody>\n",
       "    <tr>\n",
       "      <th>209220</th>\n",
       "      <td>76</td>\n",
       "      <td>Seattle Transmedia &amp; Independent Film Festival...</td>\n",
       "      <td>{\"id\":295,\"name\":\"Festivals\",\"slug\":\"film &amp; vi...</td>\n",
       "      <td>5692</td>\n",
       "      <td>US</td>\n",
       "      <td>1425256957</td>\n",
       "      <td>{\"id\":307076473,\"name\":\"Timothy Vernor\",\"is_re...</td>\n",
       "      <td>USD</td>\n",
       "      <td>$</td>\n",
       "      <td>True</td>\n",
       "      <td>...</td>\n",
       "      <td>transmedia-gallery-space-stiff-2015</td>\n",
       "      <td>https://www.kickstarter.com/discover/categorie...</td>\n",
       "      <td>True</td>\n",
       "      <td>False</td>\n",
       "      <td>successful</td>\n",
       "      <td>1429536379</td>\n",
       "      <td>1.0</td>\n",
       "      <td>{\"web\":{\"project\":\"https://www.kickstarter.com...</td>\n",
       "      <td>5692.0</td>\n",
       "      <td>domestic</td>\n",
       "    </tr>\n",
       "    <tr>\n",
       "      <th>209221</th>\n",
       "      <td>44</td>\n",
       "      <td>The @1000TimesYes 2009 Tweet Box is a handmade...</td>\n",
       "      <td>{\"id\":13,\"name\":\"Journalism\",\"slug\":\"journalis...</td>\n",
       "      <td>1293</td>\n",
       "      <td>US</td>\n",
       "      <td>1263225900</td>\n",
       "      <td>{\"id\":1718677513,\"name\":\"Article\",\"slug\":\"arti...</td>\n",
       "      <td>USD</td>\n",
       "      <td>$</td>\n",
       "      <td>True</td>\n",
       "      <td>...</td>\n",
       "      <td>the-1000timesyes-2009-tweet-box</td>\n",
       "      <td>https://www.kickstarter.com/discover/categorie...</td>\n",
       "      <td>True</td>\n",
       "      <td>True</td>\n",
       "      <td>successful</td>\n",
       "      <td>1266814815</td>\n",
       "      <td>1.0</td>\n",
       "      <td>{\"web\":{\"project\":\"https://www.kickstarter.com...</td>\n",
       "      <td>1293.0</td>\n",
       "      <td>domestic</td>\n",
       "    </tr>\n",
       "  </tbody>\n",
       "</table>\n",
       "<p>2 rows × 37 columns</p>\n",
       "</div>"
      ],
      "text/plain": [
       "        backers_count                                              blurb  \\\n",
       "209220             76  Seattle Transmedia & Independent Film Festival...   \n",
       "209221             44  The @1000TimesYes 2009 Tweet Box is a handmade...   \n",
       "\n",
       "                                                 category  \\\n",
       "209220  {\"id\":295,\"name\":\"Festivals\",\"slug\":\"film & vi...   \n",
       "209221  {\"id\":13,\"name\":\"Journalism\",\"slug\":\"journalis...   \n",
       "\n",
       "        converted_pledged_amount country  created_at  \\\n",
       "209220                      5692      US  1425256957   \n",
       "209221                      1293      US  1263225900   \n",
       "\n",
       "                                                  creator currency  \\\n",
       "209220  {\"id\":307076473,\"name\":\"Timothy Vernor\",\"is_re...      USD   \n",
       "209221  {\"id\":1718677513,\"name\":\"Article\",\"slug\":\"arti...      USD   \n",
       "\n",
       "       currency_symbol  currency_trailing_code  ...  \\\n",
       "209220               $                    True  ...   \n",
       "209221               $                    True  ...   \n",
       "\n",
       "                                       slug  \\\n",
       "209220  transmedia-gallery-space-stiff-2015   \n",
       "209221      the-1000timesyes-2009-tweet-box   \n",
       "\n",
       "                                               source_url  spotlight  \\\n",
       "209220  https://www.kickstarter.com/discover/categorie...       True   \n",
       "209221  https://www.kickstarter.com/discover/categorie...       True   \n",
       "\n",
       "       staff_pick       state  state_changed_at  static_usd_rate  \\\n",
       "209220      False  successful        1429536379              1.0   \n",
       "209221       True  successful        1266814815              1.0   \n",
       "\n",
       "                                                     urls  usd_pledged  \\\n",
       "209220  {\"web\":{\"project\":\"https://www.kickstarter.com...       5692.0   \n",
       "209221  {\"web\":{\"project\":\"https://www.kickstarter.com...       1293.0   \n",
       "\n",
       "        usd_type  \n",
       "209220  domestic  \n",
       "209221  domestic  \n",
       "\n",
       "[2 rows x 37 columns]"
      ]
     },
     "execution_count": 5,
     "metadata": {},
     "output_type": "execute_result"
    }
   ],
   "source": [
    "df.tail(2)"
   ]
  },
  {
   "cell_type": "code",
   "execution_count": 6,
   "metadata": {
    "scrolled": false
   },
   "outputs": [
    {
     "name": "stdout",
     "output_type": "stream",
     "text": [
      "<class 'pandas.core.frame.DataFrame'>\n",
      "RangeIndex: 209222 entries, 0 to 209221\n",
      "Data columns (total 37 columns):\n",
      "backers_count               209222 non-null int64\n",
      "blurb                       209214 non-null object\n",
      "category                    209222 non-null object\n",
      "converted_pledged_amount    209222 non-null int64\n",
      "country                     209222 non-null object\n",
      "created_at                  209222 non-null int64\n",
      "creator                     209222 non-null object\n",
      "currency                    209222 non-null object\n",
      "currency_symbol             209222 non-null object\n",
      "currency_trailing_code      209222 non-null bool\n",
      "current_currency            209222 non-null object\n",
      "deadline                    209222 non-null int64\n",
      "disable_communication       209222 non-null bool\n",
      "friends                     300 non-null object\n",
      "fx_rate                     209222 non-null float64\n",
      "goal                        209222 non-null float64\n",
      "id                          209222 non-null int64\n",
      "is_backing                  300 non-null object\n",
      "is_starrable                209222 non-null bool\n",
      "is_starred                  300 non-null object\n",
      "launched_at                 209222 non-null int64\n",
      "location                    208996 non-null object\n",
      "name                        209222 non-null object\n",
      "permissions                 300 non-null object\n",
      "photo                       209222 non-null object\n",
      "pledged                     209222 non-null float64\n",
      "profile                     209222 non-null object\n",
      "slug                        209222 non-null object\n",
      "source_url                  209222 non-null object\n",
      "spotlight                   209222 non-null bool\n",
      "staff_pick                  209222 non-null bool\n",
      "state                       209222 non-null object\n",
      "state_changed_at            209222 non-null int64\n",
      "static_usd_rate             209222 non-null float64\n",
      "urls                        209222 non-null object\n",
      "usd_pledged                 209222 non-null float64\n",
      "usd_type                    208742 non-null object\n",
      "dtypes: bool(5), float64(5), int64(7), object(20)\n",
      "memory usage: 52.1+ MB\n"
     ]
    }
   ],
   "source": [
    "df.info()"
   ]
  },
  {
   "cell_type": "markdown",
   "metadata": {},
   "source": [
    "### Missing Data"
   ]
  },
  {
   "cell_type": "code",
   "execution_count": 7,
   "metadata": {},
   "outputs": [
    {
     "data": {
      "text/html": [
       "<div>\n",
       "<style scoped>\n",
       "    .dataframe tbody tr th:only-of-type {\n",
       "        vertical-align: middle;\n",
       "    }\n",
       "\n",
       "    .dataframe tbody tr th {\n",
       "        vertical-align: top;\n",
       "    }\n",
       "\n",
       "    .dataframe thead th {\n",
       "        text-align: right;\n",
       "    }\n",
       "</style>\n",
       "<table border=\"1\" class=\"dataframe\">\n",
       "  <thead>\n",
       "    <tr style=\"text-align: right;\">\n",
       "      <th></th>\n",
       "      <th>Number</th>\n",
       "      <th>Percentage</th>\n",
       "    </tr>\n",
       "  </thead>\n",
       "  <tbody>\n",
       "    <tr>\n",
       "      <th>blurb</th>\n",
       "      <td>8</td>\n",
       "      <td>0.0</td>\n",
       "    </tr>\n",
       "    <tr>\n",
       "      <th>friends</th>\n",
       "      <td>208922</td>\n",
       "      <td>99.9</td>\n",
       "    </tr>\n",
       "    <tr>\n",
       "      <th>is_backing</th>\n",
       "      <td>208922</td>\n",
       "      <td>99.9</td>\n",
       "    </tr>\n",
       "    <tr>\n",
       "      <th>is_starred</th>\n",
       "      <td>208922</td>\n",
       "      <td>99.9</td>\n",
       "    </tr>\n",
       "    <tr>\n",
       "      <th>location</th>\n",
       "      <td>226</td>\n",
       "      <td>0.1</td>\n",
       "    </tr>\n",
       "    <tr>\n",
       "      <th>permissions</th>\n",
       "      <td>208922</td>\n",
       "      <td>99.9</td>\n",
       "    </tr>\n",
       "    <tr>\n",
       "      <th>usd_type</th>\n",
       "      <td>480</td>\n",
       "      <td>0.2</td>\n",
       "    </tr>\n",
       "  </tbody>\n",
       "</table>\n",
       "</div>"
      ],
      "text/plain": [
       "             Number  Percentage\n",
       "blurb             8         0.0\n",
       "friends      208922        99.9\n",
       "is_backing   208922        99.9\n",
       "is_starred   208922        99.9\n",
       "location        226         0.1\n",
       "permissions  208922        99.9\n",
       "usd_type        480         0.2"
      ]
     },
     "execution_count": 7,
     "metadata": {},
     "output_type": "execute_result"
    }
   ],
   "source": [
    "missing = pd.DataFrame(df.isnull().sum(), columns=['Number'])\n",
    "missing['Percentage'] = round(missing.Number / df.shape[0] * 100, 1)\n",
    "missing[missing.Number != 0]"
   ]
  },
  {
   "cell_type": "markdown",
   "metadata": {},
   "source": [
    "For the features 'friends', 'is_backing', 'is_starred' and 'permissions' only .1 percent of the data is given.\n",
    "Therefore these features are not useable  and will be removed from the set. \n"
   ]
  },
  {
   "cell_type": "code",
   "execution_count": 8,
   "metadata": {},
   "outputs": [],
   "source": [
    "df.drop(['friends', 'permissions', 'is_backing', 'is_starred'], axis=1);"
   ]
  },
  {
   "cell_type": "code",
   "execution_count": 9,
   "metadata": {},
   "outputs": [
    {
     "data": {
      "text/plain": [
       "array([ 315,   47,  271, ..., 3142, 6586, 1192])"
      ]
     },
     "execution_count": 9,
     "metadata": {},
     "output_type": "execute_result"
    }
   ],
   "source": [
    "df.backers_count.unique()"
   ]
  },
  {
   "cell_type": "markdown",
   "metadata": {},
   "source": [
    "### Backers"
   ]
  },
  {
   "cell_type": "code",
   "execution_count": 10,
   "metadata": {},
   "outputs": [],
   "source": [
    "df.rename(columns = {'backers_count':'backers'}, inplace = True)"
   ]
  },
  {
   "cell_type": "markdown",
   "metadata": {},
   "source": [
    "### Blurb ( --> tbd)"
   ]
  },
  {
   "cell_type": "code",
   "execution_count": 11,
   "metadata": {},
   "outputs": [],
   "source": [
    "df.drop('blurb', axis=1);"
   ]
  },
  {
   "cell_type": "markdown",
   "metadata": {},
   "source": [
    "### Category"
   ]
  },
  {
   "cell_type": "code",
   "execution_count": 12,
   "metadata": {},
   "outputs": [
    {
     "data": {
      "text/plain": [
       "array(['{\"id\":266,\"name\":\"Footwear\",\"slug\":\"fashion/footwear\",\"position\":5,\"parent_id\":9,\"color\":16752598,\"urls\":{\"web\":{\"discover\":\"http://www.kickstarter.com/discover/categories/fashion/footwear\"}}}',\n",
       "       '{\"id\":273,\"name\":\"Playing Cards\",\"slug\":\"games/playing cards\",\"position\":4,\"parent_id\":12,\"color\":51627,\"urls\":{\"web\":{\"discover\":\"http://www.kickstarter.com/discover/categories/games/playing%20cards\"}}}',\n",
       "       '{\"id\":43,\"name\":\"Rock\",\"slug\":\"music/rock\",\"position\":17,\"parent_id\":14,\"color\":10878931,\"urls\":{\"web\":{\"discover\":\"http://www.kickstarter.com/discover/categories/music/rock\"}}}',\n",
       "       '{\"id\":48,\"name\":\"Nonfiction\",\"slug\":\"publishing/nonfiction\",\"position\":9,\"parent_id\":18,\"color\":14867664,\"urls\":{\"web\":{\"discover\":\"http://www.kickstarter.com/discover/categories/publishing/nonfiction\"}}}',\n",
       "       '{\"id\":36,\"name\":\"Classical Music\",\"slug\":\"music/classical music\",\"position\":3,\"parent_id\":14,\"color\":10878931,\"urls\":{\"web\":{\"discover\":\"http://www.kickstarter.com/discover/categories/music/classical%20music\"}}}',\n",
       "       '{\"id\":14,\"name\":\"Music\",\"slug\":\"music\",\"position\":11,\"color\":10878931,\"urls\":{\"web\":{\"discover\":\"http://www.kickstarter.com/discover/categories/music\"}}}',\n",
       "       '{\"id\":283,\"name\":\"Immersive\",\"slug\":\"theater/immersive\",\"position\":4,\"parent_id\":17,\"color\":16743775,\"urls\":{\"web\":{\"discover\":\"http://www.kickstarter.com/discover/categories/theater/immersive\"}}}',\n",
       "       '{\"id\":262,\"name\":\"Accessories\",\"slug\":\"fashion/accessories\",\"position\":1,\"parent_id\":9,\"color\":16752598,\"urls\":{\"web\":{\"discover\":\"http://www.kickstarter.com/discover/categories/fashion/accessories\"}}}',\n",
       "       '{\"id\":312,\"name\":\"Restaurants\",\"slug\":\"food/restaurants\",\"position\":9,\"parent_id\":10,\"color\":16725570,\"urls\":{\"web\":{\"discover\":\"http://www.kickstarter.com/discover/categories/food/restaurants\"}}}',\n",
       "       '{\"id\":54,\"name\":\"Mixed Media\",\"slug\":\"art/mixed media\",\"position\":6,\"parent_id\":1,\"color\":16760235,\"urls\":{\"web\":{\"discover\":\"http://www.kickstarter.com/discover/categories/art/mixed%20media\"}}}',\n",
       "       '{\"id\":44,\"name\":\"World Music\",\"slug\":\"music/world music\",\"position\":18,\"parent_id\":14,\"color\":10878931,\"urls\":{\"web\":{\"discover\":\"http://www.kickstarter.com/discover/categories/music/world%20music\"}}}',\n",
       "       '{\"id\":281,\"name\":\"Experimental\",\"slug\":\"theater/experimental\",\"position\":2,\"parent_id\":17,\"color\":16743775,\"urls\":{\"web\":{\"discover\":\"http://www.kickstarter.com/discover/categories/theater/experimental\"}}}',\n",
       "       '{\"id\":286,\"name\":\"Spaces\",\"slug\":\"theater/spaces\",\"position\":7,\"parent_id\":17,\"color\":16743775,\"urls\":{\"web\":{\"discover\":\"http://www.kickstarter.com/discover/categories/theater/spaces\"}}}',\n",
       "       '{\"id\":276,\"name\":\"Fine Art\",\"slug\":\"photography/fine art\",\"position\":2,\"parent_id\":15,\"color\":58341,\"urls\":{\"web\":{\"discover\":\"http://www.kickstarter.com/discover/categories/photography/fine%20art\"}}}',\n",
       "       '{\"id\":313,\"name\":\"Small Batch\",\"slug\":\"food/small batch\",\"position\":10,\"parent_id\":10,\"color\":16725570,\"urls\":{\"web\":{\"discover\":\"http://www.kickstarter.com/discover/categories/food/small%20batch\"}}}',\n",
       "       '{\"id\":285,\"name\":\"Plays\",\"slug\":\"theater/plays\",\"position\":6,\"parent_id\":17,\"color\":16743775,\"urls\":{\"web\":{\"discover\":\"http://www.kickstarter.com/discover/categories/theater/plays\"}}}',\n",
       "       '{\"id\":25,\"name\":\"Sculpture\",\"slug\":\"art/sculpture\",\"position\":10,\"parent_id\":1,\"color\":16760235,\"urls\":{\"web\":{\"discover\":\"http://www.kickstarter.com/discover/categories/art/sculpture\"}}}',\n",
       "       '{\"id\":15,\"name\":\"Photography\",\"slug\":\"photography\",\"position\":12,\"color\":58341,\"urls\":{\"web\":{\"discover\":\"http://www.kickstarter.com/discover/categories/photography\"}}}',\n",
       "       '{\"id\":9,\"name\":\"Fashion\",\"slug\":\"fashion\",\"position\":6,\"color\":16752598,\"urls\":{\"web\":{\"discover\":\"http://www.kickstarter.com/discover/categories/fashion\"}}}',\n",
       "       '{\"id\":38,\"name\":\"Electronic Music\",\"slug\":\"music/electronic music\",\"position\":6,\"parent_id\":14,\"color\":10878931,\"urls\":{\"web\":{\"discover\":\"http://www.kickstarter.com/discover/categories/music/electronic%20music\"}}}',\n",
       "       '{\"id\":51,\"name\":\"Software\",\"slug\":\"technology/software\",\"position\":11,\"parent_id\":16,\"color\":6526716,\"urls\":{\"web\":{\"discover\":\"http://www.kickstarter.com/discover/categories/technology/software\"}}}',\n",
       "       '{\"id\":263,\"name\":\"Apparel\",\"slug\":\"fashion/apparel\",\"position\":2,\"parent_id\":9,\"color\":16752598,\"urls\":{\"web\":{\"discover\":\"http://www.kickstarter.com/discover/categories/fashion/apparel\"}}}',\n",
       "       '{\"id\":24,\"name\":\"Performance Art\",\"slug\":\"art/performance art\",\"position\":8,\"parent_id\":1,\"color\":16760235,\"urls\":{\"web\":{\"discover\":\"http://www.kickstarter.com/discover/categories/art/performance%20art\"}}}',\n",
       "       '{\"id\":267,\"name\":\"Jewelry\",\"slug\":\"fashion/jewelry\",\"position\":6,\"parent_id\":9,\"color\":16752598,\"urls\":{\"web\":{\"discover\":\"http://www.kickstarter.com/discover/categories/fashion/jewelry\"}}}',\n",
       "       '{\"id\":257,\"name\":\"Workshops\",\"slug\":\"dance/workshops\",\"position\":4,\"parent_id\":6,\"color\":10917369,\"urls\":{\"web\":{\"discover\":\"http://www.kickstarter.com/discover/categories/dance/workshops\"}}}',\n",
       "       '{\"id\":17,\"name\":\"Theater\",\"slug\":\"theater\",\"position\":15,\"color\":16743775,\"urls\":{\"web\":{\"discover\":\"http://www.kickstarter.com/discover/categories/theater\"}}}',\n",
       "       '{\"id\":284,\"name\":\"Musical\",\"slug\":\"theater/musical\",\"position\":5,\"parent_id\":17,\"color\":16743775,\"urls\":{\"web\":{\"discover\":\"http://www.kickstarter.com/discover/categories/theater/musical\"}}}',\n",
       "       '{\"id\":280,\"name\":\"Photobooks\",\"slug\":\"photography/photobooks\",\"position\":5,\"parent_id\":15,\"color\":58341,\"urls\":{\"web\":{\"discover\":\"http://www.kickstarter.com/discover/categories/photography/photobooks\"}}}',\n",
       "       '{\"id\":277,\"name\":\"Nature\",\"slug\":\"photography/nature\",\"position\":3,\"parent_id\":15,\"color\":58341,\"urls\":{\"web\":{\"discover\":\"http://www.kickstarter.com/discover/categories/photography/nature\"}}}',\n",
       "       '{\"id\":275,\"name\":\"Animals\",\"slug\":\"photography/animals\",\"position\":1,\"parent_id\":15,\"color\":58341,\"urls\":{\"web\":{\"discover\":\"http://www.kickstarter.com/discover/categories/photography/animals\"}}}',\n",
       "       '{\"id\":269,\"name\":\"Ready-to-wear\",\"slug\":\"fashion/ready-to-wear\",\"position\":8,\"parent_id\":9,\"color\":16752598,\"urls\":{\"web\":{\"discover\":\"http://www.kickstarter.com/discover/categories/fashion/ready-to-wear\"}}}',\n",
       "       '{\"id\":279,\"name\":\"Places\",\"slug\":\"photography/places\",\"position\":6,\"parent_id\":15,\"color\":58341,\"urls\":{\"web\":{\"discover\":\"http://www.kickstarter.com/discover/categories/photography/places\"}}}',\n",
       "       '{\"id\":37,\"name\":\"Country & Folk\",\"slug\":\"music/country & folk\",\"position\":5,\"parent_id\":14,\"color\":10878931,\"urls\":{\"web\":{\"discover\":\"http://www.kickstarter.com/discover/categories/music/country%20&%20folk\"}}}',\n",
       "       '{\"id\":278,\"name\":\"People\",\"slug\":\"photography/people\",\"position\":4,\"parent_id\":15,\"color\":58341,\"urls\":{\"web\":{\"discover\":\"http://www.kickstarter.com/discover/categories/photography/people\"}}}',\n",
       "       '{\"id\":40,\"name\":\"Indie Rock\",\"slug\":\"music/indie rock\",\"position\":9,\"parent_id\":14,\"color\":10878931,\"urls\":{\"web\":{\"discover\":\"http://www.kickstarter.com/discover/categories/music/indie%20rock\"}}}',\n",
       "       '{\"id\":27,\"name\":\"Graphic Design\",\"slug\":\"design/graphic design\",\"position\":3,\"parent_id\":7,\"color\":2577151,\"urls\":{\"web\":{\"discover\":\"http://www.kickstarter.com/discover/categories/design/graphic%20design\"}}}',\n",
       "       '{\"id\":31,\"name\":\"Narrative Film\",\"slug\":\"film & video/narrative film\",\"position\":13,\"parent_id\":11,\"color\":16734574,\"urls\":{\"web\":{\"discover\":\"http://www.kickstarter.com/discover/categories/film%20&%20video/narrative%20film\"}}}',\n",
       "       '{\"id\":303,\"name\":\"Television\",\"slug\":\"film & video/television\",\"position\":17,\"parent_id\":11,\"color\":16734574,\"urls\":{\"web\":{\"discover\":\"http://www.kickstarter.com/discover/categories/film%20&%20video/television\"}}}',\n",
       "       '{\"id\":341,\"name\":\"Wearables\",\"slug\":\"technology/wearables\",\"position\":14,\"parent_id\":16,\"color\":6526716,\"urls\":{\"web\":{\"discover\":\"http://www.kickstarter.com/discover/categories/technology/wearables\"}}}',\n",
       "       '{\"id\":254,\"name\":\"Performances\",\"slug\":\"dance/performances\",\"position\":1,\"parent_id\":6,\"color\":10917369,\"urls\":{\"web\":{\"discover\":\"http://www.kickstarter.com/discover/categories/dance/performances\"}}}',\n",
       "       '{\"id\":339,\"name\":\"Sound\",\"slug\":\"technology/sound\",\"position\":12,\"parent_id\":16,\"color\":6526716,\"urls\":{\"web\":{\"discover\":\"http://www.kickstarter.com/discover/categories/technology/sound\"}}}',\n",
       "       '{\"id\":290,\"name\":\"Video Art\",\"slug\":\"art/video art\",\"position\":12,\"parent_id\":1,\"color\":16760235,\"urls\":{\"web\":{\"discover\":\"http://www.kickstarter.com/discover/categories/art/video%20art\"}}}',\n",
       "       '{\"id\":337,\"name\":\"Gadgets\",\"slug\":\"technology/gadgets\",\"position\":7,\"parent_id\":16,\"color\":6526716,\"urls\":{\"web\":{\"discover\":\"http://www.kickstarter.com/discover/categories/technology/gadgets\"}}}',\n",
       "       '{\"id\":351,\"name\":\"Printing\",\"slug\":\"crafts/printing\",\"position\":9,\"parent_id\":26,\"color\":16744876,\"urls\":{\"web\":{\"discover\":\"http://www.kickstarter.com/discover/categories/crafts/printing\"}}}',\n",
       "       '{\"id\":249,\"name\":\"Anthologies\",\"slug\":\"comics/anthologies\",\"position\":1,\"parent_id\":3,\"color\":16776056,\"urls\":{\"web\":{\"discover\":\"http://www.kickstarter.com/discover/categories/comics/anthologies\"}}}',\n",
       "       '{\"id\":45,\"name\":\"Art Books\",\"slug\":\"publishing/art books\",\"position\":3,\"parent_id\":18,\"color\":14867664,\"urls\":{\"web\":{\"discover\":\"http://www.kickstarter.com/discover/categories/publishing/art%20books\"}}}',\n",
       "       '{\"id\":334,\"name\":\"DIY Electronics\",\"slug\":\"technology/diy electronics\",\"position\":4,\"parent_id\":16,\"color\":6526716,\"urls\":{\"web\":{\"discover\":\"http://www.kickstarter.com/discover/categories/technology/diy%20electronics\"}}}',\n",
       "       '{\"id\":271,\"name\":\"Live Games\",\"slug\":\"games/live games\",\"position\":2,\"parent_id\":12,\"color\":51627,\"urls\":{\"web\":{\"discover\":\"http://www.kickstarter.com/discover/categories/games/live%20games\"}}}',\n",
       "       '{\"id\":331,\"name\":\"3D Printing\",\"slug\":\"technology/3d printing\",\"position\":1,\"parent_id\":16,\"color\":6526716,\"urls\":{\"web\":{\"discover\":\"http://www.kickstarter.com/discover/categories/technology/3d%20printing\"}}}',\n",
       "       '{\"id\":259,\"name\":\"Civic Design\",\"slug\":\"design/civic design\",\"position\":2,\"parent_id\":7,\"color\":2577151,\"urls\":{\"web\":{\"discover\":\"http://www.kickstarter.com/discover/categories/design/civic%20design\"}}}',\n",
       "       '{\"id\":16,\"name\":\"Technology\",\"slug\":\"technology\",\"position\":14,\"color\":6526716,\"urls\":{\"web\":{\"discover\":\"http://www.kickstarter.com/discover/categories/technology\"}}}',\n",
       "       '{\"id\":52,\"name\":\"Hardware\",\"slug\":\"technology/hardware\",\"position\":8,\"parent_id\":16,\"color\":6526716,\"urls\":{\"web\":{\"discover\":\"http://www.kickstarter.com/discover/categories/technology/hardware\"}}}',\n",
       "       '{\"id\":333,\"name\":\"Camera Equipment\",\"slug\":\"technology/camera equipment\",\"position\":3,\"parent_id\":16,\"color\":6526716,\"urls\":{\"web\":{\"discover\":\"http://www.kickstarter.com/discover/categories/technology/camera%20equipment\"}}}',\n",
       "       '{\"id\":340,\"name\":\"Space Exploration\",\"slug\":\"technology/space exploration\",\"position\":13,\"parent_id\":16,\"color\":6526716,\"urls\":{\"web\":{\"discover\":\"http://www.kickstarter.com/discover/categories/technology/space%20exploration\"}}}',\n",
       "       '{\"id\":342,\"name\":\"Web\",\"slug\":\"technology/web\",\"position\":15,\"parent_id\":16,\"color\":6526716,\"urls\":{\"web\":{\"discover\":\"http://www.kickstarter.com/discover/categories/technology/web\"}}}',\n",
       "       '{\"id\":389,\"name\":\"Literary Spaces\",\"slug\":\"publishing/literary spaces\",\"position\":16,\"parent_id\":18,\"color\":14867664,\"urls\":{\"web\":{\"discover\":\"http://www.kickstarter.com/discover/categories/publishing/literary%20spaces\"}}}',\n",
       "       '{\"id\":332,\"name\":\"Apps\",\"slug\":\"technology/apps\",\"position\":2,\"parent_id\":16,\"color\":6526716,\"urls\":{\"web\":{\"discover\":\"http://www.kickstarter.com/discover/categories/technology/apps\"}}}',\n",
       "       '{\"id\":338,\"name\":\"Robots\",\"slug\":\"technology/robots\",\"position\":10,\"parent_id\":16,\"color\":6526716,\"urls\":{\"web\":{\"discover\":\"http://www.kickstarter.com/discover/categories/technology/robots\"}}}',\n",
       "       '{\"id\":335,\"name\":\"Fabrication Tools\",\"slug\":\"technology/fabrication tools\",\"position\":5,\"parent_id\":16,\"color\":6526716,\"urls\":{\"web\":{\"discover\":\"http://www.kickstarter.com/discover/categories/technology/fabrication%20tools\"}}}',\n",
       "       '{\"id\":336,\"name\":\"Flight\",\"slug\":\"technology/flight\",\"position\":6,\"parent_id\":16,\"color\":6526716,\"urls\":{\"web\":{\"discover\":\"http://www.kickstarter.com/discover/categories/technology/flight\"}}}',\n",
       "       '{\"id\":354,\"name\":\"Taxidermy\",\"slug\":\"crafts/taxidermy\",\"position\":12,\"parent_id\":26,\"color\":16744876,\"urls\":{\"web\":{\"discover\":\"http://www.kickstarter.com/discover/categories/crafts/taxidermy\"}}}',\n",
       "       '{\"id\":315,\"name\":\"Vegan\",\"slug\":\"food/vegan\",\"position\":12,\"parent_id\":10,\"color\":16725570,\"urls\":{\"web\":{\"discover\":\"http://www.kickstarter.com/discover/categories/food/vegan\"}}}',\n",
       "       '{\"id\":314,\"name\":\"Spaces\",\"slug\":\"food/spaces\",\"position\":11,\"parent_id\":10,\"color\":16725570,\"urls\":{\"web\":{\"discover\":\"http://www.kickstarter.com/discover/categories/food/spaces\"}}}',\n",
       "       '{\"id\":268,\"name\":\"Pet Fashion\",\"slug\":\"fashion/pet fashion\",\"position\":7,\"parent_id\":9,\"color\":16752598,\"urls\":{\"web\":{\"discover\":\"http://www.kickstarter.com/discover/categories/fashion/pet%20fashion\"}}}',\n",
       "       '{\"id\":50,\"name\":\"Poetry\",\"slug\":\"publishing/poetry\",\"position\":11,\"parent_id\":18,\"color\":14867664,\"urls\":{\"web\":{\"discover\":\"http://www.kickstarter.com/discover/categories/publishing/poetry\"}}}',\n",
       "       '{\"id\":274,\"name\":\"Puzzles\",\"slug\":\"games/puzzles\",\"position\":5,\"parent_id\":12,\"color\":51627,\"urls\":{\"web\":{\"discover\":\"http://www.kickstarter.com/discover/categories/games/puzzles\"}}}',\n",
       "       '{\"id\":28,\"name\":\"Product Design\",\"slug\":\"design/product design\",\"position\":5,\"parent_id\":7,\"color\":2577151,\"urls\":{\"web\":{\"discover\":\"http://www.kickstarter.com/discover/categories/design/product%20design\"}}}',\n",
       "       '{\"id\":288,\"name\":\"Installations\",\"slug\":\"art/installations\",\"position\":5,\"parent_id\":1,\"color\":16760235,\"urls\":{\"web\":{\"discover\":\"http://www.kickstarter.com/discover/categories/art/installations\"}}}',\n",
       "       '{\"id\":308,\"name\":\"Events\",\"slug\":\"food/events\",\"position\":5,\"parent_id\":10,\"color\":16725570,\"urls\":{\"web\":{\"discover\":\"http://www.kickstarter.com/discover/categories/food/events\"}}}',\n",
       "       '{\"id\":250,\"name\":\"Comic Books\",\"slug\":\"comics/comic books\",\"position\":2,\"parent_id\":3,\"color\":16776056,\"urls\":{\"web\":{\"discover\":\"http://www.kickstarter.com/discover/categories/comics/comic%20books\"}}}',\n",
       "       '{\"id\":30,\"name\":\"Documentary\",\"slug\":\"film & video/documentary\",\"position\":4,\"parent_id\":11,\"color\":16734574,\"urls\":{\"web\":{\"discover\":\"http://www.kickstarter.com/discover/categories/film%20&%20video/documentary\"}}}',\n",
       "       '{\"id\":318,\"name\":\"Faith\",\"slug\":\"music/faith\",\"position\":7,\"parent_id\":14,\"color\":10878931,\"urls\":{\"web\":{\"discover\":\"http://www.kickstarter.com/discover/categories/music/faith\"}}}',\n",
       "       '{\"id\":32,\"name\":\"Shorts\",\"slug\":\"film & video/shorts\",\"position\":16,\"parent_id\":11,\"color\":16734574,\"urls\":{\"web\":{\"discover\":\"http://www.kickstarter.com/discover/categories/film%20&%20video/shorts\"}}}',\n",
       "       '{\"id\":20,\"name\":\"Conceptual Art\",\"slug\":\"art/conceptual art\",\"position\":2,\"parent_id\":1,\"color\":16760235,\"urls\":{\"web\":{\"discover\":\"http://www.kickstarter.com/discover/categories/art/conceptual%20art\"}}}',\n",
       "       '{\"id\":327,\"name\":\"Translations\",\"slug\":\"publishing/translations\",\"position\":13,\"parent_id\":18,\"color\":14867664,\"urls\":{\"web\":{\"discover\":\"http://www.kickstarter.com/discover/categories/publishing/translations\"}}}',\n",
       "       '{\"id\":3,\"name\":\"Comics\",\"slug\":\"comics\",\"position\":2,\"color\":16776056,\"urls\":{\"web\":{\"discover\":\"http://www.kickstarter.com/discover/categories/comics\"}}}',\n",
       "       '{\"id\":252,\"name\":\"Graphic Novels\",\"slug\":\"comics/graphic novels\",\"position\":4,\"parent_id\":3,\"color\":16776056,\"urls\":{\"web\":{\"discover\":\"http://www.kickstarter.com/discover/categories/comics/graphic%20novels\"}}}',\n",
       "       '{\"id\":350,\"name\":\"Pottery\",\"slug\":\"crafts/pottery\",\"position\":8,\"parent_id\":26,\"color\":16744876,\"urls\":{\"web\":{\"discover\":\"http://www.kickstarter.com/discover/categories/crafts/pottery\"}}}',\n",
       "       '{\"id\":34,\"name\":\"Tabletop Games\",\"slug\":\"games/tabletop games\",\"position\":6,\"parent_id\":12,\"color\":51627,\"urls\":{\"web\":{\"discover\":\"http://www.kickstarter.com/discover/categories/games/tabletop%20games\"}}}',\n",
       "       '{\"id\":1,\"name\":\"Art\",\"slug\":\"art\",\"position\":1,\"color\":16760235,\"urls\":{\"web\":{\"discover\":\"http://www.kickstarter.com/discover/categories/art\"}}}',\n",
       "       '{\"id\":21,\"name\":\"Digital Art\",\"slug\":\"art/digital art\",\"position\":3,\"parent_id\":1,\"color\":16760235,\"urls\":{\"web\":{\"discover\":\"http://www.kickstarter.com/discover/categories/art/digital%20art\"}}}',\n",
       "       '{\"id\":329,\"name\":\"Zines\",\"slug\":\"publishing/zines\",\"position\":15,\"parent_id\":18,\"color\":14867664,\"urls\":{\"web\":{\"discover\":\"http://www.kickstarter.com/discover/categories/publishing/zines\"}}}',\n",
       "       '{\"id\":291,\"name\":\"Action\",\"slug\":\"film & video/action\",\"position\":1,\"parent_id\":11,\"color\":16734574,\"urls\":{\"web\":{\"discover\":\"http://www.kickstarter.com/discover/categories/film%20&%20video/action\"}}}',\n",
       "       '{\"id\":53,\"name\":\"Public Art\",\"slug\":\"art/public art\",\"position\":9,\"parent_id\":1,\"color\":16760235,\"urls\":{\"web\":{\"discover\":\"http://www.kickstarter.com/discover/categories/art/public%20art\"}}}',\n",
       "       '{\"id\":324,\"name\":\"Anthologies\",\"slug\":\"publishing/anthologies\",\"position\":2,\"parent_id\":18,\"color\":14867664,\"urls\":{\"web\":{\"discover\":\"http://www.kickstarter.com/discover/categories/publishing/anthologies\"}}}',\n",
       "       '{\"id\":388,\"name\":\"Comedy\",\"slug\":\"theater/comedy\",\"position\":1,\"parent_id\":17,\"color\":16743775,\"urls\":{\"web\":{\"discover\":\"http://www.kickstarter.com/discover/categories/theater/comedy\"}}}',\n",
       "       '{\"id\":23,\"name\":\"Painting\",\"slug\":\"art/painting\",\"position\":7,\"parent_id\":1,\"color\":16760235,\"urls\":{\"web\":{\"discover\":\"http://www.kickstarter.com/discover/categories/art/painting\"}}}',\n",
       "       '{\"id\":253,\"name\":\"Webcomics\",\"slug\":\"comics/webcomics\",\"position\":5,\"parent_id\":3,\"color\":16776056,\"urls\":{\"web\":{\"discover\":\"http://www.kickstarter.com/discover/categories/comics/webcomics\"}}}',\n",
       "       '{\"id\":287,\"name\":\"Ceramics\",\"slug\":\"art/ceramics\",\"position\":1,\"parent_id\":1,\"color\":16760235,\"urls\":{\"web\":{\"discover\":\"http://www.kickstarter.com/discover/categories/art/ceramics\"}}}',\n",
       "       '{\"id\":22,\"name\":\"Illustration\",\"slug\":\"art/illustration\",\"position\":4,\"parent_id\":1,\"color\":16760235,\"urls\":{\"web\":{\"discover\":\"http://www.kickstarter.com/discover/categories/art/illustration\"}}}',\n",
       "       '{\"id\":39,\"name\":\"Hip-Hop\",\"slug\":\"music/hip-hop\",\"position\":8,\"parent_id\":14,\"color\":10878931,\"urls\":{\"web\":{\"discover\":\"http://www.kickstarter.com/discover/categories/music/hip-hop\"}}}',\n",
       "       '{\"id\":306,\"name\":\"Cookbooks\",\"slug\":\"food/cookbooks\",\"position\":3,\"parent_id\":10,\"color\":16725570,\"urls\":{\"web\":{\"discover\":\"http://www.kickstarter.com/discover/categories/food/cookbooks\"}}}',\n",
       "       '{\"id\":10,\"name\":\"Food\",\"slug\":\"food\",\"position\":8,\"color\":16725570,\"urls\":{\"web\":{\"discover\":\"http://www.kickstarter.com/discover/categories/food\"}}}',\n",
       "       '{\"id\":302,\"name\":\"Thrillers\",\"slug\":\"film & video/thrillers\",\"position\":18,\"parent_id\":11,\"color\":16734574,\"urls\":{\"web\":{\"discover\":\"http://www.kickstarter.com/discover/categories/film%20&%20video/thrillers\"}}}',\n",
       "       '{\"id\":7,\"name\":\"Design\",\"slug\":\"design\",\"position\":5,\"color\":2577151,\"urls\":{\"web\":{\"discover\":\"http://www.kickstarter.com/discover/categories/design\"}}}',\n",
       "       '{\"id\":298,\"name\":\"Movie Theaters\",\"slug\":\"film & video/movie theaters\",\"position\":11,\"parent_id\":11,\"color\":16734574,\"urls\":{\"web\":{\"discover\":\"http://www.kickstarter.com/discover/categories/film%20&%20video/movie%20theaters\"}}}',\n",
       "       '{\"id\":46,\"name\":\"Children\\'s Books\",\"slug\":\"publishing/children\\'s books\",\"position\":5,\"parent_id\":18,\"color\":14867664,\"urls\":{\"web\":{\"discover\":\"http://www.kickstarter.com/discover/categories/publishing/children\\'s%20books\"}}}',\n",
       "       '{\"id\":323,\"name\":\"Academic\",\"slug\":\"publishing/academic\",\"position\":1,\"parent_id\":18,\"color\":14867664,\"urls\":{\"web\":{\"discover\":\"http://www.kickstarter.com/discover/categories/publishing/academic\"}}}',\n",
       "       '{\"id\":35,\"name\":\"Video Games\",\"slug\":\"games/video games\",\"position\":7,\"parent_id\":12,\"color\":51627,\"urls\":{\"web\":{\"discover\":\"http://www.kickstarter.com/discover/categories/games/video%20games\"}}}',\n",
       "       '{\"id\":264,\"name\":\"Childrenswear\",\"slug\":\"fashion/childrenswear\",\"position\":3,\"parent_id\":9,\"color\":16752598,\"urls\":{\"web\":{\"discover\":\"http://www.kickstarter.com/discover/categories/fashion/childrenswear\"}}}',\n",
       "       '{\"id\":299,\"name\":\"Music Videos\",\"slug\":\"film & video/music videos\",\"position\":12,\"parent_id\":11,\"color\":16734574,\"urls\":{\"web\":{\"discover\":\"http://www.kickstarter.com/discover/categories/film%20&%20video/music%20videos\"}}}',\n",
       "       '{\"id\":307,\"name\":\"Drinks\",\"slug\":\"food/drinks\",\"position\":4,\"parent_id\":10,\"color\":16725570,\"urls\":{\"web\":{\"discover\":\"http://www.kickstarter.com/discover/categories/food/drinks\"}}}',\n",
       "       '{\"id\":296,\"name\":\"Fantasy\",\"slug\":\"film & video/fantasy\",\"position\":8,\"parent_id\":11,\"color\":16734574,\"urls\":{\"web\":{\"discover\":\"http://www.kickstarter.com/discover/categories/film%20&%20video/fantasy\"}}}',\n",
       "       '{\"id\":320,\"name\":\"Latin\",\"slug\":\"music/latin\",\"position\":12,\"parent_id\":14,\"color\":10878931,\"urls\":{\"web\":{\"discover\":\"http://www.kickstarter.com/discover/categories/music/latin\"}}}',\n",
       "       '{\"id\":300,\"name\":\"Romance\",\"slug\":\"film & video/romance\",\"position\":14,\"parent_id\":11,\"color\":16734574,\"urls\":{\"web\":{\"discover\":\"http://www.kickstarter.com/discover/categories/film%20&%20video/romance\"}}}',\n",
       "       '{\"id\":353,\"name\":\"Stationery\",\"slug\":\"crafts/stationery\",\"position\":11,\"parent_id\":26,\"color\":16744876,\"urls\":{\"web\":{\"discover\":\"http://www.kickstarter.com/discover/categories/crafts/stationery\"}}}',\n",
       "       '{\"id\":344,\"name\":\"Crochet\",\"slug\":\"crafts/crochet\",\"position\":2,\"parent_id\":26,\"color\":16744876,\"urls\":{\"web\":{\"discover\":\"http://www.kickstarter.com/discover/categories/crafts/crochet\"}}}',\n",
       "       '{\"id\":387,\"name\":\"Comedy\",\"slug\":\"publishing/comedy\",\"position\":6,\"parent_id\":18,\"color\":14867664,\"urls\":{\"web\":{\"discover\":\"http://www.kickstarter.com/discover/categories/publishing/comedy\"}}}',\n",
       "       '{\"id\":261,\"name\":\"Typography\",\"slug\":\"design/typography\",\"position\":6,\"parent_id\":7,\"color\":2577151,\"urls\":{\"web\":{\"discover\":\"http://www.kickstarter.com/discover/categories/design/typography\"}}}',\n",
       "       '{\"id\":310,\"name\":\"Farmer\\'s Markets\",\"slug\":\"food/farmer\\'s markets\",\"position\":6,\"parent_id\":10,\"color\":16725570,\"urls\":{\"web\":{\"discover\":\"http://www.kickstarter.com/discover/categories/food/farmer\\'s%20markets\"}}}',\n",
       "       '{\"id\":311,\"name\":\"Food Trucks\",\"slug\":\"food/food trucks\",\"position\":8,\"parent_id\":10,\"color\":16725570,\"urls\":{\"web\":{\"discover\":\"http://www.kickstarter.com/discover/categories/food/food%20trucks\"}}}',\n",
       "       '{\"id\":328,\"name\":\"Young Adult\",\"slug\":\"publishing/young adult\",\"position\":14,\"parent_id\":18,\"color\":14867664,\"urls\":{\"web\":{\"discover\":\"http://www.kickstarter.com/discover/categories/publishing/young%20adult\"}}}',\n",
       "       '{\"id\":29,\"name\":\"Animation\",\"slug\":\"film & video/animation\",\"position\":2,\"parent_id\":11,\"color\":16734574,\"urls\":{\"web\":{\"discover\":\"http://www.kickstarter.com/discover/categories/film%20&%20video/animation\"}}}',\n",
       "       '{\"id\":356,\"name\":\"Woodworking\",\"slug\":\"crafts/woodworking\",\"position\":14,\"parent_id\":26,\"color\":16744876,\"urls\":{\"web\":{\"discover\":\"http://www.kickstarter.com/discover/categories/crafts/woodworking\"}}}',\n",
       "       '{\"id\":345,\"name\":\"DIY\",\"slug\":\"crafts/diy\",\"position\":3,\"parent_id\":26,\"color\":16744876,\"urls\":{\"web\":{\"discover\":\"http://www.kickstarter.com/discover/categories/crafts/diy\"}}}',\n",
       "       '{\"id\":26,\"name\":\"Crafts\",\"slug\":\"crafts\",\"position\":3,\"color\":16744876,\"urls\":{\"web\":{\"discover\":\"http://www.kickstarter.com/discover/categories/crafts\"}}}',\n",
       "       '{\"id\":316,\"name\":\"Blues\",\"slug\":\"music/blues\",\"position\":1,\"parent_id\":14,\"color\":10878931,\"urls\":{\"web\":{\"discover\":\"http://www.kickstarter.com/discover/categories/music/blues\"}}}',\n",
       "       '{\"id\":270,\"name\":\"Gaming Hardware\",\"slug\":\"games/gaming hardware\",\"position\":1,\"parent_id\":12,\"color\":51627,\"urls\":{\"web\":{\"discover\":\"http://www.kickstarter.com/discover/categories/games/gaming%20hardware\"}}}',\n",
       "       '{\"id\":361,\"name\":\"Web\",\"slug\":\"journalism/web\",\"position\":5,\"parent_id\":13,\"color\":1228010,\"urls\":{\"web\":{\"discover\":\"http://www.kickstarter.com/discover/categories/journalism/web\"}}}',\n",
       "       '{\"id\":347,\"name\":\"Glass\",\"slug\":\"crafts/glass\",\"position\":5,\"parent_id\":26,\"color\":16744876,\"urls\":{\"web\":{\"discover\":\"http://www.kickstarter.com/discover/categories/crafts/glass\"}}}',\n",
       "       '{\"id\":258,\"name\":\"Architecture\",\"slug\":\"design/architecture\",\"position\":1,\"parent_id\":7,\"color\":2577151,\"urls\":{\"web\":{\"discover\":\"http://www.kickstarter.com/discover/categories/design/architecture\"}}}',\n",
       "       '{\"id\":322,\"name\":\"R&B\",\"slug\":\"music/r&b\",\"position\":16,\"parent_id\":14,\"color\":10878931,\"urls\":{\"web\":{\"discover\":\"http://www.kickstarter.com/discover/categories/music/r&b\"}}}',\n",
       "       '{\"id\":11,\"name\":\"Film & Video\",\"slug\":\"film & video\",\"position\":7,\"color\":16734574,\"urls\":{\"web\":{\"discover\":\"http://www.kickstarter.com/discover/categories/film%20&%20video\"}}}',\n",
       "       '{\"id\":355,\"name\":\"Weaving\",\"slug\":\"crafts/weaving\",\"position\":13,\"parent_id\":26,\"color\":16744876,\"urls\":{\"web\":{\"discover\":\"http://www.kickstarter.com/discover/categories/crafts/weaving\"}}}',\n",
       "       '{\"id\":343,\"name\":\"Candles\",\"slug\":\"crafts/candles\",\"position\":1,\"parent_id\":26,\"color\":16744876,\"urls\":{\"web\":{\"discover\":\"http://www.kickstarter.com/discover/categories/crafts/candles\"}}}',\n",
       "       '{\"id\":297,\"name\":\"Horror\",\"slug\":\"film & video/horror\",\"position\":10,\"parent_id\":11,\"color\":16734574,\"urls\":{\"web\":{\"discover\":\"http://www.kickstarter.com/discover/categories/film%20&%20video/horror\"}}}',\n",
       "       '{\"id\":295,\"name\":\"Festivals\",\"slug\":\"film & video/festivals\",\"position\":9,\"parent_id\":11,\"color\":16734574,\"urls\":{\"web\":{\"discover\":\"http://www.kickstarter.com/discover/categories/film%20&%20video/festivals\"}}}',\n",
       "       '{\"id\":49,\"name\":\"Periodicals\",\"slug\":\"publishing/periodicals\",\"position\":10,\"parent_id\":18,\"color\":14867664,\"urls\":{\"web\":{\"discover\":\"http://www.kickstarter.com/discover/categories/publishing/periodicals\"}}}',\n",
       "       '{\"id\":348,\"name\":\"Knitting\",\"slug\":\"crafts/knitting\",\"position\":6,\"parent_id\":26,\"color\":16744876,\"urls\":{\"web\":{\"discover\":\"http://www.kickstarter.com/discover/categories/crafts/knitting\"}}}',\n",
       "       '{\"id\":319,\"name\":\"Kids\",\"slug\":\"music/kids\",\"position\":11,\"parent_id\":14,\"color\":10878931,\"urls\":{\"web\":{\"discover\":\"http://www.kickstarter.com/discover/categories/music/kids\"}}}',\n",
       "       '{\"id\":292,\"name\":\"Comedy\",\"slug\":\"film & video/comedy\",\"position\":3,\"parent_id\":11,\"color\":16734574,\"urls\":{\"web\":{\"discover\":\"http://www.kickstarter.com/discover/categories/film%20&%20video/comedy\"}}}',\n",
       "       '{\"id\":33,\"name\":\"Webseries\",\"slug\":\"film & video/webseries\",\"position\":19,\"parent_id\":11,\"color\":16734574,\"urls\":{\"web\":{\"discover\":\"http://www.kickstarter.com/discover/categories/film%20&%20video/webseries\"}}}',\n",
       "       '{\"id\":293,\"name\":\"Drama\",\"slug\":\"film & video/drama\",\"position\":5,\"parent_id\":11,\"color\":16734574,\"urls\":{\"web\":{\"discover\":\"http://www.kickstarter.com/discover/categories/film%20&%20video/drama\"}}}',\n",
       "       '{\"id\":301,\"name\":\"Science Fiction\",\"slug\":\"film & video/science fiction\",\"position\":15,\"parent_id\":11,\"color\":16734574,\"urls\":{\"web\":{\"discover\":\"http://www.kickstarter.com/discover/categories/film%20&%20video/science%20fiction\"}}}',\n",
       "       '{\"id\":282,\"name\":\"Festivals\",\"slug\":\"theater/festivals\",\"position\":3,\"parent_id\":17,\"color\":16743775,\"urls\":{\"web\":{\"discover\":\"http://www.kickstarter.com/discover/categories/theater/festivals\"}}}',\n",
       "       '{\"id\":42,\"name\":\"Pop\",\"slug\":\"music/pop\",\"position\":14,\"parent_id\":14,\"color\":10878931,\"urls\":{\"web\":{\"discover\":\"http://www.kickstarter.com/discover/categories/music/pop\"}}}',\n",
       "       '{\"id\":41,\"name\":\"Jazz\",\"slug\":\"music/jazz\",\"position\":10,\"parent_id\":14,\"color\":10878931,\"urls\":{\"web\":{\"discover\":\"http://www.kickstarter.com/discover/categories/music/jazz\"}}}',\n",
       "       '{\"id\":321,\"name\":\"Punk\",\"slug\":\"music/punk\",\"position\":15,\"parent_id\":14,\"color\":10878931,\"urls\":{\"web\":{\"discover\":\"http://www.kickstarter.com/discover/categories/music/punk\"}}}',\n",
       "       '{\"id\":352,\"name\":\"Quilts\",\"slug\":\"crafts/quilts\",\"position\":10,\"parent_id\":26,\"color\":16744876,\"urls\":{\"web\":{\"discover\":\"http://www.kickstarter.com/discover/categories/crafts/quilts\"}}}',\n",
       "       '{\"id\":6,\"name\":\"Dance\",\"slug\":\"dance\",\"position\":4,\"color\":10917369,\"urls\":{\"web\":{\"discover\":\"http://www.kickstarter.com/discover/categories/dance\"}}}',\n",
       "       '{\"id\":47,\"name\":\"Fiction\",\"slug\":\"publishing/fiction\",\"position\":7,\"parent_id\":18,\"color\":14867664,\"urls\":{\"web\":{\"discover\":\"http://www.kickstarter.com/discover/categories/publishing/fiction\"}}}',\n",
       "       '{\"id\":330,\"name\":\"Family\",\"slug\":\"film & video/family\",\"position\":7,\"parent_id\":11,\"color\":16734574,\"urls\":{\"web\":{\"discover\":\"http://www.kickstarter.com/discover/categories/film%20&%20video/family\"}}}',\n",
       "       '{\"id\":358,\"name\":\"Photo\",\"slug\":\"journalism/photo\",\"position\":2,\"parent_id\":13,\"color\":1228010,\"urls\":{\"web\":{\"discover\":\"http://www.kickstarter.com/discover/categories/journalism/photo\"}}}',\n",
       "       '{\"id\":260,\"name\":\"Interactive Design\",\"slug\":\"design/interactive design\",\"position\":4,\"parent_id\":7,\"color\":2577151,\"urls\":{\"web\":{\"discover\":\"http://www.kickstarter.com/discover/categories/design/interactive%20design\"}}}',\n",
       "       '{\"id\":359,\"name\":\"Print\",\"slug\":\"journalism/print\",\"position\":3,\"parent_id\":13,\"color\":1228010,\"urls\":{\"web\":{\"discover\":\"http://www.kickstarter.com/discover/categories/journalism/print\"}}}',\n",
       "       '{\"id\":325,\"name\":\"Calendars\",\"slug\":\"publishing/calendars\",\"position\":4,\"parent_id\":18,\"color\":14867664,\"urls\":{\"web\":{\"discover\":\"http://www.kickstarter.com/discover/categories/publishing/calendars\"}}}',\n",
       "       '{\"id\":256,\"name\":\"Spaces\",\"slug\":\"dance/spaces\",\"position\":3,\"parent_id\":6,\"color\":10917369,\"urls\":{\"web\":{\"discover\":\"http://www.kickstarter.com/discover/categories/dance/spaces\"}}}',\n",
       "       '{\"id\":255,\"name\":\"Residencies\",\"slug\":\"dance/residencies\",\"position\":2,\"parent_id\":6,\"color\":10917369,\"urls\":{\"web\":{\"discover\":\"http://www.kickstarter.com/discover/categories/dance/residencies\"}}}',\n",
       "       '{\"id\":294,\"name\":\"Experimental\",\"slug\":\"film & video/experimental\",\"position\":6,\"parent_id\":11,\"color\":16734574,\"urls\":{\"web\":{\"discover\":\"http://www.kickstarter.com/discover/categories/film%20&%20video/experimental\"}}}',\n",
       "       '{\"id\":289,\"name\":\"Textiles\",\"slug\":\"art/textiles\",\"position\":11,\"parent_id\":1,\"color\":16760235,\"urls\":{\"web\":{\"discover\":\"http://www.kickstarter.com/discover/categories/art/textiles\"}}}',\n",
       "       '{\"id\":18,\"name\":\"Publishing\",\"slug\":\"publishing\",\"position\":13,\"color\":14867664,\"urls\":{\"web\":{\"discover\":\"http://www.kickstarter.com/discover/categories/publishing\"}}}',\n",
       "       '{\"id\":357,\"name\":\"Audio\",\"slug\":\"journalism/audio\",\"position\":1,\"parent_id\":13,\"color\":1228010,\"urls\":{\"web\":{\"discover\":\"http://www.kickstarter.com/discover/categories/journalism/audio\"}}}',\n",
       "       '{\"id\":360,\"name\":\"Video\",\"slug\":\"journalism/video\",\"position\":4,\"parent_id\":13,\"color\":1228010,\"urls\":{\"web\":{\"discover\":\"http://www.kickstarter.com/discover/categories/journalism/video\"}}}',\n",
       "       '{\"id\":362,\"name\":\"Makerspaces\",\"slug\":\"technology/makerspaces\",\"position\":9,\"parent_id\":16,\"color\":6526716,\"urls\":{\"web\":{\"discover\":\"http://www.kickstarter.com/discover/categories/technology/makerspaces\"}}}',\n",
       "       '{\"id\":326,\"name\":\"Literary Journals\",\"slug\":\"publishing/literary journals\",\"position\":8,\"parent_id\":18,\"color\":14867664,\"urls\":{\"web\":{\"discover\":\"http://www.kickstarter.com/discover/categories/publishing/literary%20journals\"}}}',\n",
       "       '{\"id\":304,\"name\":\"Bacon\",\"slug\":\"food/bacon\",\"position\":1,\"parent_id\":10,\"color\":16725570,\"urls\":{\"web\":{\"discover\":\"http://www.kickstarter.com/discover/categories/food/bacon\"}}}',\n",
       "       '{\"id\":305,\"name\":\"Community Gardens\",\"slug\":\"food/community gardens\",\"position\":2,\"parent_id\":10,\"color\":16725570,\"urls\":{\"web\":{\"discover\":\"http://www.kickstarter.com/discover/categories/food/community%20gardens\"}}}',\n",
       "       '{\"id\":349,\"name\":\"Letterpress\",\"slug\":\"publishing/letterpress\",\"position\":7,\"parent_id\":18,\"color\":14867664,\"urls\":{\"web\":{\"discover\":\"http://www.kickstarter.com/discover/categories/publishing/letterpress\"}}}',\n",
       "       '{\"id\":239,\"name\":\"Radio & Podcasts\",\"slug\":\"publishing/radio & podcasts\",\"position\":12,\"parent_id\":18,\"color\":14867664,\"urls\":{\"web\":{\"discover\":\"http://www.kickstarter.com/discover/categories/publishing/radio%20&%20podcasts\"}}}',\n",
       "       '{\"id\":272,\"name\":\"Mobile Games\",\"slug\":\"games/mobile games\",\"position\":3,\"parent_id\":12,\"color\":51627,\"urls\":{\"web\":{\"discover\":\"http://www.kickstarter.com/discover/categories/games/mobile%20games\"}}}',\n",
       "       '{\"id\":309,\"name\":\"Farms\",\"slug\":\"food/farms\",\"position\":7,\"parent_id\":10,\"color\":16725570,\"urls\":{\"web\":{\"discover\":\"http://www.kickstarter.com/discover/categories/food/farms\"}}}',\n",
       "       '{\"id\":13,\"name\":\"Journalism\",\"slug\":\"journalism\",\"position\":10,\"color\":1228010,\"urls\":{\"web\":{\"discover\":\"http://www.kickstarter.com/discover/categories/journalism\"}}}',\n",
       "       '{\"id\":241,\"name\":\"Metal\",\"slug\":\"music/metal\",\"position\":13,\"parent_id\":14,\"color\":10878931,\"urls\":{\"web\":{\"discover\":\"http://www.kickstarter.com/discover/categories/music/metal\"}}}',\n",
       "       '{\"id\":265,\"name\":\"Couture\",\"slug\":\"fashion/couture\",\"position\":4,\"parent_id\":9,\"color\":16752598,\"urls\":{\"web\":{\"discover\":\"http://www.kickstarter.com/discover/categories/fashion/couture\"}}}',\n",
       "       '{\"id\":251,\"name\":\"Events\",\"slug\":\"comics/events\",\"position\":3,\"parent_id\":3,\"color\":16776056,\"urls\":{\"web\":{\"discover\":\"http://www.kickstarter.com/discover/categories/comics/events\"}}}',\n",
       "       '{\"id\":12,\"name\":\"Games\",\"slug\":\"games\",\"position\":9,\"color\":51627,\"urls\":{\"web\":{\"discover\":\"http://www.kickstarter.com/discover/categories/games\"}}}',\n",
       "       '{\"id\":386,\"name\":\"Comedy\",\"slug\":\"music/comedy\",\"position\":4,\"parent_id\":14,\"color\":10878931,\"urls\":{\"web\":{\"discover\":\"http://www.kickstarter.com/discover/categories/music/comedy\"}}}',\n",
       "       '{\"id\":346,\"name\":\"Embroidery\",\"slug\":\"crafts/embroidery\",\"position\":4,\"parent_id\":26,\"color\":16744876,\"urls\":{\"web\":{\"discover\":\"http://www.kickstarter.com/discover/categories/crafts/embroidery\"}}}',\n",
       "       '{\"id\":317,\"name\":\"Chiptune\",\"slug\":\"music/chiptune\",\"position\":2,\"parent_id\":14,\"color\":10878931,\"urls\":{\"web\":{\"discover\":\"http://www.kickstarter.com/discover/categories/music/chiptune\"}}}'],\n",
       "      dtype=object)"
      ]
     },
     "execution_count": 12,
     "metadata": {},
     "output_type": "execute_result"
    }
   ],
   "source": [
    "df.category.unique()"
   ]
  },
  {
   "cell_type": "code",
   "execution_count": 13,
   "metadata": {},
   "outputs": [
    {
     "data": {
      "text/html": [
       "<div>\n",
       "<style scoped>\n",
       "    .dataframe tbody tr th:only-of-type {\n",
       "        vertical-align: middle;\n",
       "    }\n",
       "\n",
       "    .dataframe tbody tr th {\n",
       "        vertical-align: top;\n",
       "    }\n",
       "\n",
       "    .dataframe thead th {\n",
       "        text-align: right;\n",
       "    }\n",
       "</style>\n",
       "<table border=\"1\" class=\"dataframe\">\n",
       "  <thead>\n",
       "    <tr style=\"text-align: right;\">\n",
       "      <th></th>\n",
       "      <th>0</th>\n",
       "    </tr>\n",
       "  </thead>\n",
       "  <tbody>\n",
       "    <tr>\n",
       "      <th>0</th>\n",
       "      <td>{\"id\":266,\"name\":\"Footwear\",\"slug\":\"fashion/fo...</td>\n",
       "    </tr>\n",
       "    <tr>\n",
       "      <th>1</th>\n",
       "      <td>{\"id\":273,\"name\":\"Playing Cards\",\"slug\":\"games...</td>\n",
       "    </tr>\n",
       "    <tr>\n",
       "      <th>2</th>\n",
       "      <td>{\"id\":43,\"name\":\"Rock\",\"slug\":\"music/rock\",\"po...</td>\n",
       "    </tr>\n",
       "    <tr>\n",
       "      <th>3</th>\n",
       "      <td>{\"id\":273,\"name\":\"Playing Cards\",\"slug\":\"games...</td>\n",
       "    </tr>\n",
       "    <tr>\n",
       "      <th>4</th>\n",
       "      <td>{\"id\":48,\"name\":\"Nonfiction\",\"slug\":\"publishin...</td>\n",
       "    </tr>\n",
       "  </tbody>\n",
       "</table>\n",
       "</div>"
      ],
      "text/plain": [
       "                                                   0\n",
       "0  {\"id\":266,\"name\":\"Footwear\",\"slug\":\"fashion/fo...\n",
       "1  {\"id\":273,\"name\":\"Playing Cards\",\"slug\":\"games...\n",
       "2  {\"id\":43,\"name\":\"Rock\",\"slug\":\"music/rock\",\"po...\n",
       "3  {\"id\":273,\"name\":\"Playing Cards\",\"slug\":\"games...\n",
       "4  {\"id\":48,\"name\":\"Nonfiction\",\"slug\":\"publishin..."
      ]
     },
     "execution_count": 13,
     "metadata": {},
     "output_type": "execute_result"
    }
   ],
   "source": [
    "df_cat = pd.DataFrame([x for x in df['category']])\n",
    "df_cat.head()"
   ]
  },
  {
   "cell_type": "code",
   "execution_count": null,
   "metadata": {},
   "outputs": [],
   "source": []
  },
  {
   "cell_type": "code",
   "execution_count": null,
   "metadata": {},
   "outputs": [],
   "source": [
    "df[['category', 'subcategory']] = df_cat.slug.str.split(\"/\",expand=True,)"
   ]
  },
  {
   "cell_type": "code",
   "execution_count": null,
   "metadata": {},
   "outputs": [],
   "source": [
    "df.country.unique()"
   ]
  },
  {
   "cell_type": "markdown",
   "metadata": {},
   "source": [
    "### Currency "
   ]
  },
  {
   "cell_type": "code",
   "execution_count": null,
   "metadata": {},
   "outputs": [],
   "source": [
    "df.currency_symbol.unique()"
   ]
  },
  {
   "cell_type": "code",
   "execution_count": null,
   "metadata": {
    "scrolled": true
   },
   "outputs": [],
   "source": [
    "df.groupby(['currency', 'currency_symbol']).size()"
   ]
  },
  {
   "cell_type": "code",
   "execution_count": null,
   "metadata": {},
   "outputs": [],
   "source": [
    "df.drop('currency_symbol',axis=1);"
   ]
  },
  {
   "cell_type": "code",
   "execution_count": null,
   "metadata": {},
   "outputs": [],
   "source": [
    "df.source_url.unique();"
   ]
  },
  {
   "cell_type": "markdown",
   "metadata": {},
   "source": [
    "As the currency symbols are less specific and more ambiguous then the currencies themselves only the currency will \n",
    "be used as a feature."
   ]
  },
  {
   "cell_type": "markdown",
   "metadata": {},
   "source": [
    "### Dates"
   ]
  },
  {
   "cell_type": "code",
   "execution_count": null,
   "metadata": {},
   "outputs": [],
   "source": [
    "df_dates = pd.DataFrame([datetime.fromtimestamp (x) for x in df['created_at']])"
   ]
  },
  {
   "cell_type": "markdown",
   "metadata": {},
   "source": [
    "### Creator"
   ]
  },
  {
   "cell_type": "code",
   "execution_count": null,
   "metadata": {
    "scrolled": false
   },
   "outputs": [],
   "source": [
    "df.creator.unique()"
   ]
  },
  {
   "cell_type": "code",
   "execution_count": null,
   "metadata": {},
   "outputs": [],
   "source": [
    "df['creator'].replace(',',':',inplace=True)\n",
    "#df['new_creator'] = df['creator'].apply(lambda x: x.split(':')[1])\n",
    "#df.head()"
   ]
  },
  {
   "cell_type": "markdown",
   "metadata": {},
   "source": [
    "## Label and Features"
   ]
  },
  {
   "cell_type": "code",
   "execution_count": null,
   "metadata": {},
   "outputs": [],
   "source": [
    "df.state.value_counts()"
   ]
  },
  {
   "cell_type": "code",
   "execution_count": null,
   "metadata": {},
   "outputs": [],
   "source": [
    "df.state.hist()"
   ]
  },
  {
   "cell_type": "code",
   "execution_count": null,
   "metadata": {},
   "outputs": [],
   "source": [
    "df.describe().round(2)"
   ]
  },
  {
   "cell_type": "code",
   "execution_count": null,
   "metadata": {},
   "outputs": [],
   "source": []
  }
 ],
 "metadata": {
  "kernelspec": {
   "display_name": "Python [conda env:nf] *",
   "language": "python",
   "name": "conda-env-nf-py"
  },
  "language_info": {
   "codemirror_mode": {
    "name": "ipython",
    "version": 3
   },
   "file_extension": ".py",
   "mimetype": "text/x-python",
   "name": "python",
   "nbconvert_exporter": "python",
   "pygments_lexer": "ipython3",
   "version": "3.6.10"
  },
  "toc": {
   "base_numbering": 1,
   "nav_menu": {},
   "number_sections": true,
   "sideBar": true,
   "skip_h1_title": false,
   "title_cell": "Table of Contents",
   "title_sidebar": "Contents",
   "toc_cell": false,
   "toc_position": {},
   "toc_section_display": true,
   "toc_window_display": true
  }
 },
 "nbformat": 4,
 "nbformat_minor": 4
}
