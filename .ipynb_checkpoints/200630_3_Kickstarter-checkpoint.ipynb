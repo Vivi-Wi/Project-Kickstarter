{
 "cells": [
  {
   "cell_type": "markdown",
   "metadata": {},
   "source": [
    "## Project Kickstarter \n",
    "by Vivika Wilde wilde.vivika@gmail.com\n",
    "   Sebastian Fuhrer fuhrer_sebastian@web.de"
   ]
  },
  {
   "cell_type": "markdown",
   "metadata": {},
   "source": [
    "## Objective \n",
    "\n",
    "In recent years, the range of funding options for projects created by individuals and small companies has expanded considerably. In addition to savings, bank loans, friends & family funding and other traditional options, crowdfunding has become a popular and readily available alternative. \n",
    "\n",
    "Kickstarter, founded in 2009, is one particularly well-known and popular crowdfunding platform. It has an all-or-nothing funding model, whereby a project is only funded if it meets its goal amount; otherwise no money is given by backers to a project.\n",
    "A huge variety of factors contribute to the success or failure of a project — in general, and also on Kickstarter. Some of these are able to be quantified or categorized, which allows for the construction of a model to attempt to predict whether a project will succeed or not. The aim of this project is to construct such a model and also to analyse Kickstarter project data more generally, in order to help potential project creators assess whether or not Kickstarter is a good funding option for them, and what their chances of success are.\n"
   ]
  },
  {
   "cell_type": "markdown",
   "metadata": {},
   "source": [
    "## Set up"
   ]
  },
  {
   "cell_type": "code",
   "execution_count": 1,
   "metadata": {},
   "outputs": [],
   "source": [
    "%reset -fs"
   ]
  },
  {
   "cell_type": "code",
   "execution_count": 86,
   "metadata": {},
   "outputs": [],
   "source": [
    "import glob, os\n",
    "import pandas as pd \n",
    "import numpy as np\n",
    "import matplotlib.pyplot as plt\n",
    "from datetime import datetime\n",
    "import json\n",
    "import seaborn as sns\n",
    "from scipy import stats\n",
    "\n",
    "from sklearn.preprocessing import OneHotEncoder, StandardScaler\n",
    "from sklearn.impute import SimpleImputer\n",
    "from sklearn.model_selection import (train_test_split, GridSearchCV, RandomizedSearchCV, StratifiedKFold)\n",
    "from sklearn.model_selection import cross_val_predict, cross_val_score, cross_validate\n",
    "from sklearn.metrics import roc_curve, precision_recall_curve, auc, make_scorer, recall_score, accuracy_score, precision_score, confusion_matrix\n",
    "\n",
    "from sklearn.tree import DecisionTreeClassifier\n",
    "from sklearn.ensemble import RandomForestClassifier, AdaBoostClassifier\n",
    "from sklearn.svm import SVC\n",
    "from sklearn.linear_model import LogisticRegression\n",
    "from sklearn.compose import ColumnTransformer\n",
    "from sklearn.pipeline import Pipeline\n",
    "\n",
    "\n",
    "\n",
    "from xgboost import XGBClassifier\n",
    "\n",
    "%matplotlib inline\n",
    "plt.style.use(\"ggplot\")\n",
    "\n",
    "# Set random seed \n",
    "RSEED = 42"
   ]
  },
  {
   "cell_type": "code",
   "execution_count": 3,
   "metadata": {},
   "outputs": [],
   "source": [
    "data = pd.concat(map(pd.read_csv, glob.glob(os.path.join('', \"data/*.csv\"))))\n",
    "data = data.reset_index(drop=True)"
   ]
  },
  {
   "cell_type": "code",
   "execution_count": 4,
   "metadata": {},
   "outputs": [],
   "source": [
    "df = data.copy()"
   ]
  },
  {
   "cell_type": "markdown",
   "metadata": {},
   "source": [
    "## Variable names and description"
   ]
  },
  {
   "cell_type": "markdown",
   "metadata": {},
   "source": [
    "* **backers_count** - Number of supporters/investors\n",
    "* **blurb** - A short description of the product written for promotional purposes\n",
    "* **category** - Projects have been classified into 16 categories. These categories broadly define the genre a project belongs to. **Subcategory** - Categories are further sub-divided in subcategories to give more details on the project. For instance, the category “Technology” has further been split into subcategories like Gadgets, Web, Apps, Software etc. There are 144 total subcategories.\n",
    "* **converted_pledged_amount** - Total pledged amount in USD.\n",
    "* **country** - Country of origin of the project\n",
    "* **created_at** - Date when Project was created (timestamp)\n",
    "* **creator** - Information on the Creator including ID, name, etc.\n",
    "* **currency** - Currency used to support the project (3-letter code)**???**\n",
    "* **currency_symbol** - Symbol of the currency\n",
    "* **currency_trailing_code** - Defines whether the currency codes are always shown after the amount, independent of the locale.\n",
    "* **current_currency** - **???**\n",
    "* **deadline** - The date before which the goal amount has to be gathered.\n",
    "* **disable_communication** - **???**\n",
    "* **friends** - No values given (208922 NaN and 300 empty lists)\n",
    "* **fx_rate**\n",
    "* **goal** - Funding amount the project initially asked for in the original currency\n",
    "* **id** - Project ID\n",
    "* **is_backing** - No values given (208922 NaN and 300 empty lists)\n",
    "* **is_starrable** - Whether the project can be marked as favourite or not **???**\n",
    "* **is_starred** - Whether the project was marked as favourite or not **???**\n",
    "* **launched_at** - Launch date of the project (timestamp)\n",
    "* **location** - Project location\n",
    "* **name** - Project name\n",
    "* **permissions** - No values given (208922 NaN and 300 empty lists)\n",
    "* **photo** - Project photo\n",
    "* **pledged** - Pledge amount in original currency\n",
    "* **profile** - **???**\n",
    "* **slug** - **??? Creator-selected keyword id of the project ???**\n",
    "* **source_url** - URL to the category the project belongs to\n",
    "* **spotlight** - Spotlight allows creators to make a home for their project on Kickstarter after they've been successfully funded. Each creator can take control of their page and build a customized, central hub for news, updates, links to finished work, and anything else they want the world to know about their project\n",
    "* **staff_pick** - Staff picks was a feature that highlighted promising projects on the site to give them a boost by helping them get exposure through the email newsletter and highlighted spots around the site. The old 'Kickstarter Staff Pick' badge.\n",
    "* **state** - Was the project successful at the end of the day? state is a categorical variable divided into the levels successful, failed, live, cancelled, undefined and suspended. \n",
    "* **state_changed_at** - Date the state was changed last (timestamp)\n",
    "* **static_usd_rate** - Conversion rate used by Kickstarter to calculate usd_pledged\n",
    "* **urls** - URL to the project's side \n",
    "* **usd_pledged** - Pledged amount in USD (conversion made by Kickstarter)\n",
    "* **usd_type** - **???**"
   ]
  },
  {
   "cell_type": "markdown",
   "metadata": {},
   "source": [
    "## Data types and missings"
   ]
  },
  {
   "cell_type": "code",
   "execution_count": 5,
   "metadata": {},
   "outputs": [
    {
     "data": {
      "text/html": [
       "<div>\n",
       "<style scoped>\n",
       "    .dataframe tbody tr th:only-of-type {\n",
       "        vertical-align: middle;\n",
       "    }\n",
       "\n",
       "    .dataframe tbody tr th {\n",
       "        vertical-align: top;\n",
       "    }\n",
       "\n",
       "    .dataframe thead th {\n",
       "        text-align: right;\n",
       "    }\n",
       "</style>\n",
       "<table border=\"1\" class=\"dataframe\">\n",
       "  <thead>\n",
       "    <tr style=\"text-align: right;\">\n",
       "      <th></th>\n",
       "      <th>backers_count</th>\n",
       "      <th>blurb</th>\n",
       "      <th>category</th>\n",
       "      <th>converted_pledged_amount</th>\n",
       "      <th>country</th>\n",
       "      <th>created_at</th>\n",
       "      <th>creator</th>\n",
       "      <th>currency</th>\n",
       "      <th>currency_symbol</th>\n",
       "      <th>currency_trailing_code</th>\n",
       "      <th>...</th>\n",
       "      <th>slug</th>\n",
       "      <th>source_url</th>\n",
       "      <th>spotlight</th>\n",
       "      <th>staff_pick</th>\n",
       "      <th>state</th>\n",
       "      <th>state_changed_at</th>\n",
       "      <th>static_usd_rate</th>\n",
       "      <th>urls</th>\n",
       "      <th>usd_pledged</th>\n",
       "      <th>usd_type</th>\n",
       "    </tr>\n",
       "  </thead>\n",
       "  <tbody>\n",
       "    <tr>\n",
       "      <th>0</th>\n",
       "      <td>315</td>\n",
       "      <td>Babalus Shoes</td>\n",
       "      <td>{\"id\":266,\"name\":\"Footwear\",\"slug\":\"fashion/fo...</td>\n",
       "      <td>28645</td>\n",
       "      <td>US</td>\n",
       "      <td>1541459205</td>\n",
       "      <td>{\"id\":2094277840,\"name\":\"Lucy Conroy\",\"slug\":\"...</td>\n",
       "      <td>USD</td>\n",
       "      <td>$</td>\n",
       "      <td>True</td>\n",
       "      <td>...</td>\n",
       "      <td>babalus-childrens-shoes</td>\n",
       "      <td>https://www.kickstarter.com/discover/categorie...</td>\n",
       "      <td>False</td>\n",
       "      <td>False</td>\n",
       "      <td>live</td>\n",
       "      <td>1548223375</td>\n",
       "      <td>1.0</td>\n",
       "      <td>{\"web\":{\"project\":\"https://www.kickstarter.com...</td>\n",
       "      <td>28645.0</td>\n",
       "      <td>international</td>\n",
       "    </tr>\n",
       "    <tr>\n",
       "      <th>1</th>\n",
       "      <td>47</td>\n",
       "      <td>A colorful Dia de los Muertos themed oracle de...</td>\n",
       "      <td>{\"id\":273,\"name\":\"Playing Cards\",\"slug\":\"games...</td>\n",
       "      <td>1950</td>\n",
       "      <td>US</td>\n",
       "      <td>1501684093</td>\n",
       "      <td>{\"id\":723886115,\"name\":\"Lisa Vollrath\",\"slug\":...</td>\n",
       "      <td>USD</td>\n",
       "      <td>$</td>\n",
       "      <td>True</td>\n",
       "      <td>...</td>\n",
       "      <td>the-ofrenda-oracle-deck</td>\n",
       "      <td>https://www.kickstarter.com/discover/categorie...</td>\n",
       "      <td>True</td>\n",
       "      <td>False</td>\n",
       "      <td>successful</td>\n",
       "      <td>1504976459</td>\n",
       "      <td>1.0</td>\n",
       "      <td>{\"web\":{\"project\":\"https://www.kickstarter.com...</td>\n",
       "      <td>1950.0</td>\n",
       "      <td>domestic</td>\n",
       "    </tr>\n",
       "  </tbody>\n",
       "</table>\n",
       "<p>2 rows × 37 columns</p>\n",
       "</div>"
      ],
      "text/plain": [
       "   backers_count                                              blurb  \\\n",
       "0            315                                      Babalus Shoes   \n",
       "1             47  A colorful Dia de los Muertos themed oracle de...   \n",
       "\n",
       "                                            category  \\\n",
       "0  {\"id\":266,\"name\":\"Footwear\",\"slug\":\"fashion/fo...   \n",
       "1  {\"id\":273,\"name\":\"Playing Cards\",\"slug\":\"games...   \n",
       "\n",
       "   converted_pledged_amount country  created_at  \\\n",
       "0                     28645      US  1541459205   \n",
       "1                      1950      US  1501684093   \n",
       "\n",
       "                                             creator currency currency_symbol  \\\n",
       "0  {\"id\":2094277840,\"name\":\"Lucy Conroy\",\"slug\":\"...      USD               $   \n",
       "1  {\"id\":723886115,\"name\":\"Lisa Vollrath\",\"slug\":...      USD               $   \n",
       "\n",
       "   currency_trailing_code  ...                     slug  \\\n",
       "0                    True  ...  babalus-childrens-shoes   \n",
       "1                    True  ...  the-ofrenda-oracle-deck   \n",
       "\n",
       "                                          source_url  spotlight staff_pick  \\\n",
       "0  https://www.kickstarter.com/discover/categorie...      False      False   \n",
       "1  https://www.kickstarter.com/discover/categorie...       True      False   \n",
       "\n",
       "        state  state_changed_at  static_usd_rate  \\\n",
       "0        live        1548223375              1.0   \n",
       "1  successful        1504976459              1.0   \n",
       "\n",
       "                                                urls  usd_pledged  \\\n",
       "0  {\"web\":{\"project\":\"https://www.kickstarter.com...      28645.0   \n",
       "1  {\"web\":{\"project\":\"https://www.kickstarter.com...       1950.0   \n",
       "\n",
       "        usd_type  \n",
       "0  international  \n",
       "1       domestic  \n",
       "\n",
       "[2 rows x 37 columns]"
      ]
     },
     "execution_count": 5,
     "metadata": {},
     "output_type": "execute_result"
    }
   ],
   "source": [
    "df.head(2)"
   ]
  },
  {
   "cell_type": "code",
   "execution_count": 6,
   "metadata": {},
   "outputs": [
    {
     "data": {
      "text/html": [
       "<div>\n",
       "<style scoped>\n",
       "    .dataframe tbody tr th:only-of-type {\n",
       "        vertical-align: middle;\n",
       "    }\n",
       "\n",
       "    .dataframe tbody tr th {\n",
       "        vertical-align: top;\n",
       "    }\n",
       "\n",
       "    .dataframe thead th {\n",
       "        text-align: right;\n",
       "    }\n",
       "</style>\n",
       "<table border=\"1\" class=\"dataframe\">\n",
       "  <thead>\n",
       "    <tr style=\"text-align: right;\">\n",
       "      <th></th>\n",
       "      <th>backers_count</th>\n",
       "      <th>blurb</th>\n",
       "      <th>category</th>\n",
       "      <th>converted_pledged_amount</th>\n",
       "      <th>country</th>\n",
       "      <th>created_at</th>\n",
       "      <th>creator</th>\n",
       "      <th>currency</th>\n",
       "      <th>currency_symbol</th>\n",
       "      <th>currency_trailing_code</th>\n",
       "      <th>...</th>\n",
       "      <th>slug</th>\n",
       "      <th>source_url</th>\n",
       "      <th>spotlight</th>\n",
       "      <th>staff_pick</th>\n",
       "      <th>state</th>\n",
       "      <th>state_changed_at</th>\n",
       "      <th>static_usd_rate</th>\n",
       "      <th>urls</th>\n",
       "      <th>usd_pledged</th>\n",
       "      <th>usd_type</th>\n",
       "    </tr>\n",
       "  </thead>\n",
       "  <tbody>\n",
       "    <tr>\n",
       "      <th>209220</th>\n",
       "      <td>76</td>\n",
       "      <td>Seattle Transmedia &amp; Independent Film Festival...</td>\n",
       "      <td>{\"id\":295,\"name\":\"Festivals\",\"slug\":\"film &amp; vi...</td>\n",
       "      <td>5692</td>\n",
       "      <td>US</td>\n",
       "      <td>1425256957</td>\n",
       "      <td>{\"id\":307076473,\"name\":\"Timothy Vernor\",\"is_re...</td>\n",
       "      <td>USD</td>\n",
       "      <td>$</td>\n",
       "      <td>True</td>\n",
       "      <td>...</td>\n",
       "      <td>transmedia-gallery-space-stiff-2015</td>\n",
       "      <td>https://www.kickstarter.com/discover/categorie...</td>\n",
       "      <td>True</td>\n",
       "      <td>False</td>\n",
       "      <td>successful</td>\n",
       "      <td>1429536379</td>\n",
       "      <td>1.0</td>\n",
       "      <td>{\"web\":{\"project\":\"https://www.kickstarter.com...</td>\n",
       "      <td>5692.0</td>\n",
       "      <td>domestic</td>\n",
       "    </tr>\n",
       "    <tr>\n",
       "      <th>209221</th>\n",
       "      <td>44</td>\n",
       "      <td>The @1000TimesYes 2009 Tweet Box is a handmade...</td>\n",
       "      <td>{\"id\":13,\"name\":\"Journalism\",\"slug\":\"journalis...</td>\n",
       "      <td>1293</td>\n",
       "      <td>US</td>\n",
       "      <td>1263225900</td>\n",
       "      <td>{\"id\":1718677513,\"name\":\"Article\",\"slug\":\"arti...</td>\n",
       "      <td>USD</td>\n",
       "      <td>$</td>\n",
       "      <td>True</td>\n",
       "      <td>...</td>\n",
       "      <td>the-1000timesyes-2009-tweet-box</td>\n",
       "      <td>https://www.kickstarter.com/discover/categorie...</td>\n",
       "      <td>True</td>\n",
       "      <td>True</td>\n",
       "      <td>successful</td>\n",
       "      <td>1266814815</td>\n",
       "      <td>1.0</td>\n",
       "      <td>{\"web\":{\"project\":\"https://www.kickstarter.com...</td>\n",
       "      <td>1293.0</td>\n",
       "      <td>domestic</td>\n",
       "    </tr>\n",
       "  </tbody>\n",
       "</table>\n",
       "<p>2 rows × 37 columns</p>\n",
       "</div>"
      ],
      "text/plain": [
       "        backers_count                                              blurb  \\\n",
       "209220             76  Seattle Transmedia & Independent Film Festival...   \n",
       "209221             44  The @1000TimesYes 2009 Tweet Box is a handmade...   \n",
       "\n",
       "                                                 category  \\\n",
       "209220  {\"id\":295,\"name\":\"Festivals\",\"slug\":\"film & vi...   \n",
       "209221  {\"id\":13,\"name\":\"Journalism\",\"slug\":\"journalis...   \n",
       "\n",
       "        converted_pledged_amount country  created_at  \\\n",
       "209220                      5692      US  1425256957   \n",
       "209221                      1293      US  1263225900   \n",
       "\n",
       "                                                  creator currency  \\\n",
       "209220  {\"id\":307076473,\"name\":\"Timothy Vernor\",\"is_re...      USD   \n",
       "209221  {\"id\":1718677513,\"name\":\"Article\",\"slug\":\"arti...      USD   \n",
       "\n",
       "       currency_symbol  currency_trailing_code  ...  \\\n",
       "209220               $                    True  ...   \n",
       "209221               $                    True  ...   \n",
       "\n",
       "                                       slug  \\\n",
       "209220  transmedia-gallery-space-stiff-2015   \n",
       "209221      the-1000timesyes-2009-tweet-box   \n",
       "\n",
       "                                               source_url  spotlight  \\\n",
       "209220  https://www.kickstarter.com/discover/categorie...       True   \n",
       "209221  https://www.kickstarter.com/discover/categorie...       True   \n",
       "\n",
       "       staff_pick       state  state_changed_at  static_usd_rate  \\\n",
       "209220      False  successful        1429536379              1.0   \n",
       "209221       True  successful        1266814815              1.0   \n",
       "\n",
       "                                                     urls  usd_pledged  \\\n",
       "209220  {\"web\":{\"project\":\"https://www.kickstarter.com...       5692.0   \n",
       "209221  {\"web\":{\"project\":\"https://www.kickstarter.com...       1293.0   \n",
       "\n",
       "        usd_type  \n",
       "209220  domestic  \n",
       "209221  domestic  \n",
       "\n",
       "[2 rows x 37 columns]"
      ]
     },
     "execution_count": 6,
     "metadata": {},
     "output_type": "execute_result"
    }
   ],
   "source": [
    "df.tail(2)"
   ]
  },
  {
   "cell_type": "code",
   "execution_count": 7,
   "metadata": {
    "scrolled": false
   },
   "outputs": [
    {
     "name": "stdout",
     "output_type": "stream",
     "text": [
      "<class 'pandas.core.frame.DataFrame'>\n",
      "RangeIndex: 209222 entries, 0 to 209221\n",
      "Data columns (total 37 columns):\n",
      "backers_count               209222 non-null int64\n",
      "blurb                       209214 non-null object\n",
      "category                    209222 non-null object\n",
      "converted_pledged_amount    209222 non-null int64\n",
      "country                     209222 non-null object\n",
      "created_at                  209222 non-null int64\n",
      "creator                     209222 non-null object\n",
      "currency                    209222 non-null object\n",
      "currency_symbol             209222 non-null object\n",
      "currency_trailing_code      209222 non-null bool\n",
      "current_currency            209222 non-null object\n",
      "deadline                    209222 non-null int64\n",
      "disable_communication       209222 non-null bool\n",
      "friends                     300 non-null object\n",
      "fx_rate                     209222 non-null float64\n",
      "goal                        209222 non-null float64\n",
      "id                          209222 non-null int64\n",
      "is_backing                  300 non-null object\n",
      "is_starrable                209222 non-null bool\n",
      "is_starred                  300 non-null object\n",
      "launched_at                 209222 non-null int64\n",
      "location                    208996 non-null object\n",
      "name                        209222 non-null object\n",
      "permissions                 300 non-null object\n",
      "photo                       209222 non-null object\n",
      "pledged                     209222 non-null float64\n",
      "profile                     209222 non-null object\n",
      "slug                        209222 non-null object\n",
      "source_url                  209222 non-null object\n",
      "spotlight                   209222 non-null bool\n",
      "staff_pick                  209222 non-null bool\n",
      "state                       209222 non-null object\n",
      "state_changed_at            209222 non-null int64\n",
      "static_usd_rate             209222 non-null float64\n",
      "urls                        209222 non-null object\n",
      "usd_pledged                 209222 non-null float64\n",
      "usd_type                    208742 non-null object\n",
      "dtypes: bool(5), float64(5), int64(7), object(20)\n",
      "memory usage: 52.1+ MB\n"
     ]
    }
   ],
   "source": [
    "df.info()"
   ]
  },
  {
   "cell_type": "markdown",
   "metadata": {},
   "source": [
    "### Missing Data"
   ]
  },
  {
   "cell_type": "code",
   "execution_count": 8,
   "metadata": {},
   "outputs": [
    {
     "data": {
      "text/html": [
       "<div>\n",
       "<style scoped>\n",
       "    .dataframe tbody tr th:only-of-type {\n",
       "        vertical-align: middle;\n",
       "    }\n",
       "\n",
       "    .dataframe tbody tr th {\n",
       "        vertical-align: top;\n",
       "    }\n",
       "\n",
       "    .dataframe thead th {\n",
       "        text-align: right;\n",
       "    }\n",
       "</style>\n",
       "<table border=\"1\" class=\"dataframe\">\n",
       "  <thead>\n",
       "    <tr style=\"text-align: right;\">\n",
       "      <th></th>\n",
       "      <th>Number</th>\n",
       "      <th>Percentage</th>\n",
       "    </tr>\n",
       "  </thead>\n",
       "  <tbody>\n",
       "    <tr>\n",
       "      <th>blurb</th>\n",
       "      <td>8</td>\n",
       "      <td>0.0</td>\n",
       "    </tr>\n",
       "    <tr>\n",
       "      <th>friends</th>\n",
       "      <td>208922</td>\n",
       "      <td>99.9</td>\n",
       "    </tr>\n",
       "    <tr>\n",
       "      <th>is_backing</th>\n",
       "      <td>208922</td>\n",
       "      <td>99.9</td>\n",
       "    </tr>\n",
       "    <tr>\n",
       "      <th>is_starred</th>\n",
       "      <td>208922</td>\n",
       "      <td>99.9</td>\n",
       "    </tr>\n",
       "    <tr>\n",
       "      <th>location</th>\n",
       "      <td>226</td>\n",
       "      <td>0.1</td>\n",
       "    </tr>\n",
       "    <tr>\n",
       "      <th>permissions</th>\n",
       "      <td>208922</td>\n",
       "      <td>99.9</td>\n",
       "    </tr>\n",
       "    <tr>\n",
       "      <th>usd_type</th>\n",
       "      <td>480</td>\n",
       "      <td>0.2</td>\n",
       "    </tr>\n",
       "  </tbody>\n",
       "</table>\n",
       "</div>"
      ],
      "text/plain": [
       "             Number  Percentage\n",
       "blurb             8         0.0\n",
       "friends      208922        99.9\n",
       "is_backing   208922        99.9\n",
       "is_starred   208922        99.9\n",
       "location        226         0.1\n",
       "permissions  208922        99.9\n",
       "usd_type        480         0.2"
      ]
     },
     "execution_count": 8,
     "metadata": {},
     "output_type": "execute_result"
    }
   ],
   "source": [
    "missing = pd.DataFrame(df.isnull().sum(), columns=['Number'])\n",
    "missing['Percentage'] = round(missing.Number / df.shape[0] * 100, 1)\n",
    "missing[missing.Number != 0]"
   ]
  },
  {
   "cell_type": "markdown",
   "metadata": {},
   "source": [
    "For the features 'friends', 'is_backing', 'is_starred' and 'permissions' only .1 percent of the data is given.\n",
    "Therefore these features are not useable  and will be removed from the set. \n"
   ]
  },
  {
   "cell_type": "code",
   "execution_count": 9,
   "metadata": {},
   "outputs": [],
   "source": [
    "df.drop(['friends', 'permissions', 'is_backing', 'is_starred'], axis=1, inplace=True);"
   ]
  },
  {
   "cell_type": "code",
   "execution_count": 10,
   "metadata": {},
   "outputs": [
    {
     "data": {
      "text/plain": [
       "array([ 315,   47,  271, ..., 3142, 6586, 1192])"
      ]
     },
     "execution_count": 10,
     "metadata": {},
     "output_type": "execute_result"
    }
   ],
   "source": [
    "df.backers_count.unique()"
   ]
  },
  {
   "cell_type": "markdown",
   "metadata": {},
   "source": [
    "### State"
   ]
  },
  {
   "cell_type": "code",
   "execution_count": 11,
   "metadata": {
    "scrolled": true
   },
   "outputs": [
    {
     "data": {
      "text/plain": [
       "successful    117465\n",
       "failed         75199\n",
       "canceled        8624\n",
       "live            7311\n",
       "suspended        623\n",
       "Name: state, dtype: int64"
      ]
     },
     "execution_count": 11,
     "metadata": {},
     "output_type": "execute_result"
    }
   ],
   "source": [
    "df.state.value_counts()"
   ]
  },
  {
   "cell_type": "code",
   "execution_count": 12,
   "metadata": {
    "scrolled": true
   },
   "outputs": [
    {
     "data": {
      "text/plain": [
       "<matplotlib.axes._subplots.AxesSubplot at 0x7fee704dd4a8>"
      ]
     },
     "execution_count": 12,
     "metadata": {},
     "output_type": "execute_result"
    },
    {
     "data": {
      "image/png": "[encoded data removed]",
      "text/plain": [
       "<Figure size 432x288 with 1 Axes>"
      ]
     },
     "metadata": {
      "needs_background": "light"
     },
     "output_type": "display_data"
    }
   ],
   "source": [
    "df.state.hist()"
   ]
  },
  {
   "cell_type": "code",
   "execution_count": 13,
   "metadata": {
    "scrolled": false
   },
   "outputs": [
    {
     "data": {
      "text/html": [
       "<div>\n",
       "<style scoped>\n",
       "    .dataframe tbody tr th:only-of-type {\n",
       "        vertical-align: middle;\n",
       "    }\n",
       "\n",
       "    .dataframe tbody tr th {\n",
       "        vertical-align: top;\n",
       "    }\n",
       "\n",
       "    .dataframe thead th {\n",
       "        text-align: right;\n",
       "    }\n",
       "</style>\n",
       "<table border=\"1\" class=\"dataframe\">\n",
       "  <thead>\n",
       "    <tr style=\"text-align: right;\">\n",
       "      <th></th>\n",
       "      <th>backers_count</th>\n",
       "      <th>converted_pledged_amount</th>\n",
       "      <th>created_at</th>\n",
       "      <th>deadline</th>\n",
       "      <th>fx_rate</th>\n",
       "      <th>goal</th>\n",
       "      <th>id</th>\n",
       "      <th>launched_at</th>\n",
       "      <th>pledged</th>\n",
       "      <th>state_changed_at</th>\n",
       "      <th>static_usd_rate</th>\n",
       "      <th>usd_pledged</th>\n",
       "    </tr>\n",
       "  </thead>\n",
       "  <tbody>\n",
       "    <tr>\n",
       "      <th>count</th>\n",
       "      <td>209222.00</td>\n",
       "      <td>209222.00</td>\n",
       "      <td>2.092220e+05</td>\n",
       "      <td>2.092220e+05</td>\n",
       "      <td>209222.00</td>\n",
       "      <td>2.092220e+05</td>\n",
       "      <td>2.092220e+05</td>\n",
       "      <td>2.092220e+05</td>\n",
       "      <td>209222.00</td>\n",
       "      <td>2.092220e+05</td>\n",
       "      <td>209222.00</td>\n",
       "      <td>209222.00</td>\n",
       "    </tr>\n",
       "    <tr>\n",
       "      <th>mean</th>\n",
       "      <td>145.42</td>\n",
       "      <td>12892.90</td>\n",
       "      <td>1.456089e+09</td>\n",
       "      <td>1.463033e+09</td>\n",
       "      <td>0.99</td>\n",
       "      <td>4.917604e+04</td>\n",
       "      <td>1.073222e+09</td>\n",
       "      <td>1.460206e+09</td>\n",
       "      <td>18814.03</td>\n",
       "      <td>1.462838e+09</td>\n",
       "      <td>1.01</td>\n",
       "      <td>12892.13</td>\n",
       "    </tr>\n",
       "    <tr>\n",
       "      <th>std</th>\n",
       "      <td>885.97</td>\n",
       "      <td>88894.14</td>\n",
       "      <td>6.339711e+07</td>\n",
       "      <td>6.305618e+07</td>\n",
       "      <td>0.21</td>\n",
       "      <td>1.179427e+06</td>\n",
       "      <td>6.198051e+08</td>\n",
       "      <td>6.309029e+07</td>\n",
       "      <td>322959.62</td>\n",
       "      <td>6.290421e+07</td>\n",
       "      <td>0.23</td>\n",
       "      <td>88901.24</td>\n",
       "    </tr>\n",
       "    <tr>\n",
       "      <th>min</th>\n",
       "      <td>0.00</td>\n",
       "      <td>0.00</td>\n",
       "      <td>1.240366e+09</td>\n",
       "      <td>1.241334e+09</td>\n",
       "      <td>0.01</td>\n",
       "      <td>1.000000e-02</td>\n",
       "      <td>8.624000e+03</td>\n",
       "      <td>1.240603e+09</td>\n",
       "      <td>0.00</td>\n",
       "      <td>1.241334e+09</td>\n",
       "      <td>0.01</td>\n",
       "      <td>0.00</td>\n",
       "    </tr>\n",
       "    <tr>\n",
       "      <th>25%</th>\n",
       "      <td>4.00</td>\n",
       "      <td>106.00</td>\n",
       "      <td>1.413317e+09</td>\n",
       "      <td>1.420607e+09</td>\n",
       "      <td>1.00</td>\n",
       "      <td>1.500000e+03</td>\n",
       "      <td>5.351054e+08</td>\n",
       "      <td>1.417639e+09</td>\n",
       "      <td>110.00</td>\n",
       "      <td>1.420485e+09</td>\n",
       "      <td>1.00</td>\n",
       "      <td>106.00</td>\n",
       "    </tr>\n",
       "    <tr>\n",
       "      <th>50%</th>\n",
       "      <td>27.00</td>\n",
       "      <td>1537.00</td>\n",
       "      <td>1.457895e+09</td>\n",
       "      <td>1.464754e+09</td>\n",
       "      <td>1.00</td>\n",
       "      <td>5.000000e+03</td>\n",
       "      <td>1.074579e+09</td>\n",
       "      <td>1.461924e+09</td>\n",
       "      <td>1556.00</td>\n",
       "      <td>1.464709e+09</td>\n",
       "      <td>1.00</td>\n",
       "      <td>1537.36</td>\n",
       "    </tr>\n",
       "    <tr>\n",
       "      <th>75%</th>\n",
       "      <td>89.00</td>\n",
       "      <td>6548.00</td>\n",
       "      <td>1.511595e+09</td>\n",
       "      <td>1.519437e+09</td>\n",
       "      <td>1.00</td>\n",
       "      <td>1.500000e+04</td>\n",
       "      <td>1.609369e+09</td>\n",
       "      <td>1.516694e+09</td>\n",
       "      <td>6887.20</td>\n",
       "      <td>1.519366e+09</td>\n",
       "      <td>1.00</td>\n",
       "      <td>6550.00</td>\n",
       "    </tr>\n",
       "    <tr>\n",
       "      <th>max</th>\n",
       "      <td>105857.00</td>\n",
       "      <td>8596474.00</td>\n",
       "      <td>1.552527e+09</td>\n",
       "      <td>1.557721e+09</td>\n",
       "      <td>1.88</td>\n",
       "      <td>1.000000e+08</td>\n",
       "      <td>2.147476e+09</td>\n",
       "      <td>1.552537e+09</td>\n",
       "      <td>81030744.00</td>\n",
       "      <td>1.552537e+09</td>\n",
       "      <td>1.72</td>\n",
       "      <td>8596474.58</td>\n",
       "    </tr>\n",
       "  </tbody>\n",
       "</table>\n",
       "</div>"
      ],
      "text/plain": [
       "       backers_count  converted_pledged_amount    created_at      deadline  \\\n",
       "count      209222.00                 209222.00  2.092220e+05  2.092220e+05   \n",
       "mean          145.42                  12892.90  1.456089e+09  1.463033e+09   \n",
       "std           885.97                  88894.14  6.339711e+07  6.305618e+07   \n",
       "min             0.00                      0.00  1.240366e+09  1.241334e+09   \n",
       "25%             4.00                    106.00  1.413317e+09  1.420607e+09   \n",
       "50%            27.00                   1537.00  1.457895e+09  1.464754e+09   \n",
       "75%            89.00                   6548.00  1.511595e+09  1.519437e+09   \n",
       "max        105857.00                8596474.00  1.552527e+09  1.557721e+09   \n",
       "\n",
       "         fx_rate          goal            id   launched_at      pledged  \\\n",
       "count  209222.00  2.092220e+05  2.092220e+05  2.092220e+05    209222.00   \n",
       "mean        0.99  4.917604e+04  1.073222e+09  1.460206e+09     18814.03   \n",
       "std         0.21  1.179427e+06  6.198051e+08  6.309029e+07    322959.62   \n",
       "min         0.01  1.000000e-02  8.624000e+03  1.240603e+09         0.00   \n",
       "25%         1.00  1.500000e+03  5.351054e+08  1.417639e+09       110.00   \n",
       "50%         1.00  5.000000e+03  1.074579e+09  1.461924e+09      1556.00   \n",
       "75%         1.00  1.500000e+04  1.609369e+09  1.516694e+09      6887.20   \n",
       "max         1.88  1.000000e+08  2.147476e+09  1.552537e+09  81030744.00   \n",
       "\n",
       "       state_changed_at  static_usd_rate  usd_pledged  \n",
       "count      2.092220e+05        209222.00    209222.00  \n",
       "mean       1.462838e+09             1.01     12892.13  \n",
       "std        6.290421e+07             0.23     88901.24  \n",
       "min        1.241334e+09             0.01         0.00  \n",
       "25%        1.420485e+09             1.00       106.00  \n",
       "50%        1.464709e+09             1.00      1537.36  \n",
       "75%        1.519366e+09             1.00      6550.00  \n",
       "max        1.552537e+09             1.72   8596474.58  "
      ]
     },
     "execution_count": 13,
     "metadata": {},
     "output_type": "execute_result"
    }
   ],
   "source": [
    "df.describe().round(2)"
   ]
  },
  {
   "cell_type": "code",
   "execution_count": 14,
   "metadata": {},
   "outputs": [],
   "source": [
    "df = df.query('state == \"successful\" or state == \"failed\"').copy()\n",
    "df = df.reset_index(drop=True)\n",
    "df['state_dum']=pd.get_dummies(df[['state']], drop_first=True)"
   ]
  },
  {
   "cell_type": "markdown",
   "metadata": {},
   "source": [
    "### Backers"
   ]
  },
  {
   "cell_type": "code",
   "execution_count": 15,
   "metadata": {},
   "outputs": [],
   "source": [
    "df.rename(columns = {'backers_count':'backers'}, inplace = True)"
   ]
  },
  {
   "cell_type": "markdown",
   "metadata": {},
   "source": [
    "### Blurb"
   ]
  },
  {
   "cell_type": "markdown",
   "metadata": {},
   "source": [
    "As the length of the description is an indicator of how much information is given to potential investors, this could be a valuable feature in determining the chances of success."
   ]
  },
  {
   "cell_type": "code",
   "execution_count": 16,
   "metadata": {},
   "outputs": [],
   "source": [
    "df['blurb_length']=df['blurb'].str.len()"
   ]
  },
  {
   "cell_type": "markdown",
   "metadata": {},
   "source": [
    "### Category"
   ]
  },
  {
   "cell_type": "code",
   "execution_count": 17,
   "metadata": {},
   "outputs": [
    {
     "data": {
      "text/plain": [
       "'{\"id\":273,\"name\":\"Playing Cards\",\"slug\":\"games/playing cards\",\"position\":4,\"parent_id\":12,\"color\":51627,\"urls\":{\"web\":{\"discover\":\"http://www.kickstarter.com/discover/categories/games/playing%20cards\"}}}'"
      ]
     },
     "execution_count": 17,
     "metadata": {},
     "output_type": "execute_result"
    }
   ],
   "source": [
    "df.category.unique()[0]"
   ]
  },
  {
   "cell_type": "code",
   "execution_count": 18,
   "metadata": {},
   "outputs": [
    {
     "data": {
      "text/html": [
       "<div>\n",
       "<style scoped>\n",
       "    .dataframe tbody tr th:only-of-type {\n",
       "        vertical-align: middle;\n",
       "    }\n",
       "\n",
       "    .dataframe tbody tr th {\n",
       "        vertical-align: top;\n",
       "    }\n",
       "\n",
       "    .dataframe thead th {\n",
       "        text-align: right;\n",
       "    }\n",
       "</style>\n",
       "<table border=\"1\" class=\"dataframe\">\n",
       "  <thead>\n",
       "    <tr style=\"text-align: right;\">\n",
       "      <th></th>\n",
       "      <th>color</th>\n",
       "      <th>id</th>\n",
       "      <th>name</th>\n",
       "      <th>parent_id</th>\n",
       "      <th>position</th>\n",
       "      <th>slug</th>\n",
       "      <th>urls</th>\n",
       "      <th>urls_web</th>\n",
       "      <th>urls_web_discover</th>\n",
       "    </tr>\n",
       "  </thead>\n",
       "  <tbody>\n",
       "    <tr>\n",
       "      <th>0</th>\n",
       "      <td>51627</td>\n",
       "      <td>273</td>\n",
       "      <td>Playing Cards</td>\n",
       "      <td>12.0</td>\n",
       "      <td>4</td>\n",
       "      <td>games/playing cards</td>\n",
       "      <td>{'web': {'discover': 'http://www.kickstarter.c...</td>\n",
       "      <td>{'discover': 'http://www.kickstarter.com/disco...</td>\n",
       "      <td>http://www.kickstarter.com/discover/categories...</td>\n",
       "    </tr>\n",
       "    <tr>\n",
       "      <th>1</th>\n",
       "      <td>10878931</td>\n",
       "      <td>43</td>\n",
       "      <td>Rock</td>\n",
       "      <td>14.0</td>\n",
       "      <td>17</td>\n",
       "      <td>music/rock</td>\n",
       "      <td>{'web': {'discover': 'http://www.kickstarter.c...</td>\n",
       "      <td>{'discover': 'http://www.kickstarter.com/disco...</td>\n",
       "      <td>http://www.kickstarter.com/discover/categories...</td>\n",
       "    </tr>\n",
       "    <tr>\n",
       "      <th>2</th>\n",
       "      <td>51627</td>\n",
       "      <td>273</td>\n",
       "      <td>Playing Cards</td>\n",
       "      <td>12.0</td>\n",
       "      <td>4</td>\n",
       "      <td>games/playing cards</td>\n",
       "      <td>{'web': {'discover': 'http://www.kickstarter.c...</td>\n",
       "      <td>{'discover': 'http://www.kickstarter.com/disco...</td>\n",
       "      <td>http://www.kickstarter.com/discover/categories...</td>\n",
       "    </tr>\n",
       "  </tbody>\n",
       "</table>\n",
       "</div>"
      ],
      "text/plain": [
       "      color   id           name  parent_id  position                 slug  \\\n",
       "0     51627  273  Playing Cards       12.0         4  games/playing cards   \n",
       "1  10878931   43           Rock       14.0        17           music/rock   \n",
       "2     51627  273  Playing Cards       12.0         4  games/playing cards   \n",
       "\n",
       "                                                urls  \\\n",
       "0  {'web': {'discover': 'http://www.kickstarter.c...   \n",
       "1  {'web': {'discover': 'http://www.kickstarter.c...   \n",
       "2  {'web': {'discover': 'http://www.kickstarter.c...   \n",
       "\n",
       "                                            urls_web  \\\n",
       "0  {'discover': 'http://www.kickstarter.com/disco...   \n",
       "1  {'discover': 'http://www.kickstarter.com/disco...   \n",
       "2  {'discover': 'http://www.kickstarter.com/disco...   \n",
       "\n",
       "                                   urls_web_discover  \n",
       "0  http://www.kickstarter.com/discover/categories...  \n",
       "1  http://www.kickstarter.com/discover/categories...  \n",
       "2  http://www.kickstarter.com/discover/categories...  "
      ]
     },
     "execution_count": 18,
     "metadata": {},
     "output_type": "execute_result"
    }
   ],
   "source": [
    "df_cat = pd.DataFrame.from_dict([json.loads(x) for x in df.category])\n",
    "df_cat['urls_web'] = pd.DataFrame.from_dict([x for x in df_cat.urls])\n",
    "df_cat['urls_web_discover'] = pd.DataFrame.from_dict([x for x in df_cat.urls_web])\n",
    "df_cat.head(3)"
   ]
  },
  {
   "cell_type": "code",
   "execution_count": 19,
   "metadata": {},
   "outputs": [],
   "source": [
    "df[['category', 'subcategory']] = df_cat.slug.str.split(\"/\",expand=True,)"
   ]
  },
  {
   "cell_type": "markdown",
   "metadata": {},
   "source": [
    "### Creator"
   ]
  },
  {
   "cell_type": "code",
   "execution_count": 20,
   "metadata": {},
   "outputs": [
    {
     "data": {
      "text/plain": [
       "'{\"id\":723886115,\"name\":\"Lisa Vollrath\",\"slug\":\"lisavollrath\",\"is_registered\":null,\"chosen_currency\":null,\"avatar\":{\"thumb\":\"https://ksr-ugc.imgix.net/assets/005/864/451/bcb1e27325c110287e4cade12433e161_original.jpg?ixlib=rb-1.1.0&w=40&h=40&fit=crop&v=1525353537&auto=format&frame=1&q=92&s=6f941b16c6c05cc5722b182874032842\",\"small\":\"https://ksr-ugc.imgix.net/assets/005/864/451/bcb1e27325c110287e4cade12433e161_original.jpg?ixlib=rb-1.1.0&w=160&h=160&fit=crop&v=1525353537&auto=format&frame=1&q=92&s=eee046cfdb8810ddc961450cdf114f6d\",\"medium\":\"https://ksr-ugc.imgix.net/assets/005/864/451/bcb1e27325c110287e4cade12433e161_original.jpg?ixlib=rb-1.1.0&w=160&h=160&fit=crop&v=1525353537&auto=format&frame=1&q=92&s=eee046cfdb8810ddc961450cdf114f6d\"},\"urls\":{\"web\":{\"user\":\"https://www.kickstarter.com/profile/lisavollrath\"},\"api\":{\"user\":\"https://api.kickstarter.com/v1/users/723886115?signature=1552621781.028aa6bdab59abedd2a1eb192d77735f53c218df\"}}}'"
      ]
     },
     "execution_count": 20,
     "metadata": {},
     "output_type": "execute_result"
    }
   ],
   "source": [
    "df.creator.unique()[0]"
   ]
  },
  {
   "cell_type": "code",
   "execution_count": 21,
   "metadata": {},
   "outputs": [],
   "source": [
    "def dict_extract(search_col, extract_after, end):\n",
    "    search_col = search_col.astype('str')\n",
    "    result_col = []\n",
    "    for i in range(len(search_col)):\n",
    "        index_start = search_col[i].find(extract_after) + len(extract_after)\n",
    "        index_end = search_col[i].find(end, index_start)\n",
    "        result_col.append(search_col[i][index_start:index_end])\n",
    "    return result_col"
   ]
  },
  {
   "cell_type": "code",
   "execution_count": 22,
   "metadata": {},
   "outputs": [],
   "source": [
    "df['creator_id'] = dict_extract(df.creator, '\"id\":', ',')\n",
    "df['creator_id'] = df['creator_id'].astype('int')"
   ]
  },
  {
   "cell_type": "markdown",
   "metadata": {},
   "source": [
    "### Currency "
   ]
  },
  {
   "cell_type": "code",
   "execution_count": 23,
   "metadata": {
    "scrolled": true
   },
   "outputs": [
    {
     "data": {
      "text/plain": [
       "currency  currency_symbol  currency_trailing_code  current_currency\n",
       "AUD       $                True                    CAD                      1\n",
       "                                                   USD                   4382\n",
       "CAD       $                True                    CAD                      2\n",
       "                                                   USD                   8894\n",
       "CHF       Fr               False                   USD                    597\n",
       "DKK       kr               True                    USD                    839\n",
       "EUR       €                False                   CAD                      8\n",
       "                                                   USD                  12391\n",
       "GBP       £                False                   CAD                      8\n",
       "                                                   USD                  21227\n",
       "HKD       $                True                    CAD                      1\n",
       "                                                   USD                    952\n",
       "JPY       ¥                False                   USD                    330\n",
       "MXN       $                True                    USD                   2038\n",
       "NOK       kr               True                    CAD                      1\n",
       "                                                   USD                    452\n",
       "NZD       $                True                    USD                    848\n",
       "SEK       kr               True                    CAD                      1\n",
       "                                                   USD                   1280\n",
       "SGD       $                True                    USD                    624\n",
       "USD       $                True                    CAD                     16\n",
       "                                                   USD                 137772\n",
       "dtype: int64"
      ]
     },
     "execution_count": 23,
     "metadata": {},
     "output_type": "execute_result"
    }
   ],
   "source": [
    "df.groupby(['currency', 'currency_symbol','currency_trailing_code', 'current_currency']).size()"
   ]
  },
  {
   "cell_type": "markdown",
   "metadata": {},
   "source": [
    "As the currency symbols are less specific and more ambiguous then the currencies themselves only the currency will \n",
    "be used as a feature."
   ]
  },
  {
   "cell_type": "markdown",
   "metadata": {},
   "source": [
    "### Dates"
   ]
  },
  {
   "cell_type": "code",
   "execution_count": 24,
   "metadata": {},
   "outputs": [
    {
     "data": {
      "text/html": [
       "<div>\n",
       "<style scoped>\n",
       "    .dataframe tbody tr th:only-of-type {\n",
       "        vertical-align: middle;\n",
       "    }\n",
       "\n",
       "    .dataframe tbody tr th {\n",
       "        vertical-align: top;\n",
       "    }\n",
       "\n",
       "    .dataframe thead th {\n",
       "        text-align: right;\n",
       "    }\n",
       "</style>\n",
       "<table border=\"1\" class=\"dataframe\">\n",
       "  <thead>\n",
       "    <tr style=\"text-align: right;\">\n",
       "      <th></th>\n",
       "      <th>state_changed</th>\n",
       "      <th>launched</th>\n",
       "      <th>created</th>\n",
       "      <th>deadline</th>\n",
       "      <th>state</th>\n",
       "    </tr>\n",
       "  </thead>\n",
       "  <tbody>\n",
       "    <tr>\n",
       "      <th>0</th>\n",
       "      <td>2017-09-09 19:00:59</td>\n",
       "      <td>2017-08-10 19:00:59</td>\n",
       "      <td>2017-08-02 16:28:13</td>\n",
       "      <td>2017-09-09 19:00:59</td>\n",
       "      <td>successful</td>\n",
       "    </tr>\n",
       "    <tr>\n",
       "      <th>1</th>\n",
       "      <td>2013-06-12 07:03:15</td>\n",
       "      <td>2013-05-13 07:03:15</td>\n",
       "      <td>2012-09-30 08:45:33</td>\n",
       "      <td>2013-06-12 07:03:15</td>\n",
       "      <td>successful</td>\n",
       "    </tr>\n",
       "    <tr>\n",
       "      <th>2</th>\n",
       "      <td>2017-03-13 18:22:56</td>\n",
       "      <td>2017-01-12 19:22:56</td>\n",
       "      <td>2017-01-07 10:11:11</td>\n",
       "      <td>2017-03-13 18:22:56</td>\n",
       "      <td>failed</td>\n",
       "    </tr>\n",
       "    <tr>\n",
       "      <th>3</th>\n",
       "      <td>2013-01-09 21:32:07</td>\n",
       "      <td>2012-12-10 21:32:07</td>\n",
       "      <td>2012-12-06 19:04:31</td>\n",
       "      <td>2013-01-09 21:32:07</td>\n",
       "      <td>successful</td>\n",
       "    </tr>\n",
       "    <tr>\n",
       "      <th>4</th>\n",
       "      <td>2015-05-02 04:25:46</td>\n",
       "      <td>2015-04-02 04:25:46</td>\n",
       "      <td>2014-10-24 19:35:50</td>\n",
       "      <td>2015-05-02 04:25:46</td>\n",
       "      <td>successful</td>\n",
       "    </tr>\n",
       "  </tbody>\n",
       "</table>\n",
       "</div>"
      ],
      "text/plain": [
       "        state_changed            launched             created  \\\n",
       "0 2017-09-09 19:00:59 2017-08-10 19:00:59 2017-08-02 16:28:13   \n",
       "1 2013-06-12 07:03:15 2013-05-13 07:03:15 2012-09-30 08:45:33   \n",
       "2 2017-03-13 18:22:56 2017-01-12 19:22:56 2017-01-07 10:11:11   \n",
       "3 2013-01-09 21:32:07 2012-12-10 21:32:07 2012-12-06 19:04:31   \n",
       "4 2015-05-02 04:25:46 2015-04-02 04:25:46 2014-10-24 19:35:50   \n",
       "\n",
       "             deadline       state  \n",
       "0 2017-09-09 19:00:59  successful  \n",
       "1 2013-06-12 07:03:15  successful  \n",
       "2 2017-03-13 18:22:56      failed  \n",
       "3 2013-01-09 21:32:07  successful  \n",
       "4 2015-05-02 04:25:46  successful  "
      ]
     },
     "execution_count": 24,
     "metadata": {},
     "output_type": "execute_result"
    }
   ],
   "source": [
    "df_dates = pd.DataFrame([datetime.fromtimestamp (x) for x in df['state_changed_at']],columns=['state_changed'])\n",
    "df_dates['launched'] = pd.DataFrame([datetime.fromtimestamp (x) for x in df['launched_at']])\n",
    "df_dates['created'] = pd.DataFrame([datetime.fromtimestamp (x) for x in df['created_at']])\n",
    "df_dates['deadline'] = pd.DataFrame([datetime.fromtimestamp (x) for x in df['deadline']])\n",
    "df_dates['state'] = df['state']\n",
    "\n",
    "df_dates.head()"
   ]
  },
  {
   "cell_type": "code",
   "execution_count": 25,
   "metadata": {},
   "outputs": [
    {
     "name": "stderr",
     "output_type": "stream",
     "text": [
      "/Users/sebastianfuhrer/opt/anaconda3/envs/nf/lib/python3.6/site-packages/pandas/plotting/_converter.py:129: FutureWarning: Using an implicitly registered datetime converter for a matplotlib plotting method. The converter was registered by pandas on import. Future versions of pandas will require you to explicitly register matplotlib converters.\n",
      "\n",
      "To register the converters:\n",
      "\t>>> from pandas.plotting import register_matplotlib_converters\n",
      "\t>>> register_matplotlib_converters()\n",
      "  warnings.warn(msg, FutureWarning)\n"
     ]
    },
    {
     "data": {
      "image/png": "[encoded data removed]",
      "text/plain": [
       "<Figure size 700x600 with 2 Axes>"
      ]
     },
     "metadata": {
      "needs_background": "light"
     },
     "output_type": "display_data"
    }
   ],
   "source": [
    "ig, ax1 = plt.subplots(figsize=(7, 6), dpi=100)\n",
    "plt.hist(df_dates.loc[df_dates.state=='successful', 'deadline'], label='successful', alpha=0.5, bins=30)\n",
    "plt.hist(df_dates.loc[df_dates.state=='failed', 'deadline'], label='failed', alpha=0.5, bins=30)\n",
    "plt.title('deadlines')\n",
    "plt.legend();\n",
    "ax2 = ax1.twinx()"
   ]
  },
  {
   "cell_type": "code",
   "execution_count": 26,
   "metadata": {},
   "outputs": [],
   "source": [
    "df['running_time'] = df['deadline'] - df['launched_at']\n",
    "df['marketing_time'] = df['launched_at'] - df['created_at']"
   ]
  },
  {
   "cell_type": "markdown",
   "metadata": {},
   "source": [
    "### FX"
   ]
  },
  {
   "cell_type": "code",
   "execution_count": 27,
   "metadata": {},
   "outputs": [
    {
     "name": "stdout",
     "output_type": "stream",
     "text": [
      "3590\n"
     ]
    }
   ],
   "source": [
    "(df['fx_rate'] - df['static_usd_rate']).describe().round(4)\n",
    "print(df.query('(fx_rate - static_usd_rate) > 0.05').shape[0])"
   ]
  },
  {
   "cell_type": "code",
   "execution_count": 28,
   "metadata": {},
   "outputs": [],
   "source": [
    "df['fx_dif'] = (df['fx_rate'] - df['static_usd_rate'])/df['static_usd_rate']"
   ]
  },
  {
   "cell_type": "markdown",
   "metadata": {},
   "source": [
    "### Goal"
   ]
  },
  {
   "cell_type": "code",
   "execution_count": 29,
   "metadata": {},
   "outputs": [
    {
     "name": "stdout",
     "output_type": "stream",
     "text": [
      "Amount of misclassifications using usd_pledged: 7631\n",
      "Amount of misclassifications using converted_pledged_amount: 7669\n",
      "Amount of misclassifications using pledged: 4\n"
     ]
    }
   ],
   "source": [
    "misclassifications = df.query('goal < usd_pledged and state == \"failed\"').count() +\\\n",
    "df.query('goal > usd_pledged and state == \"successful\"').count()\n",
    "print(\"Amount of misclassifications using usd_pledged: {}\".format(misclassifications[0]))\n",
    "\n",
    "misclassifications = df.query('goal < converted_pledged_amount and state == \"failed\"').count() +\\\n",
    "df.query('goal > converted_pledged_amount and state == \"successful\"').count()\n",
    "print(\"Amount of misclassifications using converted_pledged_amount: {}\".format(misclassifications[0]))\n",
    "\n",
    "misclassifications = df.query('goal < pledged and state == \"failed\"').count() +\\\n",
    "df.query('goal > pledged and state == \"successful\"').count()\n",
    "print(\"Amount of misclassifications using pledged: {}\".format(misclassifications[0]))"
   ]
  },
  {
   "cell_type": "markdown",
   "metadata": {},
   "source": [
    "When comparing the goal amount to the converted_pledged_amount, there are 7669 success misclassifications, however when comparing pledged and goal there are merely 4 misclassificaition. This indicates that the goal amount is given in the original currency and has not been converted to USD yet. "
   ]
  },
  {
   "cell_type": "code",
   "execution_count": 30,
   "metadata": {},
   "outputs": [
    {
     "name": "stdout",
     "output_type": "stream",
     "text": [
      "Amount of misclassifications using converted_pledged_amount & fx_rate*goal: 1361\n",
      "Amount of misclassifications using converted_pledged_amount & static_usd_rate*goal: 2296\n",
      "Amount of misclassifications using usd_pledged & fx_rate*goal: 1366\n",
      "Amount of misclassifications using usd_pledged & static_usd_rate*goal: 153\n"
     ]
    }
   ],
   "source": [
    "df['usd_goal'] = df['goal'] * df['fx_rate']\n",
    "misclassifications = df.query(\n",
    "    'usd_goal < converted_pledged_amount and state == \"failed\" or \\\n",
    "usd_goal > converted_pledged_amount and state == \"successful\"').count()\n",
    "print(\n",
    "    \"Amount of misclassifications using converted_pledged_amount & fx_rate*goal: {}\"\n",
    "    .format(misclassifications[0]))\n",
    "\n",
    "df['usd_goal'] = df['goal'] * df['static_usd_rate']\n",
    "misclassifications = df.query(\n",
    "    'usd_goal < converted_pledged_amount and state == \"failed\" or \\\n",
    "usd_goal > converted_pledged_amount and state == \"successful\"').count()\n",
    "print(\n",
    "    \"Amount of misclassifications using converted_pledged_amount & static_usd_rate*goal: {}\"\n",
    "    .format(misclassifications[0]))\n",
    "\n",
    "df['usd_goal'] = df['goal'] * df['fx_rate']\n",
    "misclassifications = df.query(\n",
    "    'usd_goal < usd_pledged and state == \"failed\" or \\\n",
    "usd_goal > usd_pledged and state == \"successful\"').count()\n",
    "print(\n",
    "    \"Amount of misclassifications using usd_pledged & fx_rate*goal: {}\".format(\n",
    "        misclassifications[0]))\n",
    "\n",
    "df['usd_goal'] = df['goal'] * df['static_usd_rate']\n",
    "misclassifications = df.query(\n",
    "    'usd_goal < usd_pledged and state == \"failed\" or \\\n",
    "usd_goal > usd_pledged and state == \"successful\"').count()\n",
    "print(\n",
    "    \"Amount of misclassifications using usd_pledged & static_usd_rate*goal: {}\"\n",
    "    .format(misclassifications[0]))"
   ]
  },
  {
   "cell_type": "code",
   "execution_count": 31,
   "metadata": {},
   "outputs": [],
   "source": [
    "df.drop(df.query('usd_goal < usd_pledged and state == \"failed\" or \\\n",
    "              usd_goal > usd_pledged and state == \"successful\"').index,\n",
    "        inplace=True,)\n",
    "df=df.reset_index(drop=True);"
   ]
  },
  {
   "cell_type": "markdown",
   "metadata": {},
   "source": [
    "As there are only 153 misclassifications, when converting the the goal using the static usd rate and comparing it to the pledged usd it can be assumed that this is the best metric to use with regard to consistency. The 153 misclassifications are likely to be to do to faulty data and will therefore be removed from the dataset."
   ]
  },
  {
   "cell_type": "markdown",
   "metadata": {},
   "source": [
    "### ID"
   ]
  },
  {
   "cell_type": "code",
   "execution_count": 32,
   "metadata": {},
   "outputs": [
    {
     "data": {
      "text/plain": [
       "168860"
      ]
     },
     "execution_count": 32,
     "metadata": {},
     "output_type": "execute_result"
    }
   ],
   "source": [
    "df.id.nunique()"
   ]
  },
  {
   "cell_type": "code",
   "execution_count": 33,
   "metadata": {},
   "outputs": [
    {
     "data": {
      "text/plain": [
       "928751314"
      ]
     },
     "execution_count": 33,
     "metadata": {},
     "output_type": "execute_result"
    }
   ],
   "source": [
    "df.id.unique()[0]"
   ]
  },
  {
   "cell_type": "markdown",
   "metadata": {},
   "source": [
    "### Location"
   ]
  },
  {
   "cell_type": "code",
   "execution_count": 34,
   "metadata": {},
   "outputs": [
    {
     "data": {
      "text/plain": [
       "'{\"id\":2400549,\"name\":\"Euless\",\"slug\":\"euless-tx\",\"short_name\":\"Euless, TX\",\"displayable_name\":\"Euless, TX\",\"localized_name\":\"Euless\",\"country\":\"US\",\"state\":\"TX\",\"type\":\"Town\",\"is_root\":false,\"urls\":{\"web\":{\"discover\":\"https://www.kickstarter.com/discover/places/euless-tx\",\"location\":\"https://www.kickstarter.com/locations/euless-tx\"},\"api\":{\"nearby_projects\":\"https://api.kickstarter.com/v1/discover?signature=1552595201.21559901337a1cbb442882fc58ce69fbdd8eec26&woe_id=2400549\"}}}'"
      ]
     },
     "execution_count": 34,
     "metadata": {},
     "output_type": "execute_result"
    }
   ],
   "source": [
    "df.location.unique()[0]"
   ]
  },
  {
   "cell_type": "code",
   "execution_count": 35,
   "metadata": {},
   "outputs": [
    {
     "data": {
      "text/plain": [
       "14653"
      ]
     },
     "execution_count": 35,
     "metadata": {},
     "output_type": "execute_result"
    }
   ],
   "source": [
    "df['location_id'] = dict_extract(df.location, '\"id\":', ',')\n",
    "df['location_id'].nunique()"
   ]
  },
  {
   "cell_type": "code",
   "execution_count": 36,
   "metadata": {},
   "outputs": [],
   "source": [
    "df['location_name'] = dict_extract(df.location, '\"short_name\":\"', '\",')\n",
    "df['location_name'] = df['location_name'].str.split(\", \",expand=True)[1]"
   ]
  },
  {
   "cell_type": "code",
   "execution_count": 37,
   "metadata": {},
   "outputs": [
    {
     "name": "stdout",
     "output_type": "stream",
     "text": [
      "243\n",
      "['TX' 'CA' 'Lithuania' 'MI' 'MD' 'CT' 'UT' 'UK' 'GA' 'IL' 'NY' 'CO'\n",
      " 'France' 'AU' 'TN' 'PA' 'NZ' 'MA' 'MN' 'NE' 'Spain' 'NJ' 'NC' 'Italy'\n",
      " 'FL' 'VA' 'SD' 'Norway' 'VT' 'ID' 'OR' 'AZ' 'Netherlands' 'NV' 'MT' 'ME'\n",
      " 'LA' 'Canada' 'WA' 'IN' 'Singapore' 'KY' 'Argentina' None 'Mexico'\n",
      " 'Sweden' 'India' 'Ireland' 'DC' 'Germany' 'Peru' 'SC' 'Chile' 'Indonesia'\n",
      " 'Belgium' 'OH' 'AR' 'Japan' 'KS' 'HI' 'Hong Kong' 'DE' 'WI' 'AL' 'Kenya'\n",
      " 'MO' 'South Korea' 'Iran' 'OK' 'RI' 'NH' 'Iceland' 'Israel' 'Puerto Rico'\n",
      " 'Hungary' 'Bulgaria' 'Denmark' 'Switzerland' 'MS' 'Jamaica' 'China' 'AK'\n",
      " 'Czech Republic' 'IA' 'Russia' 'Ecuador' 'Greece' 'NM' 'WV' 'Austria'\n",
      " 'Suriname' 'Thailand' 'Poland' 'ND' 'Sierra Leone' 'Taiwan' 'Brazil'\n",
      " 'Panama' 'Ghana' 'Uganda' 'WY' 'Guatemala' 'Slovenia' 'South Africa'\n",
      " 'Egypt' 'Bangladesh' 'Liberia' 'Viet Nam' 'Morocco' 'Rwanda' 'Serbia'\n",
      " 'Latvia' 'Slovakia' 'Congo' 'Ukraine' 'Belize' 'Costa Rica'\n",
      " 'Svalbard and Jan Mayen' 'Nigeria' 'Portugal' \"Cote d'Ivoire\" 'Nepal'\n",
      " 'Senegal' 'Nicaragua' 'Turkey' 'United Arab Emirates' 'Mongolia'\n",
      " 'Malaysia' 'Virgin Islands' 'Palestinian Territories' 'Afghanistan'\n",
      " 'Pakistan' 'Bosnia and Herzegovina' 'Cook Islands' 'Myanmar'\n",
      " 'Libyan Arab Jamahiriya' 'Trinidad and Tobago' 'Colombia' 'Cameroon'\n",
      " 'Yemen' 'Macedonia' 'Luxembourg' 'Finland' 'Georgia' 'Philippines'\n",
      " 'Romania' 'Estonia' 'Faroe Islands' 'Bolivia' 'Mauritius' 'Tanzania'\n",
      " 'Cyprus' 'Honduras' 'Iraq' 'Bhutan' 'Lesotho' 'Malawi' 'Cambodia'\n",
      " 'Guyana' 'Bahamas' 'Guam' 'Cuba' 'Zimbabwe' 'Zambia' 'Burkina Faso'\n",
      " 'Ethiopia' 'Tunisia' 'Greenland' 'Mali' 'Micronesia'\n",
      " 'Syrian Arab Republic' 'Croatia' 'Sint Maarten (Dutch part)' 'Lebanon'\n",
      " 'Botswana' 'Armenia' 'Djibouti' 'El Salvador' 'Antigua and Barbuda'\n",
      " 'Fiji' 'Dominican Republic' 'Macao' 'Jordan' 'Niger' 'Uruguay' 'Malta'\n",
      " 'Dominica' 'Namibia' 'Vanuatu' 'Guinea' 'Madagascar' 'Kyrgyzstan' 'Qatar'\n",
      " 'Haiti' 'Venezuela' 'Paraguay' 'Monaco' 'North Korea' 'Guadeloupe'\n",
      " 'Papua New Guinea' 'Equatorial Guinea' 'Belarus' 'Algeria' 'Sri Lanka'\n",
      " 'Chad' 'Gambia' 'Moldova' 'New Caledonia' 'Kazakhstan' 'Saint Lucia'\n",
      " 'Saint Kitts and Nevis' 'Tonga' 'Samoa' 'Kosovo' 'French Polynesia'\n",
      " 'Seychelles' 'Albania' 'Curacao' 'Laos' 'Aland Islands' 'Pitcairn'\n",
      " 'Mauritania' 'South Sudan' 'Mozambique' 'Barbados' 'Kiribati'\n",
      " 'Cayman Islands' 'Turks and Caicos Islands' 'Timor-Leste' 'Saudi Arabia'\n",
      " 'Gabon' 'Saint Vincent and the Grenadines' 'Sudan' 'Maldives' 'Kuwait'\n",
      " 'Swaziland' 'Somalia' 'Cape Verde' 'Tajikistan' 'Gibraltar' 'Benin'\n",
      " 'Martinique' 'Vatican City' 'Azerbaijan']\n"
     ]
    }
   ],
   "source": [
    "print(df['location_name'].nunique())\n",
    "print(df['location_name'].unique())"
   ]
  },
  {
   "cell_type": "code",
   "execution_count": 38,
   "metadata": {},
   "outputs": [
    {
     "name": "stdout",
     "output_type": "stream",
     "text": [
      "22\n",
      "['AT', 'AU', 'BE', 'CA', 'CH', 'DE', 'DK', 'ES', 'FR', 'GB', 'HK', 'IE', 'IT', 'JP', 'LU', 'MX', 'NL', 'NO', 'NZ', 'SE', 'SG', 'US']\n"
     ]
    }
   ],
   "source": [
    "print(df['country'].nunique())\n",
    "print(sorted(df['country'].unique()))"
   ]
  },
  {
   "cell_type": "markdown",
   "metadata": {},
   "source": [
    "### Name"
   ]
  },
  {
   "cell_type": "code",
   "execution_count": 39,
   "metadata": {},
   "outputs": [],
   "source": [
    "df['name_length']=df['name'].str.len()"
   ]
  },
  {
   "cell_type": "markdown",
   "metadata": {},
   "source": [
    "### Pledged Amount"
   ]
  },
  {
   "cell_type": "code",
   "execution_count": 40,
   "metadata": {},
   "outputs": [
    {
     "data": {
      "text/plain": [
       "count    192511.0\n",
       "mean         -0.0\n",
       "std           0.0\n",
       "min          -0.0\n",
       "25%           0.0\n",
       "50%           0.0\n",
       "75%           0.0\n",
       "max           0.0\n",
       "dtype: float64"
      ]
     },
     "execution_count": 40,
     "metadata": {},
     "output_type": "execute_result"
    }
   ],
   "source": [
    "(df['usd_pledged'] - df['static_usd_rate']* df['pledged']).describe().round()"
   ]
  },
  {
   "cell_type": "code",
   "execution_count": 41,
   "metadata": {},
   "outputs": [
    {
     "data": {
      "text/plain": [
       "count    192511.0\n",
       "mean        -11.0\n",
       "std         666.0\n",
       "min     -100666.0\n",
       "25%           0.0\n",
       "50%           0.0\n",
       "75%           0.0\n",
       "max       38056.0\n",
       "dtype: float64"
      ]
     },
     "execution_count": 41,
     "metadata": {},
     "output_type": "execute_result"
    }
   ],
   "source": [
    "(df['converted_pledged_amount'] - df['usd_pledged']).describe().round()"
   ]
  },
  {
   "cell_type": "code",
   "execution_count": 42,
   "metadata": {},
   "outputs": [
    {
     "data": {
      "text/plain": [
       "756"
      ]
     },
     "execution_count": 42,
     "metadata": {},
     "output_type": "execute_result"
    }
   ],
   "source": [
    "df.query('(converted_pledged_amount - usd_pledged)/usd_pledged > 0.05').shape[0]"
   ]
  },
  {
   "cell_type": "markdown",
   "metadata": {},
   "source": [
    "As usd_pledged is the product of the rate and the original pledged amount, the later two can be removed as features. By definition, the converted_pledged_amount and usd_pledged are assumed to be identical and smaller differences can be attributed to different conversions."
   ]
  },
  {
   "cell_type": "code",
   "execution_count": 43,
   "metadata": {},
   "outputs": [
    {
     "data": {
      "text/html": [
       "<div>\n",
       "<style scoped>\n",
       "    .dataframe tbody tr th:only-of-type {\n",
       "        vertical-align: middle;\n",
       "    }\n",
       "\n",
       "    .dataframe tbody tr th {\n",
       "        vertical-align: top;\n",
       "    }\n",
       "\n",
       "    .dataframe thead tr th {\n",
       "        text-align: left;\n",
       "    }\n",
       "\n",
       "    .dataframe thead tr:last-of-type th {\n",
       "        text-align: right;\n",
       "    }\n",
       "</style>\n",
       "<table border=\"1\" class=\"dataframe\">\n",
       "  <thead>\n",
       "    <tr>\n",
       "      <th></th>\n",
       "      <th colspan=\"8\" halign=\"left\">pledged_per_backer</th>\n",
       "    </tr>\n",
       "    <tr>\n",
       "      <th></th>\n",
       "      <th>count</th>\n",
       "      <th>mean</th>\n",
       "      <th>std</th>\n",
       "      <th>min</th>\n",
       "      <th>25%</th>\n",
       "      <th>50%</th>\n",
       "      <th>75%</th>\n",
       "      <th>max</th>\n",
       "    </tr>\n",
       "    <tr>\n",
       "      <th>state</th>\n",
       "      <th></th>\n",
       "      <th></th>\n",
       "      <th></th>\n",
       "      <th></th>\n",
       "      <th></th>\n",
       "      <th></th>\n",
       "      <th></th>\n",
       "      <th></th>\n",
       "    </tr>\n",
       "  </thead>\n",
       "  <tbody>\n",
       "    <tr>\n",
       "      <th>failed</th>\n",
       "      <td>60187.0</td>\n",
       "      <td>57.89</td>\n",
       "      <td>145.88</td>\n",
       "      <td>0.46</td>\n",
       "      <td>10.40</td>\n",
       "      <td>29.99</td>\n",
       "      <td>61.78</td>\n",
       "      <td>10000.0</td>\n",
       "    </tr>\n",
       "    <tr>\n",
       "      <th>successful</th>\n",
       "      <td>117315.0</td>\n",
       "      <td>92.41</td>\n",
       "      <td>136.20</td>\n",
       "      <td>1.00</td>\n",
       "      <td>38.79</td>\n",
       "      <td>61.71</td>\n",
       "      <td>102.27</td>\n",
       "      <td>10000.0</td>\n",
       "    </tr>\n",
       "  </tbody>\n",
       "</table>\n",
       "</div>"
      ],
      "text/plain": [
       "           pledged_per_backer                                             \\\n",
       "                        count   mean     std   min    25%    50%     75%   \n",
       "state                                                                      \n",
       "failed                60187.0  57.89  145.88  0.46  10.40  29.99   61.78   \n",
       "successful           117315.0  92.41  136.20  1.00  38.79  61.71  102.27   \n",
       "\n",
       "                     \n",
       "                max  \n",
       "state                \n",
       "failed      10000.0  \n",
       "successful  10000.0  "
      ]
     },
     "execution_count": 43,
     "metadata": {},
     "output_type": "execute_result"
    }
   ],
   "source": [
    "df['pledged_per_backer']=df['usd_pledged']/df['backers']\n",
    "df['pledged_per_backer'].describe()\n",
    "df[['state','pledged_per_backer']].groupby(['state']).describe().round(2)"
   ]
  },
  {
   "cell_type": "markdown",
   "metadata": {},
   "source": [
    "### Payout"
   ]
  },
  {
   "cell_type": "code",
   "execution_count": 44,
   "metadata": {},
   "outputs": [],
   "source": [
    "df['payout'] = np.where(df['usd_pledged'] >= df['usd_goal'], df['usd_pledged'],0)"
   ]
  },
  {
   "cell_type": "markdown",
   "metadata": {},
   "source": [
    "### Profile"
   ]
  },
  {
   "cell_type": "code",
   "execution_count": 45,
   "metadata": {},
   "outputs": [
    {
     "data": {
      "text/plain": [
       "'{\"id\":3094785,\"project_id\":3094785,\"state\":\"active\",\"state_changed_at\":1505402530,\"name\":\"The Ofrenda Oracle Deck\",\"blurb\":\"A colorful Dia de los Muertos themed oracle deck & guidebook for all you tarot lovers, from mixed media artist Lisa Vollrath.\",\"background_color\":\"\",\"text_color\":\"000000\",\"link_background_color\":\"fd7a00\",\"link_text_color\":\"fdfcfc\",\"link_text\":\"Purchase a Deck\",\"link_url\":\"http://www.makeplayingcards.com/sell/lisavollrath\",\"show_feature_image\":false,\"background_image_opacity\":0.8,\"should_show_feature_image_section\":true,\"feature_image_attributes\":{\"image_urls\":{\"default\":\"https://ksr-ugc.imgix.net/assets/017/766/989/dd9f18c773a8546d996293a20e2c422b_original.jpg?ixlib=rb-1.1.0&crop=faces&w=1552&h=873&fit=crop&v=1502053663&auto=format&frame=1&q=92&s=303e28e5899b51063369a2c0370872c6\",\"baseball_card\":\"https://ksr-ugc.imgix.net/assets/017/766/989/dd9f18c773a8546d996293a20e2c422b_original.jpg?ixlib=rb-1.1.0&crop=faces&w=560&h=315&fit=crop&v=1502053663&auto=format&frame=1&q=92&s=90bdce91db36494610fd98402dfe9712\"}}}'"
      ]
     },
     "execution_count": 45,
     "metadata": {},
     "output_type": "execute_result"
    }
   ],
   "source": [
    "df.profile[0]"
   ]
  },
  {
   "cell_type": "code",
   "execution_count": 46,
   "metadata": {},
   "outputs": [
    {
     "data": {
      "text/plain": [
       "168860"
      ]
     },
     "execution_count": 46,
     "metadata": {},
     "output_type": "execute_result"
    }
   ],
   "source": [
    "df['profile_id'] = dict_extract(df.profile, '\"id\":', ',\"')\n",
    "df['profile_id'] = df['profile_id'].astype('int')\n",
    "df['profile_id'].nunique()"
   ]
  },
  {
   "cell_type": "markdown",
   "metadata": {},
   "source": [
    "The profile_id and id are different variables however they seem both to identify the individual projects."
   ]
  },
  {
   "cell_type": "markdown",
   "metadata": {},
   "source": [
    "### Starrable & Communication"
   ]
  },
  {
   "cell_type": "code",
   "execution_count": 47,
   "metadata": {},
   "outputs": [
    {
     "data": {
      "text/plain": [
       "0"
      ]
     },
     "execution_count": 47,
     "metadata": {},
     "output_type": "execute_result"
    }
   ],
   "source": [
    "df.query('is_starrable == True or disable_communication == True').count()[0]"
   ]
  },
  {
   "cell_type": "markdown",
   "metadata": {},
   "source": [
    "Is_starrable and disable_communication are variables, that cannot be True for projects with state failed or successful. Thus, they cannot be used as features. "
   ]
  },
  {
   "cell_type": "markdown",
   "metadata": {},
   "source": [
    "## Label and Features"
   ]
  },
  {
   "cell_type": "markdown",
   "metadata": {},
   "source": [
    "### Feature Selection"
   ]
  },
  {
   "cell_type": "code",
   "execution_count": 48,
   "metadata": {},
   "outputs": [
    {
     "data": {
      "text/plain": [
       "Index(['backers', 'blurb', 'blurb_length', 'category',\n",
       "       'converted_pledged_amount', 'country', 'created_at', 'creator',\n",
       "       'creator_id', 'currency', 'currency_symbol', 'currency_trailing_code',\n",
       "       'current_currency', 'deadline', 'disable_communication', 'fx_dif',\n",
       "       'fx_rate', 'goal', 'id', 'is_starrable', 'launched_at', 'location',\n",
       "       'location_id', 'location_name', 'marketing_time', 'name', 'name_length',\n",
       "       'payout', 'photo', 'pledged', 'pledged_per_backer', 'profile',\n",
       "       'profile_id', 'running_time', 'slug', 'source_url', 'spotlight',\n",
       "       'staff_pick', 'state', 'state_changed_at', 'state_dum',\n",
       "       'static_usd_rate', 'subcategory', 'urls', 'usd_goal', 'usd_pledged',\n",
       "       'usd_type'],\n",
       "      dtype='object')"
      ]
     },
     "execution_count": 48,
     "metadata": {},
     "output_type": "execute_result"
    }
   ],
   "source": [
    "df = df.reindex(sorted(df.columns), axis=1)\n",
    "df.columns"
   ]
  },
  {
   "cell_type": "code",
   "execution_count": 49,
   "metadata": {},
   "outputs": [
    {
     "data": {
      "text/plain": [
       "['usd_type',\n",
       " 'state_changed_at',\n",
       " 'urls',\n",
       " 'name',\n",
       " 'pledged',\n",
       " 'pledged_per_backer',\n",
       " 'location',\n",
       " 'slug',\n",
       " 'usd_pledged',\n",
       " 'id',\n",
       " 'profile_id',\n",
       " 'creator_id',\n",
       " 'location_id',\n",
       " 'country',\n",
       " 'location_name',\n",
       " 'currency_symbol',\n",
       " 'goal',\n",
       " 'currency_trailing_code',\n",
       " 'launched_at',\n",
       " 'source_url',\n",
       " 'blurb',\n",
       " 'converted_pledged_amount',\n",
       " 'creator',\n",
       " 'is_starrable',\n",
       " 'created_at',\n",
       " 'photo',\n",
       " 'subcategory',\n",
       " 'state',\n",
       " 'static_usd_rate',\n",
       " 'current_currency',\n",
       " 'disable_communication',\n",
       " 'payout',\n",
       " 'spotlight',\n",
       " 'staff_pick',\n",
       " 'state_dum',\n",
       " 'profile',\n",
       " 'fx_rate']"
      ]
     },
     "execution_count": 49,
     "metadata": {},
     "output_type": "execute_result"
    }
   ],
   "source": [
    "# Feature selection\n",
    "features = ['backers',\n",
    "            'blurb_length',            \n",
    "            'category',\n",
    "            'currency',\n",
    "            'deadline',\n",
    "            'fx_dif',\n",
    "            'marketing_time',\n",
    "            'name_length',\n",
    "            'running_time',\n",
    "            'usd_goal'\n",
    "           ]\n",
    "\n",
    "removed_features = list(set(df)-set(features))\n",
    "removed_features"
   ]
  },
  {
   "cell_type": "markdown",
   "metadata": {},
   "source": [
    "### Assigning Label and Features"
   ]
  },
  {
   "cell_type": "code",
   "execution_count": 88,
   "metadata": {},
   "outputs": [
    {
     "name": "stdout",
     "output_type": "stream",
     "text": [
      "(192511, 10)\n",
      "(192511, 1)\n"
     ]
    }
   ],
   "source": [
    "X = df[features]\n",
    "y = df[['state_dum']]\n",
    "print(X.shape)\n",
    "print(y.shape)"
   ]
  },
  {
   "cell_type": "code",
   "execution_count": 89,
   "metadata": {},
   "outputs": [
    {
     "data": {
      "text/plain": [
       "backers             3206\n",
       "blurb_length         152\n",
       "category              15\n",
       "currency              14\n",
       "deadline          158375\n",
       "fx_dif             16517\n",
       "marketing_time    160434\n",
       "name_length           85\n",
       "running_time       47926\n",
       "usd_goal           46072\n",
       "dtype: int64"
      ]
     },
     "execution_count": 89,
     "metadata": {},
     "output_type": "execute_result"
    }
   ],
   "source": [
    "X.nunique()"
   ]
  },
  {
   "cell_type": "markdown",
   "metadata": {},
   "source": [
    "### Categorical Features"
   ]
  },
  {
   "cell_type": "code",
   "execution_count": 90,
   "metadata": {},
   "outputs": [
    {
     "data": {
      "text/plain": [
       "['category', 'currency']"
      ]
     },
     "execution_count": 90,
     "metadata": {},
     "output_type": "execute_result"
    }
   ],
   "source": [
    "cat_features = list(X.columns[X.dtypes==object])\n",
    "cat_features"
   ]
  },
  {
   "cell_type": "code",
   "execution_count": 91,
   "metadata": {},
   "outputs": [
    {
     "data": {
      "image/png": "[encoded data removed]",
      "text/plain": [
       "<Figure size 1080x216 with 2 Axes>"
      ]
     },
     "metadata": {},
     "output_type": "display_data"
    }
   ],
   "source": [
    "fig, ax = plt.subplots(len(cat_features)//2+len(cat_features)%2, 2, figsize=(15, 3))\n",
    "for variable, subplot in zip(cat_features, ax.flatten()):\n",
    "    sns.countplot(df[variable], ax=subplot, palette=\"Set2\")\n",
    "    for label in subplot.get_xticklabels():\n",
    "        label.set_rotation(90)"
   ]
  },
  {
   "cell_type": "markdown",
   "metadata": {},
   "source": [
    "### Numerical Features"
   ]
  },
  {
   "cell_type": "code",
   "execution_count": 92,
   "metadata": {},
   "outputs": [
    {
     "data": {
      "text/plain": [
       "['backers',\n",
       " 'blurb_length',\n",
       " 'deadline',\n",
       " 'fx_dif',\n",
       " 'marketing_time',\n",
       " 'name_length',\n",
       " 'running_time',\n",
       " 'usd_goal']"
      ]
     },
     "execution_count": 92,
     "metadata": {},
     "output_type": "execute_result"
    }
   ],
   "source": [
    "num_features = list(X.columns[X.dtypes!=object])\n",
    "num_features"
   ]
  },
  {
   "cell_type": "code",
   "execution_count": 93,
   "metadata": {},
   "outputs": [
    {
     "name": "stderr",
     "output_type": "stream",
     "text": [
      "/Users/sebastianfuhrer/opt/anaconda3/envs/nf/lib/python3.6/site-packages/numpy/lib/function_base.py:3826: RuntimeWarning: Invalid value encountered in percentile\n",
      "  interpolation=interpolation)\n",
      "/Users/sebastianfuhrer/opt/anaconda3/envs/nf/lib/python3.6/site-packages/pandas/core/generic.py:7172: SettingWithCopyWarning: \n",
      "A value is trying to be set on a copy of a slice from a DataFrame\n",
      "\n",
      "See the caveats in the documentation: http://pandas.pydata.org/pandas-docs/stable/indexing.html#indexing-view-versus-copy\n",
      "  result[mask] = np.nan\n",
      "/Users/sebastianfuhrer/opt/anaconda3/envs/nf/lib/python3.6/site-packages/seaborn/distributions.py:369: UserWarning: Default bandwidth for data is 0; skipping density estimation.\n",
      "  warnings.warn(msg, UserWarning)\n"
     ]
    },
    {
     "data": {
      "image/png": "[encoded data removed]",
      "text/plain": [
       "<Figure size 1080x720 with 12 Axes>"
      ]
     },
     "metadata": {},
     "output_type": "display_data"
    }
   ],
   "source": [
    "fig, ax = plt.subplots(len(num_features)//3+len(num_features)%3, 3, figsize=(15, 10))\n",
    "for variable, subplot in zip(num_features, ax.flatten()):\n",
    "    lb = np.percentile(df[variable], 1)\n",
    "    ub = np.percentile(df[variable], 99)\n",
    "    sns.distplot(df[variable].clip(lb,ub), ax=subplot, color='b')\n",
    "    for label in subplot.get_xticklabels():\n",
    "        label.set_rotation(90)"
   ]
  },
  {
   "cell_type": "code",
   "execution_count": 94,
   "metadata": {},
   "outputs": [
    {
     "data": {
      "image/png": "[encoded data removed]",
      "text/plain": [
       "<Figure size 1080x1440 with 12 Axes>"
      ]
     },
     "metadata": {},
     "output_type": "display_data"
    }
   ],
   "source": [
    "fig, ax = plt.subplots(len(num_features)//3+len(num_features)%3, 3, figsize=(15, 20))\n",
    "for variable, subplot in zip(num_features, ax.flatten()):\n",
    "    sns.boxplot(y=df[variable], ax=subplot, palette=\"Set2\")"
   ]
  },
  {
   "cell_type": "markdown",
   "metadata": {},
   "source": [
    "### Correlations"
   ]
  },
  {
   "cell_type": "code",
   "execution_count": 95,
   "metadata": {},
   "outputs": [
    {
     "data": {
      "image/png": "[encoded data removed]",
      "text/plain": [
       "<Figure size 1080x720 with 2 Axes>"
      ]
     },
     "metadata": {},
     "output_type": "display_data"
    }
   ],
   "source": [
    "mask = np.triu(X.join(y).corr())\n",
    "plt.figure(figsize = (15,10))\n",
    "ax = sns.heatmap(round(X.join(y).corr()*100)\n",
    "                 ,annot=True\n",
    "                 ,mask=mask\n",
    "                 ,cmap='RdBu_r')"
   ]
  },
  {
   "cell_type": "markdown",
   "metadata": {},
   "source": [
    "### Outliers\n",
    "Data showing larger irregualities than 10 standard deviations is excluded from the data set to avoid distorted outcomes."
   ]
  },
  {
   "cell_type": "code",
   "execution_count": 96,
   "metadata": {},
   "outputs": [],
   "source": [
    "#outlier_indicies = list(df[stats.zscore(df[features]) > 10].index)"
   ]
  },
  {
   "cell_type": "code",
   "execution_count": 97,
   "metadata": {},
   "outputs": [],
   "source": [
    "#df.drop(outlier_indicies, inplace=True)"
   ]
  },
  {
   "cell_type": "markdown",
   "metadata": {},
   "source": [
    "## Model"
   ]
  },
  {
   "cell_type": "markdown",
   "metadata": {},
   "source": [
    "### Preprocessing"
   ]
  },
  {
   "cell_type": "code",
   "execution_count": 98,
   "metadata": {},
   "outputs": [],
   "source": [
    "# Split into train and test set \n",
    "X_train, X_test, y_train, y_test = train_test_split(X, y, test_size=0.2, random_state=RSEED)"
   ]
  },
  {
   "cell_type": "code",
   "execution_count": 99,
   "metadata": {},
   "outputs": [
    {
     "name": "stdout",
     "output_type": "stream",
     "text": [
      "X_train shape: (154008, 10)\n",
      "X_test shape: (38503, 10)\n",
      "y_train shape: (154008, 1)\n",
      "y_test shape: (38503, 1)\n"
     ]
    }
   ],
   "source": [
    "print('X_train shape:', X_train.shape)\n",
    "print('X_test shape:', X_test.shape)\n",
    "print('y_train shape:', y_train.shape)\n",
    "print('y_test shape:', y_test.shape)"
   ]
  },
  {
   "cell_type": "code",
   "execution_count": 100,
   "metadata": {},
   "outputs": [
    {
     "data": {
      "text/plain": [
       "backers             2984\n",
       "blurb_length         151\n",
       "category              15\n",
       "currency              14\n",
       "deadline          131140\n",
       "fx_dif             15098\n",
       "marketing_time    133132\n",
       "name_length           85\n",
       "running_time       39754\n",
       "usd_goal           38902\n",
       "dtype: int64"
      ]
     },
     "execution_count": 100,
     "metadata": {},
     "output_type": "execute_result"
    }
   ],
   "source": [
    "X_train.nunique()"
   ]
  },
  {
   "cell_type": "code",
   "execution_count": 102,
   "metadata": {},
   "outputs": [
    {
     "data": {
      "text/plain": [
       "state_dum    2\n",
       "dtype: int64"
      ]
     },
     "execution_count": 102,
     "metadata": {},
     "output_type": "execute_result"
    }
   ],
   "source": [
    "y_train.nunique()"
   ]
  },
  {
   "cell_type": "markdown",
   "metadata": {},
   "source": [
    "### Pipline"
   ]
  },
  {
   "cell_type": "code",
   "execution_count": 103,
   "metadata": {},
   "outputs": [],
   "source": [
    "# Pipline for numerical features\n",
    "num_pipeline = Pipeline([\n",
    "    ('imputer_num', SimpleImputer(strategy='median')),\n",
    "    ('std_scaler', StandardScaler())\n",
    "])\n",
    "\n",
    "# Pipeline for categorical features \n",
    "cat_pipeline = Pipeline([\n",
    "    ('imputer_cat', SimpleImputer(strategy='constant', fill_value='missing')),\n",
    "    ('1hot', OneHotEncoder(handle_unknown='ignore'))\n",
    "])"
   ]
  },
  {
   "cell_type": "code",
   "execution_count": 104,
   "metadata": {},
   "outputs": [],
   "source": [
    "# Complete pipeline\n",
    "preprocessor = ColumnTransformer([\n",
    "    ('num', num_pipeline, num_features),\n",
    "    ('cat', cat_pipeline, cat_features)\n",
    "])"
   ]
  },
  {
   "cell_type": "code",
   "execution_count": 105,
   "metadata": {},
   "outputs": [],
   "source": [
    "models={'logreg': LogisticRegression(max_iter=1000, random_state=RSEED,n_jobs=-1),\n",
    "       'tree': DecisionTreeClassifier(criterion = \"gini\", max_depth=3,random_state=RSEED),\n",
    "       'forest': RandomForestClassifier(random_state=RSEED, max_features='sqrt', n_jobs=-1),\n",
    "       'XGB' : XGBClassifier(random_state=RSEED,  n_jobs=-1),\n",
    "       'AdaBoost' : AdaBoostClassifier(random_state=RSEED)}"
   ]
  },
  {
   "cell_type": "markdown",
   "metadata": {},
   "source": [
    "### Predictive Modelling - Payout"
   ]
  },
  {
   "cell_type": "code",
   "execution_count": 68,
   "metadata": {},
   "outputs": [
    {
     "name": "stderr",
     "output_type": "stream",
     "text": [
      "[Parallel(n_jobs=1)]: Using backend SequentialBackend with 1 concurrent workers.\n",
      "[Parallel(n_jobs=1)]: Done   1 out of   1 | elapsed:    5.2s remaining:    0.0s\n",
      "[Parallel(n_jobs=1)]: Done   2 out of   2 | elapsed:    7.8s remaining:    0.0s\n",
      "[Parallel(n_jobs=1)]: Done   3 out of   3 | elapsed:   11.5s remaining:    0.0s\n",
      "[Parallel(n_jobs=1)]: Done   4 out of   4 | elapsed:   14.7s remaining:    0.0s\n",
      "[Parallel(n_jobs=1)]: Done   5 out of   5 | elapsed:   17.7s finished\n",
      "[Parallel(n_jobs=1)]: Using backend SequentialBackend with 1 concurrent workers.\n"
     ]
    },
    {
     "name": "stdout",
     "output_type": "stream",
     "text": [
      "Cross validation scores:\n",
      "-------------------------\n",
      "Accuracy: 0.91\n",
      "Recall: 0.92\n",
      "Precision: 0.93\n"
     ]
    },
    {
     "name": "stderr",
     "output_type": "stream",
     "text": [
      "[Parallel(n_jobs=1)]: Done   1 out of   1 | elapsed:    0.8s remaining:    0.0s\n",
      "[Parallel(n_jobs=1)]: Done   2 out of   2 | elapsed:    1.4s remaining:    0.0s\n",
      "[Parallel(n_jobs=1)]: Done   3 out of   3 | elapsed:    2.2s remaining:    0.0s\n",
      "[Parallel(n_jobs=1)]: Done   4 out of   4 | elapsed:    3.0s remaining:    0.0s\n",
      "[Parallel(n_jobs=1)]: Done   5 out of   5 | elapsed:    3.7s finished\n",
      "[Parallel(n_jobs=1)]: Using backend SequentialBackend with 1 concurrent workers.\n"
     ]
    },
    {
     "name": "stdout",
     "output_type": "stream",
     "text": [
      "Cross validation scores:\n",
      "-------------------------\n",
      "Accuracy: 0.92\n",
      "Recall: 0.96\n",
      "Precision: 0.91\n"
     ]
    },
    {
     "name": "stderr",
     "output_type": "stream",
     "text": [
      "[Parallel(n_jobs=1)]: Done   1 out of   1 | elapsed:  1.0min remaining:    0.0s\n",
      "[Parallel(n_jobs=1)]: Done   2 out of   2 | elapsed:  2.2min remaining:    0.0s\n",
      "[Parallel(n_jobs=1)]: Done   3 out of   3 | elapsed:  3.3min remaining:    0.0s\n",
      "[Parallel(n_jobs=1)]: Done   4 out of   4 | elapsed:  4.5min remaining:    0.0s\n",
      "[Parallel(n_jobs=1)]: Done   5 out of   5 | elapsed:  5.7min finished\n",
      "[Parallel(n_jobs=1)]: Using backend SequentialBackend with 1 concurrent workers.\n"
     ]
    },
    {
     "name": "stdout",
     "output_type": "stream",
     "text": [
      "Cross validation scores:\n",
      "-------------------------\n",
      "Accuracy: 0.95\n",
      "Recall: 0.97\n",
      "Precision: 0.94\n"
     ]
    },
    {
     "name": "stderr",
     "output_type": "stream",
     "text": [
      "[Parallel(n_jobs=1)]: Done   1 out of   1 | elapsed:    5.9s remaining:    0.0s\n",
      "[Parallel(n_jobs=1)]: Done   2 out of   2 | elapsed:   13.5s remaining:    0.0s\n",
      "[Parallel(n_jobs=1)]: Done   3 out of   3 | elapsed:   22.0s remaining:    0.0s\n",
      "[Parallel(n_jobs=1)]: Done   4 out of   4 | elapsed:   31.5s remaining:    0.0s\n",
      "[Parallel(n_jobs=1)]: Done   5 out of   5 | elapsed:   41.0s finished\n"
     ]
    },
    {
     "name": "stdout",
     "output_type": "stream",
     "text": [
      "Cross validation scores:\n",
      "-------------------------\n",
      "Accuracy: 0.94\n",
      "Recall: 0.97\n",
      "Precision: 0.94\n"
     ]
    },
    {
     "name": "stderr",
     "output_type": "stream",
     "text": [
      "[Parallel(n_jobs=1)]: Using backend SequentialBackend with 1 concurrent workers.\n",
      "[Parallel(n_jobs=1)]: Done   1 out of   1 | elapsed:    7.3s remaining:    0.0s\n",
      "[Parallel(n_jobs=1)]: Done   2 out of   2 | elapsed:   13.5s remaining:    0.0s\n",
      "[Parallel(n_jobs=1)]: Done   3 out of   3 | elapsed:   20.0s remaining:    0.0s\n",
      "[Parallel(n_jobs=1)]: Done   4 out of   4 | elapsed:   26.9s remaining:    0.0s\n"
     ]
    },
    {
     "name": "stdout",
     "output_type": "stream",
     "text": [
      "Cross validation scores:\n",
      "-------------------------\n",
      "Accuracy: 0.94\n",
      "Recall: 0.97\n",
      "Precision: 0.94\n"
     ]
    },
    {
     "name": "stderr",
     "output_type": "stream",
     "text": [
      "[Parallel(n_jobs=1)]: Done   5 out of   5 | elapsed:   33.3s finished\n"
     ]
    }
   ],
   "source": [
    "results = pd.DataFrame(columns=['Model','Accuracy','Recall','Precision'])\n",
    "i=0\n",
    "\n",
    "for m in models.items():\n",
    "    # Building a full pipeline with our preprocessor and a Classifier\n",
    "    pipe = Pipeline([\n",
    "        ('preprocessor', preprocessor),\n",
    "        (m[0], m[1])\n",
    "    ])\n",
    "\n",
    "    # Making predictions on the training set using cross validation as well as calculating the probabilities \n",
    "    y_train_predicted = cross_val_predict(pipe, X_train, y_train.values.ravel(), cv=5, verbose=5)\n",
    "\n",
    "    # Calculating the accuracy for the LogisticRegression Classifier\n",
    "    temp = pd.DataFrame({\n",
    "        'Model': m[0],\n",
    "        'Accuracy': accuracy_score(y_train, y_train_predicted),\n",
    "        'Recall' : recall_score(y_train, y_train_predicted),\n",
    "        'Precision': precision_score(y_train, y_train_predicted)\n",
    "    }, index=[i])\n",
    "    i+=1\n",
    "\n",
    "    results = pd.concat([results, temp])\n",
    "    print('Cross validation scores:')\n",
    "    print('-------------------------')\n",
    "    print(\"Accuracy: {:.2f}\".format(accuracy_score(y_train, y_train_predicted)))\n",
    "    print(\"Recall: {:.2f}\".format(recall_score(y_train, y_train_predicted)))\n",
    "    print(\"Precision: {:.2f}\".format(precision_score(y_train, y_train_predicted)))"
   ]
  },
  {
   "cell_type": "markdown",
   "metadata": {},
   "source": [
    "### Basis Model"
   ]
  },
  {
   "cell_type": "code",
   "execution_count": 67,
   "metadata": {},
   "outputs": [
    {
     "name": "stderr",
     "output_type": "stream",
     "text": [
      "[Parallel(n_jobs=1)]: Using backend SequentialBackend with 1 concurrent workers.\n",
      "[Parallel(n_jobs=1)]: Done   1 out of   1 | elapsed:    6.9s remaining:    0.0s\n",
      "[Parallel(n_jobs=1)]: Done   2 out of   2 | elapsed:   13.5s remaining:    0.0s\n",
      "[Parallel(n_jobs=1)]: Done   3 out of   3 | elapsed:   18.7s remaining:    0.0s\n",
      "[Parallel(n_jobs=1)]: Done   4 out of   4 | elapsed:   24.4s remaining:    0.0s\n",
      "[Parallel(n_jobs=1)]: Done   5 out of   5 | elapsed:   29.9s finished\n",
      "[Parallel(n_jobs=1)]: Using backend SequentialBackend with 1 concurrent workers.\n"
     ]
    },
    {
     "name": "stdout",
     "output_type": "stream",
     "text": [
      "Cross validation scores:\n",
      "-------------------------\n",
      "Accuracy: 1.00\n",
      "Recall: 1.00\n",
      "Precision: 1.00\n"
     ]
    },
    {
     "name": "stderr",
     "output_type": "stream",
     "text": [
      "[Parallel(n_jobs=1)]: Done   1 out of   1 | elapsed:  1.5min remaining:    0.0s\n",
      "[Parallel(n_jobs=1)]: Done   2 out of   2 | elapsed:  2.8min remaining:    0.0s\n",
      "[Parallel(n_jobs=1)]: Done   3 out of   3 | elapsed:  4.6min remaining:    0.0s\n",
      "[Parallel(n_jobs=1)]: Done   4 out of   4 | elapsed:  5.8min remaining:    0.0s\n",
      "[Parallel(n_jobs=1)]: Done   5 out of   5 | elapsed:  7.5min finished\n",
      "[Parallel(n_jobs=1)]: Using backend SequentialBackend with 1 concurrent workers.\n"
     ]
    },
    {
     "name": "stdout",
     "output_type": "stream",
     "text": [
      "Cross validation scores:\n",
      "-------------------------\n",
      "Accuracy: 1.00\n",
      "Recall: 1.00\n",
      "Precision: 1.00\n"
     ]
    },
    {
     "name": "stderr",
     "output_type": "stream",
     "text": [
      "[Parallel(n_jobs=1)]: Done   1 out of   1 | elapsed:  8.3min remaining:    0.0s\n",
      "[Parallel(n_jobs=1)]: Done   2 out of   2 | elapsed: 16.1min remaining:    0.0s\n",
      "[Parallel(n_jobs=1)]: Done   3 out of   3 | elapsed: 23.6min remaining:    0.0s\n",
      "[Parallel(n_jobs=1)]: Done   4 out of   4 | elapsed: 31.1min remaining:    0.0s\n",
      "[Parallel(n_jobs=1)]: Done   5 out of   5 | elapsed: 38.8min finished\n",
      "[Parallel(n_jobs=1)]: Using backend SequentialBackend with 1 concurrent workers.\n"
     ]
    },
    {
     "name": "stdout",
     "output_type": "stream",
     "text": [
      "Cross validation scores:\n",
      "-------------------------\n",
      "Accuracy: 1.00\n",
      "Recall: 1.00\n",
      "Precision: 1.00\n"
     ]
    },
    {
     "name": "stderr",
     "output_type": "stream",
     "text": [
      "[Parallel(n_jobs=1)]: Done   1 out of   1 | elapsed:   47.4s remaining:    0.0s\n",
      "[Parallel(n_jobs=1)]: Done   2 out of   2 | elapsed:  1.6min remaining:    0.0s\n",
      "[Parallel(n_jobs=1)]: Done   3 out of   3 | elapsed:  2.4min remaining:    0.0s\n",
      "[Parallel(n_jobs=1)]: Done   4 out of   4 | elapsed:  3.2min remaining:    0.0s\n",
      "[Parallel(n_jobs=1)]: Done   5 out of   5 | elapsed:  4.0min finished\n",
      "[Parallel(n_jobs=1)]: Using backend SequentialBackend with 1 concurrent workers.\n"
     ]
    },
    {
     "name": "stdout",
     "output_type": "stream",
     "text": [
      "Cross validation scores:\n",
      "-------------------------\n",
      "Accuracy: 1.00\n",
      "Recall: 1.00\n",
      "Precision: 1.00\n"
     ]
    },
    {
     "name": "stderr",
     "output_type": "stream",
     "text": [
      "[Parallel(n_jobs=1)]: Done   1 out of   1 | elapsed:  1.7min remaining:    0.0s\n",
      "[Parallel(n_jobs=1)]: Done   2 out of   2 | elapsed:  2.5min remaining:    0.0s\n",
      "[Parallel(n_jobs=1)]: Done   3 out of   3 | elapsed:  3.0min remaining:    0.0s\n",
      "[Parallel(n_jobs=1)]: Done   4 out of   4 | elapsed:  4.5min remaining:    0.0s\n"
     ]
    },
    {
     "name": "stdout",
     "output_type": "stream",
     "text": [
      "Cross validation scores:\n",
      "-------------------------\n",
      "Accuracy: 1.00\n",
      "Recall: 1.00\n",
      "Precision: 1.00\n"
     ]
    },
    {
     "name": "stderr",
     "output_type": "stream",
     "text": [
      "[Parallel(n_jobs=1)]: Done   5 out of   5 | elapsed:  6.3min finished\n"
     ]
    }
   ],
   "source": [
    "basis_features = ['backers',\n",
    "                  'launched_at',\n",
    "                  'state_changed_at',\n",
    "                  'slug',\n",
    "                  'is_starrable',\n",
    "                  'blurb',\n",
    "                  'name',\n",
    "                  'created_at',\n",
    "                  'spotlight',\n",
    "                  'disable_communication',\n",
    "                  'id',\n",
    "                  'staff_pick',\n",
    "                  'creator',\n",
    "                  'fx_rate',\n",
    "                  'location_id',\n",
    "                  'current_currency',\n",
    "                  'country',\n",
    "                  'usd_type',\n",
    "                  'goal',\n",
    "                  'static_usd_rate',\n",
    "                  'currency_symbol',\n",
    "                  'source_url',\n",
    "                  'currency_trailing_code',\n",
    "                  'currency',\n",
    "                  'deadline']        \n",
    "\n",
    "\n",
    "basis_X_train, basis_X_test, basis_y_train, basis_y_test = train_test_split(\n",
    "    df[basis_features], df['state_dum'], test_size=0.2, random_state=RSEED)\n",
    "\n",
    "basis_cat_features = list(basis_X_train.columns[basis_X_train.dtypes==object])\n",
    "basis_num_features = list(basis_X_train.columns[basis_X_train.dtypes!=object])\n",
    "\n",
    "\n",
    "basis_preprocessor = ColumnTransformer([\n",
    "    ('num', num_pipeline, basis_num_features),\n",
    "    ('cat', cat_pipeline, basis_cat_features)\n",
    "])\n",
    "\n",
    "results = pd.DataFrame(columns=['Model','Accuracy','Recall','Precision'])\n",
    "i=0\n",
    "\n",
    "for m in models.items():\n",
    "    # Building a full pipeline with our preprocessor and a Classifier\n",
    "    pipe = Pipeline([\n",
    "        ('preprocessor', basis_preprocessor),\n",
    "        (m[0], m[1])\n",
    "    ])\n",
    "\n",
    "    # Making predictions on the training set using cross validation as well as calculating the probabilities \n",
    "    basis_y_train_predicted = cross_val_predict(pipe, basis_X_train, basis_y_train.values.ravel(), cv=5, verbose=5)\n",
    "\n",
    "    # Calculating the accuracy for the LogisticRegression Classifier\n",
    "    temp = pd.DataFrame({\n",
    "        'Model': m[0],\n",
    "        'Accuracy': accuracy_score(basis_y_train, basis_y_train_predicted),\n",
    "        'Recall' : recall_score(basis_y_train, basis_y_train_predicted),\n",
    "        'Precision': precision_score(basis_y_train, basis_y_train_predicted)\n",
    "    }, index=[i])\n",
    "    i+=1\n",
    "\n",
    "    results = pd.concat([results, temp])\n",
    "    print('Cross validation scores:')\n",
    "    print('-------------------------')\n",
    "    print(\"Accuracy: {:.2f}\".format(accuracy_score(basis_y_train, basis_y_train_predicted)))\n",
    "    print(\"Recall: {:.2f}\".format(recall_score(basis_y_train, basis_y_train_predicted)))\n",
    "    print(\"Precision: {:.2f}\".format(precision_score(basis_y_train, basis_y_train_predicted)))"
   ]
  },
  {
   "cell_type": "markdown",
   "metadata": {},
   "source": [
    "### Predictive Modelling - State"
   ]
  },
  {
   "cell_type": "code",
   "execution_count": 106,
   "metadata": {},
   "outputs": [
    {
     "name": "stderr",
     "output_type": "stream",
     "text": [
      "[Parallel(n_jobs=1)]: Using backend SequentialBackend with 1 concurrent workers.\n",
      "[Parallel(n_jobs=1)]: Done   1 out of   1 | elapsed:    4.3s remaining:    0.0s\n",
      "[Parallel(n_jobs=1)]: Done   2 out of   2 | elapsed:    7.4s remaining:    0.0s\n",
      "[Parallel(n_jobs=1)]: Done   3 out of   3 | elapsed:   10.5s remaining:    0.0s\n",
      "[Parallel(n_jobs=1)]: Done   4 out of   4 | elapsed:   13.9s remaining:    0.0s\n",
      "[Parallel(n_jobs=1)]: Done   5 out of   5 | elapsed:   16.8s finished\n",
      "[Parallel(n_jobs=1)]: Using backend SequentialBackend with 1 concurrent workers.\n"
     ]
    },
    {
     "name": "stdout",
     "output_type": "stream",
     "text": [
      "Cross validation scores:\n",
      "-------------------------\n",
      "Accuracy: 0.91\n",
      "Recall: 0.92\n",
      "Precision: 0.93\n"
     ]
    },
    {
     "name": "stderr",
     "output_type": "stream",
     "text": [
      "[Parallel(n_jobs=1)]: Done   1 out of   1 | elapsed:    0.8s remaining:    0.0s\n",
      "[Parallel(n_jobs=1)]: Done   2 out of   2 | elapsed:    1.6s remaining:    0.0s\n",
      "[Parallel(n_jobs=1)]: Done   3 out of   3 | elapsed:    2.4s remaining:    0.0s\n",
      "[Parallel(n_jobs=1)]: Done   4 out of   4 | elapsed:    3.2s remaining:    0.0s\n",
      "[Parallel(n_jobs=1)]: Done   5 out of   5 | elapsed:    3.9s finished\n",
      "[Parallel(n_jobs=1)]: Using backend SequentialBackend with 1 concurrent workers.\n"
     ]
    },
    {
     "name": "stdout",
     "output_type": "stream",
     "text": [
      "Cross validation scores:\n",
      "-------------------------\n",
      "Accuracy: 0.92\n",
      "Recall: 0.96\n",
      "Precision: 0.91\n"
     ]
    },
    {
     "name": "stderr",
     "output_type": "stream",
     "text": [
      "[Parallel(n_jobs=1)]: Done   1 out of   1 | elapsed:  1.4min remaining:    0.0s\n",
      "[Parallel(n_jobs=1)]: Done   2 out of   2 | elapsed:  2.7min remaining:    0.0s\n",
      "[Parallel(n_jobs=1)]: Done   3 out of   3 | elapsed:  4.0min remaining:    0.0s\n",
      "[Parallel(n_jobs=1)]: Done   4 out of   4 | elapsed:  5.3min remaining:    0.0s\n",
      "[Parallel(n_jobs=1)]: Done   5 out of   5 | elapsed:  6.6min finished\n",
      "[Parallel(n_jobs=1)]: Using backend SequentialBackend with 1 concurrent workers.\n"
     ]
    },
    {
     "name": "stdout",
     "output_type": "stream",
     "text": [
      "Cross validation scores:\n",
      "-------------------------\n",
      "Accuracy: 0.95\n",
      "Recall: 0.97\n",
      "Precision: 0.94\n"
     ]
    },
    {
     "name": "stderr",
     "output_type": "stream",
     "text": [
      "[Parallel(n_jobs=1)]: Done   1 out of   1 | elapsed:    6.8s remaining:    0.0s\n",
      "[Parallel(n_jobs=1)]: Done   2 out of   2 | elapsed:   13.8s remaining:    0.0s\n",
      "[Parallel(n_jobs=1)]: Done   3 out of   3 | elapsed:   22.0s remaining:    0.0s\n",
      "[Parallel(n_jobs=1)]: Done   4 out of   4 | elapsed:   29.0s remaining:    0.0s\n",
      "[Parallel(n_jobs=1)]: Done   5 out of   5 | elapsed:   35.9s finished\n"
     ]
    },
    {
     "name": "stdout",
     "output_type": "stream",
     "text": [
      "Cross validation scores:\n",
      "-------------------------\n",
      "Accuracy: 0.94\n",
      "Recall: 0.97\n",
      "Precision: 0.94\n"
     ]
    },
    {
     "name": "stderr",
     "output_type": "stream",
     "text": [
      "[Parallel(n_jobs=1)]: Using backend SequentialBackend with 1 concurrent workers.\n",
      "[Parallel(n_jobs=1)]: Done   1 out of   1 | elapsed:    7.3s remaining:    0.0s\n",
      "[Parallel(n_jobs=1)]: Done   2 out of   2 | elapsed:   15.4s remaining:    0.0s\n",
      "[Parallel(n_jobs=1)]: Done   3 out of   3 | elapsed:   22.7s remaining:    0.0s\n",
      "[Parallel(n_jobs=1)]: Done   4 out of   4 | elapsed:   30.1s remaining:    0.0s\n"
     ]
    },
    {
     "name": "stdout",
     "output_type": "stream",
     "text": [
      "Cross validation scores:\n",
      "-------------------------\n",
      "Accuracy: 0.94\n",
      "Recall: 0.97\n",
      "Precision: 0.94\n"
     ]
    },
    {
     "name": "stderr",
     "output_type": "stream",
     "text": [
      "[Parallel(n_jobs=1)]: Done   5 out of   5 | elapsed:   37.4s finished\n"
     ]
    }
   ],
   "source": [
    "results = pd.DataFrame(columns=['Model','Accuracy','Recall','Precision'])\n",
    "i=0\n",
    "\n",
    "for m in models.items():\n",
    "    # Building a full pipeline with our preprocessor and a Classifier\n",
    "    pipe = Pipeline([\n",
    "        ('preprocessor', preprocessor),\n",
    "        (m[0], m[1])\n",
    "    ])\n",
    "\n",
    "    # Making predictions on the training set using cross validation as well as calculating the probabilities \n",
    "    y_train_predicted = cross_val_predict(pipe, X_train, y_train.values.ravel(), cv=5, verbose=5)\n",
    "\n",
    "    # Calculating the accuracy for the LogisticRegression Classifier\n",
    "    temp = pd.DataFrame({\n",
    "        'Model': m[0],\n",
    "        'Accuracy': accuracy_score(y_train, y_train_predicted),\n",
    "        'Recall' : recall_score(y_train, y_train_predicted),\n",
    "        'Precision': precision_score(y_train, y_train_predicted)\n",
    "    }, index=[i])\n",
    "    i+=1\n",
    "\n",
    "    results = pd.concat([results, temp])\n",
    "    print('Cross validation scores:')\n",
    "    print('-------------------------')\n",
    "    print(\"Accuracy: {:.2f}\".format(accuracy_score(y_train, y_train_predicted)))\n",
    "    print(\"Recall: {:.2f}\".format(recall_score(y_train, y_train_predicted)))\n",
    "    print(\"Precision: {:.2f}\".format(precision_score(y_train, y_train_predicted)))"
   ]
  },
  {
   "cell_type": "code",
   "execution_count": 107,
   "metadata": {},
   "outputs": [
    {
     "data": {
      "text/html": [
       "<div>\n",
       "<style scoped>\n",
       "    .dataframe tbody tr th:only-of-type {\n",
       "        vertical-align: middle;\n",
       "    }\n",
       "\n",
       "    .dataframe tbody tr th {\n",
       "        vertical-align: top;\n",
       "    }\n",
       "\n",
       "    .dataframe thead th {\n",
       "        text-align: right;\n",
       "    }\n",
       "</style>\n",
       "<table border=\"1\" class=\"dataframe\">\n",
       "  <thead>\n",
       "    <tr style=\"text-align: right;\">\n",
       "      <th></th>\n",
       "      <th>Model</th>\n",
       "      <th>Accuracy</th>\n",
       "      <th>Recall</th>\n",
       "      <th>Precision</th>\n",
       "    </tr>\n",
       "  </thead>\n",
       "  <tbody>\n",
       "    <tr>\n",
       "      <th>0</th>\n",
       "      <td>logreg</td>\n",
       "      <td>0.91</td>\n",
       "      <td>0.92</td>\n",
       "      <td>0.93</td>\n",
       "    </tr>\n",
       "    <tr>\n",
       "      <th>1</th>\n",
       "      <td>tree</td>\n",
       "      <td>0.92</td>\n",
       "      <td>0.96</td>\n",
       "      <td>0.91</td>\n",
       "    </tr>\n",
       "    <tr>\n",
       "      <th>2</th>\n",
       "      <td>forest</td>\n",
       "      <td>0.95</td>\n",
       "      <td>0.97</td>\n",
       "      <td>0.94</td>\n",
       "    </tr>\n",
       "    <tr>\n",
       "      <th>3</th>\n",
       "      <td>XGB</td>\n",
       "      <td>0.94</td>\n",
       "      <td>0.97</td>\n",
       "      <td>0.94</td>\n",
       "    </tr>\n",
       "    <tr>\n",
       "      <th>4</th>\n",
       "      <td>AdaBoost</td>\n",
       "      <td>0.94</td>\n",
       "      <td>0.97</td>\n",
       "      <td>0.94</td>\n",
       "    </tr>\n",
       "  </tbody>\n",
       "</table>\n",
       "</div>"
      ],
      "text/plain": [
       "      Model  Accuracy  Recall  Precision\n",
       "0    logreg      0.91    0.92       0.93\n",
       "1      tree      0.92    0.96       0.91\n",
       "2    forest      0.95    0.97       0.94\n",
       "3       XGB      0.94    0.97       0.94\n",
       "4  AdaBoost      0.94    0.97       0.94"
      ]
     },
     "execution_count": 107,
     "metadata": {},
     "output_type": "execute_result"
    }
   ],
   "source": [
    "results.round(2)"
   ]
  },
  {
   "cell_type": "markdown",
   "metadata": {},
   "source": [
    "By limiting the amount of features the overfitting seen in th basis model could be reduced."
   ]
  },
  {
   "cell_type": "markdown",
   "metadata": {},
   "source": [
    "### Feature Imoportance"
   ]
  },
  {
   "cell_type": "code",
   "execution_count": null,
   "metadata": {},
   "outputs": [],
   "source": [
    "pipe = Pipeline([\n",
    "        ('preprocessor', preprocessor),\n",
    "        ('forest', RandomForestClassifier(random_state=RSEED, max_features='sqrt', n_jobs=-1))\n",
    "    ])"
   ]
  },
  {
   "cell_type": "code",
   "execution_count": null,
   "metadata": {},
   "outputs": [],
   "source": [
    "ohe = (pipe.named_steps['preprocessor']\n",
    "         .named_transformers_['cat']\n",
    "         .named_steps['1hot'])\n",
    "feature_names = ohe.get_feature_names(input_features=categorical_columns)\n",
    "feature_names = np.r_[feature_names, numerical_columns]\n",
    "\n",
    "tree_feature_importances = (\n",
    "    rf.named_steps['forest'].feature_importances_)\n",
    "sorted_idx = tree_feature_importances.argsort()\n",
    "\n",
    "y_ticks = np.arange(0, len(feature_names))\n",
    "fig, ax = plt.subplots()\n",
    "ax.barh(y_ticks, tree_feature_importances[sorted_idx])\n",
    "ax.set_yticklabels(feature_names[sorted_idx])\n",
    "ax.set_yticks(y_ticks)\n",
    "ax.set_title(\"Random Forest Feature Importances (MDI)\")\n",
    "fig.tight_layout()\n",
    "plt.show()"
   ]
  },
  {
   "cell_type": "markdown",
   "metadata": {},
   "source": [
    "### Optimizing via Grid Search"
   ]
  },
  {
   "cell_type": "code",
   "execution_count": 108,
   "metadata": {},
   "outputs": [],
   "source": [
    "# Defining parameter space for grid-search. Since we want to access the classifier step in our pipeline \n",
    "# we have to add 'logreg__' infront of the corresponding hyperparameters. \n",
    "pipe = Pipeline([\n",
    "        ('preprocessor', preprocessor),\n",
    "        ('forest', RandomForestClassifier(random_state=RSEED, max_features='sqrt', n_jobs=-1))\n",
    "    ])\n",
    "\n",
    "param_logreg = {'logreg__penalty':('l1','l2'),\n",
    "                'logreg__C': [0.01, 0.1, 1, 10, 100]\n",
    "               }\n",
    "\n",
    "\n",
    "grid_logreg = GridSearchCV(pipe, param_grid=param_logreg, cv=3, scoring='accuracy', \n",
    "                           verbose=5, n_jobs=-1)"
   ]
  },
  {
   "cell_type": "code",
   "execution_count": 109,
   "metadata": {},
   "outputs": [],
   "source": [
    "param_grid = {\n",
    "    'forest__min_samples_split': [3, 5, 10], \n",
    "    'forest__n_estimators' : [100, 300],\n",
    "    'forest__max_depth': [3, 5, 15, 25],\n",
    "    'forest__max_features': [3, 5, 10, 20]}\n",
    "\n",
    "scorers = {\n",
    "    'precision_score': make_scorer(precision_score),\n",
    "    'recall_score': make_scorer(recall_score),\n",
    "    'accuracy_score': make_scorer(accuracy_score)}"
   ]
  },
  {
   "cell_type": "code",
   "execution_count": 114,
   "metadata": {},
   "outputs": [],
   "source": [
    "def grid_search_wrapper(refit_score='precision_score'):\n",
    "    \"\"\"\n",
    "    fits a GridSearchCV classifier using refit_score for optimization\n",
    "    prints classifier performance metrics\n",
    "    \"\"\"\n",
    "    skf = StratifiedKFold(n_splits=10)\n",
    "    grid_search = GridSearchCV(pipe, param_grid, scoring=scorers, refit=refit_score,\n",
    "                           cv=skf, return_train_score=True, n_jobs=-1, verbose=10)\n",
    "    grid_search.fit(X_train, y_train)\n",
    "    return grid_search"
   ]
  },
  {
   "cell_type": "code",
   "execution_count": 115,
   "metadata": {},
   "outputs": [
    {
     "ename": "NameError",
     "evalue": "name 'grid_search' is not defined",
     "output_type": "error",
     "traceback": [
      "\u001b[0;31m---------------------------------------------------------------------------\u001b[0m",
      "\u001b[0;31mNameError\u001b[0m                                 Traceback (most recent call last)",
      "\u001b[0;32m<ipython-input-115-fd3867854063>\u001b[0m in \u001b[0;36m<module>\u001b[0;34m\u001b[0m\n\u001b[1;32m      1\u001b[0m \u001b[0;31m# make the predictions\u001b[0m\u001b[0;34m\u001b[0m\u001b[0;34m\u001b[0m\u001b[0;34m\u001b[0m\u001b[0m\n\u001b[0;32m----> 2\u001b[0;31m \u001b[0my_pred\u001b[0m \u001b[0;34m=\u001b[0m \u001b[0mgrid_search\u001b[0m\u001b[0;34m.\u001b[0m\u001b[0mpredict\u001b[0m\u001b[0;34m(\u001b[0m\u001b[0mX_test\u001b[0m\u001b[0;34m.\u001b[0m\u001b[0mvalues\u001b[0m\u001b[0;34m)\u001b[0m\u001b[0;34m\u001b[0m\u001b[0;34m\u001b[0m\u001b[0m\n\u001b[0m\u001b[1;32m      3\u001b[0m \u001b[0;34m\u001b[0m\u001b[0m\n\u001b[1;32m      4\u001b[0m \u001b[0mprint\u001b[0m\u001b[0;34m(\u001b[0m\u001b[0;34m'Best params for {}'\u001b[0m\u001b[0;34m.\u001b[0m\u001b[0mformat\u001b[0m\u001b[0;34m(\u001b[0m\u001b[0mrefit_score\u001b[0m\u001b[0;34m)\u001b[0m\u001b[0;34m)\u001b[0m\u001b[0;34m\u001b[0m\u001b[0;34m\u001b[0m\u001b[0m\n\u001b[1;32m      5\u001b[0m \u001b[0mprint\u001b[0m\u001b[0;34m(\u001b[0m\u001b[0mgrid_search\u001b[0m\u001b[0;34m.\u001b[0m\u001b[0mbest_params_\u001b[0m\u001b[0;34m)\u001b[0m\u001b[0;34m\u001b[0m\u001b[0;34m\u001b[0m\u001b[0m\n",
      "\u001b[0;31mNameError\u001b[0m: name 'grid_search' is not defined"
     ]
    }
   ],
   "source": [
    "    # make the predictions\n",
    "    y_pred = grid_search.predict(X_test.values)\n",
    "\n",
    "    print('Best params for {}'.format(refit_score))\n",
    "    print(grid_search.best_params_)\n",
    "\n",
    "    # confusion matrix on the test data.\n",
    "    print('\\nConfusion matrix of Random Forest optimized for {} on the test data:'.format(refit_score))\n",
    "    print(pd.DataFrame(confusion_matrix(y_test, y_pred),\n",
    "                 columns=['pred_neg', 'pred_pos'], index=['neg', 'pos']))\n",
    "    return grid_search"
   ]
  },
  {
   "cell_type": "code",
   "execution_count": null,
   "metadata": {},
   "outputs": [
    {
     "name": "stdout",
     "output_type": "stream",
     "text": [
      "Fitting 10 folds for each of 96 candidates, totalling 960 fits\n"
     ]
    },
    {
     "name": "stderr",
     "output_type": "stream",
     "text": [
      "[Parallel(n_jobs=-1)]: Using backend LokyBackend with 4 concurrent workers.\n",
      "[Parallel(n_jobs=-1)]: Done   5 tasks      | elapsed:   23.9s\n",
      "[Parallel(n_jobs=-1)]: Done  10 tasks      | elapsed:   39.4s\n",
      "[Parallel(n_jobs=-1)]: Done  17 tasks      | elapsed:  1.7min\n",
      "[Parallel(n_jobs=-1)]: Done  24 tasks      | elapsed:  2.1min\n",
      "[Parallel(n_jobs=-1)]: Done  33 tasks      | elapsed:  2.9min\n",
      "[Parallel(n_jobs=-1)]: Done  42 tasks      | elapsed:  4.0min\n",
      "[Parallel(n_jobs=-1)]: Done  53 tasks      | elapsed:  4.9min\n",
      "[Parallel(n_jobs=-1)]: Done  64 tasks      | elapsed:  6.1min\n",
      "[Parallel(n_jobs=-1)]: Done  77 tasks      | elapsed:  7.8min\n",
      "[Parallel(n_jobs=-1)]: Done  90 tasks      | elapsed:  8.9min\n",
      "[Parallel(n_jobs=-1)]: Done 105 tasks      | elapsed: 11.0min\n",
      "[Parallel(n_jobs=-1)]: Done 120 tasks      | elapsed: 13.0min\n",
      "[Parallel(n_jobs=-1)]: Done 137 tasks      | elapsed: 15.9min\n",
      "[Parallel(n_jobs=-1)]: Done 154 tasks      | elapsed: 18.6min\n",
      "[Parallel(n_jobs=-1)]: Done 173 tasks      | elapsed: 22.2min\n",
      "[Parallel(n_jobs=-1)]: Done 192 tasks      | elapsed: 27.1min\n",
      "[Parallel(n_jobs=-1)]: Done 213 tasks      | elapsed: 33.9min\n",
      "[Parallel(n_jobs=-1)]: Done 234 tasks      | elapsed: 40.7min\n",
      "[Parallel(n_jobs=-1)]: Done 257 tasks      | elapsed: 45.8min\n"
     ]
    }
   ],
   "source": [
    "grid_search_wrapper(refit_score='precision_score')"
   ]
  },
  {
   "cell_type": "code",
   "execution_count": 106,
   "metadata": {},
   "outputs": [
    {
     "ename": "NameError",
     "evalue": "name 'grid_logreg' is not defined",
     "output_type": "error",
     "traceback": [
      "\u001b[0;31m---------------------------------------------------------------------------\u001b[0m",
      "\u001b[0;31mNameError\u001b[0m                                 Traceback (most recent call last)",
      "\u001b[0;32m<ipython-input-106-b5346f56ebee>\u001b[0m in \u001b[0;36m<module>\u001b[0;34m\u001b[0m\n\u001b[1;32m      1\u001b[0m \u001b[0;31m# Show best parameters\u001b[0m\u001b[0;34m\u001b[0m\u001b[0;34m\u001b[0m\u001b[0;34m\u001b[0m\u001b[0m\n\u001b[0;32m----> 2\u001b[0;31m \u001b[0mprint\u001b[0m\u001b[0;34m(\u001b[0m\u001b[0;34m'Best score:\\n{:.2f}'\u001b[0m\u001b[0;34m.\u001b[0m\u001b[0mformat\u001b[0m\u001b[0;34m(\u001b[0m\u001b[0mgrid_logreg\u001b[0m\u001b[0;34m.\u001b[0m\u001b[0mbest_score_\u001b[0m\u001b[0;34m)\u001b[0m\u001b[0;34m)\u001b[0m\u001b[0;34m\u001b[0m\u001b[0;34m\u001b[0m\u001b[0m\n\u001b[0m\u001b[1;32m      3\u001b[0m \u001b[0mprint\u001b[0m\u001b[0;34m(\u001b[0m\u001b[0;34m\"Best parameters:\\n{}\"\u001b[0m\u001b[0;34m.\u001b[0m\u001b[0mformat\u001b[0m\u001b[0;34m(\u001b[0m\u001b[0mgrid_logreg\u001b[0m\u001b[0;34m.\u001b[0m\u001b[0mbest_params_\u001b[0m\u001b[0;34m)\u001b[0m\u001b[0;34m)\u001b[0m\u001b[0;34m\u001b[0m\u001b[0;34m\u001b[0m\u001b[0m\n",
      "\u001b[0;31mNameError\u001b[0m: name 'grid_logreg' is not defined"
     ]
    }
   ],
   "source": [
    "# Show best parameters\n",
    "print('Best score:\\n{:.2f}'.format(grid_logreg.best_score_))\n",
    "print(\"Best parameters:\\n{}\".format(grid_logreg.best_params_))"
   ]
  },
  {
   "cell_type": "code",
   "execution_count": 105,
   "metadata": {},
   "outputs": [
    {
     "ename": "AttributeError",
     "evalue": "'GridSearchCV' object has no attribute 'best_estimator_'",
     "output_type": "error",
     "traceback": [
      "\u001b[0;31m---------------------------------------------------------------------------\u001b[0m",
      "\u001b[0;31mAttributeError\u001b[0m                            Traceback (most recent call last)",
      "\u001b[0;32m<ipython-input-105-1145f8184f46>\u001b[0m in \u001b[0;36m<module>\u001b[0;34m\u001b[0m\n\u001b[1;32m      1\u001b[0m \u001b[0;31m# Save best model as best_model\u001b[0m\u001b[0;34m\u001b[0m\u001b[0;34m\u001b[0m\u001b[0;34m\u001b[0m\u001b[0m\n\u001b[0;32m----> 2\u001b[0;31m \u001b[0mbest_model\u001b[0m \u001b[0;34m=\u001b[0m \u001b[0mgrid\u001b[0m\u001b[0;34m.\u001b[0m\u001b[0mbest_estimator_\u001b[0m\u001b[0;34m[\u001b[0m\u001b[0;34m'logreg'\u001b[0m\u001b[0;34m]\u001b[0m\u001b[0;34m\u001b[0m\u001b[0;34m\u001b[0m\u001b[0m\n\u001b[0m",
      "\u001b[0;31mAttributeError\u001b[0m: 'GridSearchCV' object has no attribute 'best_estimator_'"
     ]
    }
   ],
   "source": [
    "# Save best model as best_model\n",
    "best_model = grid.best_estimator_['logreg']"
   ]
  },
  {
   "cell_type": "markdown",
   "metadata": {},
   "source": [
    "### Test "
   ]
  },
  {
   "cell_type": "code",
   "execution_count": 99,
   "metadata": {},
   "outputs": [],
   "source": [
    "from sklearn.model_selection import GridSearchCV\n",
    "from sklearn.metrics import make_scorer "
   ]
  },
  {
   "cell_type": "code",
   "execution_count": 100,
   "metadata": {},
   "outputs": [
    {
     "ename": "NameError",
     "evalue": "name 'fbeta_score' is not defined",
     "output_type": "error",
     "traceback": [
      "\u001b[0;31m---------------------------------------------------------------------------\u001b[0m",
      "\u001b[0;31mNameError\u001b[0m                                 Traceback (most recent call last)",
      "\u001b[0;32m<ipython-input-100-425acfd95a61>\u001b[0m in \u001b[0;36m<module>\u001b[0;34m\u001b[0m\n\u001b[1;32m     10\u001b[0m \u001b[0;34m\u001b[0m\u001b[0m\n\u001b[1;32m     11\u001b[0m \u001b[0;31m# TODO: Make an fbeta_score scoring object\u001b[0m\u001b[0;34m\u001b[0m\u001b[0;34m\u001b[0m\u001b[0;34m\u001b[0m\u001b[0m\n\u001b[0;32m---> 12\u001b[0;31m \u001b[0mscorer\u001b[0m \u001b[0;34m=\u001b[0m \u001b[0mmake_scorer\u001b[0m\u001b[0;34m(\u001b[0m\u001b[0mfbeta_score\u001b[0m\u001b[0;34m,\u001b[0m\u001b[0mbeta\u001b[0m\u001b[0;34m=\u001b[0m\u001b[0;36m0.5\u001b[0m\u001b[0;34m)\u001b[0m\u001b[0;34m\u001b[0m\u001b[0;34m\u001b[0m\u001b[0m\n\u001b[0m\u001b[1;32m     13\u001b[0m \u001b[0;34m\u001b[0m\u001b[0m\n\u001b[1;32m     14\u001b[0m \u001b[0;31m# TODO: Perform grid search on the classifier using 'scorer' as the scoring method\u001b[0m\u001b[0;34m\u001b[0m\u001b[0;34m\u001b[0m\u001b[0;34m\u001b[0m\u001b[0m\n",
      "\u001b[0;31mNameError\u001b[0m: name 'fbeta_score' is not defined"
     ]
    }
   ],
   "source": [
    "# TODO: Initialize the classifier\n",
    "clf = AdaBoostClassifier(base_estimator=DecisionTreeClassifier()) \n",
    "\n",
    "# TODO: Create the parameters list you wish to tune\n",
    "parameters = {'n_estimators':[50, 120],                \n",
    "              'learning_rate':[0.1, 0.5, 1.],               \n",
    "              'base_estimator__min_samples_split' : np.arange(2, 8, 2),               \n",
    "              'base_estimator__max_depth' : np.arange(1, 4, 1)              \n",
    "             } \n",
    "\n",
    "# TODO: Make an fbeta_score scoring object\n",
    "scorer = make_scorer(fbeta_score,beta=0.5) \n",
    "\n",
    "# TODO: Perform grid search on the classifier using 'scorer' as the scoring method\n",
    "grid_obj = GridSearchCV(clf, parameters,scorer) \n",
    "\n",
    "# TODO: Fit the grid search object to the training data and find the optimal parameters\n",
    "grid_fit = grid_obj.fit(X_train,y_train) \n",
    "\n",
    "# Get the estimator\n",
    "best_clf = grid_fit.best_estimator_ \n",
    "\n",
    "# Make predictions using the unoptimized and model\n",
    "predictions = (clf.fit(X_train, y_train)).predict(X_test)\n",
    "best_predictions = best_clf.predict(X_test) \n",
    "\n",
    "# Report the before-and-afterscores\n",
    "print(\"Unoptimized model\\n------\")\n",
    "print(\"Accuracy score on testing data: {:.4f}\".format(accuracy_score(y_test, predictions)))\n",
    "print(\"F-score on testing data: {:.4f}\".format(fbeta_score(y_test, predictions, beta = 0.5)))\n",
    "print(\"\\nOptimized Model\\n------\")\n",
    "print(\"Final accuracy score on the testing data: {:.4f}\".format(accuracy_score(y_test, best_predictions)))\n",
    "print(\"Final F-score on the testing data: {:.4f}\".format(fbeta_score(y_test, best_predictions, beta = 0.5)))\n",
    "print(best_clf)"
   ]
  },
  {
   "cell_type": "markdown",
   "metadata": {},
   "source": [
    "### Final Evaluation"
   ]
  },
  {
   "cell_type": "code",
   "execution_count": 101,
   "metadata": {},
   "outputs": [],
   "source": [
    "# Preparing the test set \n",
    "preprocessor.fit(X_train)\n",
    "X_test_preprocessed = preprocessor.transform(X_test)"
   ]
  },
  {
   "cell_type": "code",
   "execution_count": 102,
   "metadata": {},
   "outputs": [
    {
     "ename": "NameError",
     "evalue": "name 'best_model' is not defined",
     "output_type": "error",
     "traceback": [
      "\u001b[0;31m---------------------------------------------------------------------------\u001b[0m",
      "\u001b[0;31mNameError\u001b[0m                                 Traceback (most recent call last)",
      "\u001b[0;32m<ipython-input-102-d90f9d8ba6c4>\u001b[0m in \u001b[0;36m<module>\u001b[0;34m\u001b[0m\n\u001b[1;32m      1\u001b[0m \u001b[0;31m# Calculating the accuracy, recall and precision for the test set with the optimized model\u001b[0m\u001b[0;34m\u001b[0m\u001b[0;34m\u001b[0m\u001b[0;34m\u001b[0m\u001b[0m\n\u001b[0;32m----> 2\u001b[0;31m \u001b[0my_test_predicted\u001b[0m \u001b[0;34m=\u001b[0m \u001b[0mbest_model\u001b[0m\u001b[0;34m.\u001b[0m\u001b[0mpredict\u001b[0m\u001b[0;34m(\u001b[0m\u001b[0mX_test_preprocessed\u001b[0m\u001b[0;34m)\u001b[0m\u001b[0;34m\u001b[0m\u001b[0;34m\u001b[0m\u001b[0m\n\u001b[0m\u001b[1;32m      3\u001b[0m \u001b[0;34m\u001b[0m\u001b[0m\n\u001b[1;32m      4\u001b[0m \u001b[0mprint\u001b[0m\u001b[0;34m(\u001b[0m\u001b[0;34m\"Accuracy: {:.2f}\"\u001b[0m\u001b[0;34m.\u001b[0m\u001b[0mformat\u001b[0m\u001b[0;34m(\u001b[0m\u001b[0maccuracy_score\u001b[0m\u001b[0;34m(\u001b[0m\u001b[0my_test\u001b[0m\u001b[0;34m,\u001b[0m \u001b[0my_test_predicted\u001b[0m\u001b[0;34m)\u001b[0m\u001b[0;34m)\u001b[0m\u001b[0;34m)\u001b[0m\u001b[0;34m\u001b[0m\u001b[0;34m\u001b[0m\u001b[0m\n\u001b[1;32m      5\u001b[0m \u001b[0mprint\u001b[0m\u001b[0;34m(\u001b[0m\u001b[0;34m\"Recall: {:.2f}\"\u001b[0m\u001b[0;34m.\u001b[0m\u001b[0mformat\u001b[0m\u001b[0;34m(\u001b[0m\u001b[0mrecall_score\u001b[0m\u001b[0;34m(\u001b[0m\u001b[0my_test\u001b[0m\u001b[0;34m,\u001b[0m \u001b[0my_test_predicted\u001b[0m\u001b[0;34m)\u001b[0m\u001b[0;34m)\u001b[0m\u001b[0;34m)\u001b[0m\u001b[0;34m\u001b[0m\u001b[0;34m\u001b[0m\u001b[0m\n",
      "\u001b[0;31mNameError\u001b[0m: name 'best_model' is not defined"
     ]
    }
   ],
   "source": [
    "# Calculating the accuracy, recall and precision for the test set with the optimized model\n",
    "y_test_predicted = best_model.predict(X_test_preprocessed)\n",
    "\n",
    "print(\"Accuracy: {:.2f}\".format(accuracy_score(y_test, y_test_predicted)))\n",
    "print(\"Recall: {:.2f}\".format(recall_score(y_test, y_test_predicted)))\n",
    "print(\"Precision: {:.2f}\".format(precision_score(y_test, y_test_predicted)))"
   ]
  },
  {
   "cell_type": "code",
   "execution_count": null,
   "metadata": {},
   "outputs": [],
   "source": []
  },
  {
   "cell_type": "code",
   "execution_count": null,
   "metadata": {},
   "outputs": [],
   "source": []
  },
  {
   "cell_type": "code",
   "execution_count": null,
   "metadata": {},
   "outputs": [],
   "source": []
  },
  {
   "cell_type": "code",
   "execution_count": null,
   "metadata": {},
   "outputs": [],
   "source": []
  }
 ],
 "metadata": {
  "kernelspec": {
   "display_name": "Python [conda env:nf] *",
   "language": "python",
   "name": "conda-env-nf-py"
  },
  "language_info": {
   "codemirror_mode": {
    "name": "ipython",
    "version": 3
   },
   "file_extension": ".py",
   "mimetype": "text/x-python",
   "name": "python",
   "nbconvert_exporter": "python",
   "pygments_lexer": "ipython3",
   "version": "3.6.10"
  },
  "toc": {
   "base_numbering": 1,
   "nav_menu": {},
   "number_sections": true,
   "sideBar": true,
   "skip_h1_title": false,
   "title_cell": "Table of Contents",
   "title_sidebar": "Contents",
   "toc_cell": false,
   "toc_position": {
    "height": "calc(100% - 180px)",
    "left": "10px",
    "top": "150px",
    "width": "270.391px"
   },
   "toc_section_display": true,
   "toc_window_display": true
  },
  "varInspector": {
   "cols": {
    "lenName": 16,
    "lenType": 16,
    "lenVar": 40
   },
   "kernels_config": {
    "python": {
     "delete_cmd_postfix": "",
     "delete_cmd_prefix": "del ",
     "library": "var_list.py",
     "varRefreshCmd": "print(var_dic_list())"
    },
    "r": {
     "delete_cmd_postfix": ") ",
     "delete_cmd_prefix": "rm(",
     "library": "var_list.r",
     "varRefreshCmd": "cat(var_dic_list()) "
    }
   },
   "types_to_exclude": [
    "module",
    "function",
    "builtin_function_or_method",
    "instance",
    "_Feature"
   ],
   "window_display": false
  }
 },
 "nbformat": 4,
 "nbformat_minor": 4
}
